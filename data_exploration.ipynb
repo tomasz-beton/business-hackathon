{
 "cells": [
  {
   "cell_type": "code",
   "execution_count": 95,
   "metadata": {
    "collapsed": true
   },
   "outputs": [],
   "source": [
    "import pandas as pd\n",
    "import numpy as np\n",
    "import seaborn as sns\n",
    "from file_utils import load_dataframes"
   ]
  },
  {
   "cell_type": "code",
   "execution_count": 192,
   "metadata": {
    "collapsed": false
   },
   "outputs": [
    {
     "name": "stdout",
     "output_type": "stream",
     "text": [
      "<class 'pandas.core.frame.DataFrame'>\n",
      "MultiIndex: 49147 entries, (1, 61, 19) to (49688, 73, 11)\n",
      "Data columns (total 1 columns):\n",
      " #   Column     Non-Null Count  Dtype \n",
      "---  ------     --------------  ----- \n",
      " 0   item_name  47607 non-null  object\n",
      "dtypes: object(1)\n",
      "memory usage: 2.1+ MB\n"
     ]
    },
    {
     "data": {
      "text/plain": "                                                                   item_name\nitem_id alley_id category                                                   \n1       61       19                               Chocolate Sandwich Cookies\n2       104      13                                         All-Seasons Salt\n3       94       7                      Robust Golden Unsweetened Oolong Tea\n4       38       1         Smart Ones Classic Favorites Mini Rigatoni Wit...\n5       5        13                                Green Chile Anytime Sauce",
      "text/html": "<div>\n<style scoped>\n    .dataframe tbody tr th:only-of-type {\n        vertical-align: middle;\n    }\n\n    .dataframe tbody tr th {\n        vertical-align: top;\n    }\n\n    .dataframe thead th {\n        text-align: right;\n    }\n</style>\n<table border=\"1\" class=\"dataframe\">\n  <thead>\n    <tr style=\"text-align: right;\">\n      <th></th>\n      <th></th>\n      <th></th>\n      <th>item_name</th>\n    </tr>\n    <tr>\n      <th>item_id</th>\n      <th>alley_id</th>\n      <th>category</th>\n      <th></th>\n    </tr>\n  </thead>\n  <tbody>\n    <tr>\n      <th>1</th>\n      <th>61</th>\n      <th>19</th>\n      <td>Chocolate Sandwich Cookies</td>\n    </tr>\n    <tr>\n      <th>2</th>\n      <th>104</th>\n      <th>13</th>\n      <td>All-Seasons Salt</td>\n    </tr>\n    <tr>\n      <th>3</th>\n      <th>94</th>\n      <th>7</th>\n      <td>Robust Golden Unsweetened Oolong Tea</td>\n    </tr>\n    <tr>\n      <th>4</th>\n      <th>38</th>\n      <th>1</th>\n      <td>Smart Ones Classic Favorites Mini Rigatoni Wit...</td>\n    </tr>\n    <tr>\n      <th>5</th>\n      <th>5</th>\n      <th>13</th>\n      <td>Green Chile Anytime Sauce</td>\n    </tr>\n  </tbody>\n</table>\n</div>"
     },
     "execution_count": 192,
     "metadata": {},
     "output_type": "execute_result"
    }
   ],
   "source": [
    "items = pd.read_csv('data/items.csv', na_values='unknown', dtype={'item_id':'Int64', 'alley_id':'Int64', 'category': 'Int64'}, index_col=['item_id', 'alley_id', 'category'])\n",
    "items.drop(columns='Unnamed: 0', inplace=True)\n",
    "items.info()\n",
    "items.head()"
   ]
  },
  {
   "cell_type": "code",
   "execution_count": 167,
   "metadata": {
    "collapsed": false
   },
   "outputs": [
    {
     "name": "stdout",
     "output_type": "stream",
     "text": [
      "<class 'pandas.core.frame.DataFrame'>\n",
      "MultiIndex: 49147 entries, (nan, 61.0) to (nan, 73.0)\n",
      "Data columns (total 2 columns):\n",
      " #   Column     Non-Null Count  Dtype  \n",
      "---  ------     --------------  -----  \n",
      " 0   item_name  47607 non-null  object \n",
      " 1   category   47622 non-null  float64\n",
      "dtypes: float64(1), object(1)\n",
      "memory usage: 917.2+ KB\n",
      "                                                          item_name  category\n",
      "item_id alley_id                                                             \n",
      "NaN     61.0                             Chocolate Sandwich Cookies      19.0\n",
      "        104.0                                      All-Seasons Salt      13.0\n",
      "        94.0                   Robust Golden Unsweetened Oolong Tea       7.0\n",
      "        38.0      Smart Ones Classic Favorites Mini Rigatoni Wit...       1.0\n",
      "        5.0                               Green Chile Anytime Sauce      13.0\n",
      "MultiIndex([(nan,  61.0),\n",
      "            (nan, 104.0),\n",
      "            (nan,  94.0),\n",
      "            (nan,  38.0),\n",
      "            (nan,   5.0),\n",
      "            (nan,  11.0),\n",
      "            (nan,  98.0),\n",
      "            (nan, 116.0),\n",
      "            (nan,   nan),\n",
      "            (nan, 115.0),\n",
      "            ...\n",
      "            (nan,  61.0),\n",
      "            (nan,  89.0),\n",
      "            (nan,  38.0),\n",
      "            (nan,  98.0),\n",
      "            (nan,  83.0),\n",
      "            (nan, 124.0),\n",
      "            (nan,  42.0),\n",
      "            (nan, 112.0),\n",
      "            (nan,  41.0),\n",
      "            (nan,  73.0)],\n",
      "           names=['item_id', 'alley_id'], length=49147)\n"
     ]
    }
   ],
   "source": [
    "items.info()\n",
    "print(items.head())\n",
    "print(items.index)"
   ]
  },
  {
   "cell_type": "code",
   "execution_count": 193,
   "metadata": {
    "collapsed": false
   },
   "outputs": [],
   "source": [
    "categories = pd.read_csv('data/categories.csv', index_col='category_id')\n",
    "categories.drop(columns='Unnamed: 0', inplace=True)"
   ]
  },
  {
   "cell_type": "code",
   "execution_count": 194,
   "outputs": [
    {
     "data": {
      "text/plain": "            category\ncategory_id         \n1             frozen\n2              other\n3             bakery\n4            produce\n5            alcohol",
      "text/html": "<div>\n<style scoped>\n    .dataframe tbody tr th:only-of-type {\n        vertical-align: middle;\n    }\n\n    .dataframe tbody tr th {\n        vertical-align: top;\n    }\n\n    .dataframe thead th {\n        text-align: right;\n    }\n</style>\n<table border=\"1\" class=\"dataframe\">\n  <thead>\n    <tr style=\"text-align: right;\">\n      <th></th>\n      <th>category</th>\n    </tr>\n    <tr>\n      <th>category_id</th>\n      <th></th>\n    </tr>\n  </thead>\n  <tbody>\n    <tr>\n      <th>1</th>\n      <td>frozen</td>\n    </tr>\n    <tr>\n      <th>2</th>\n      <td>other</td>\n    </tr>\n    <tr>\n      <th>3</th>\n      <td>bakery</td>\n    </tr>\n    <tr>\n      <th>4</th>\n      <td>produce</td>\n    </tr>\n    <tr>\n      <th>5</th>\n      <td>alcohol</td>\n    </tr>\n  </tbody>\n</table>\n</div>"
     },
     "execution_count": 194,
     "metadata": {},
     "output_type": "execute_result"
    }
   ],
   "source": [
    "categories.head()"
   ],
   "metadata": {
    "collapsed": false
   }
  },
  {
   "cell_type": "code",
   "execution_count": 101,
   "metadata": {
    "collapsed": false
   },
   "outputs": [
    {
     "name": "stdout",
     "output_type": "stream",
     "text": [
      "<class 'pandas.core.frame.DataFrame'>\n",
      "Index: 21 entries, 1 to 21\n",
      "Data columns (total 1 columns):\n",
      " #   Column    Non-Null Count  Dtype \n",
      "---  ------    --------------  ----- \n",
      " 0   category  21 non-null     object\n",
      "dtypes: object(1)\n",
      "memory usage: 336.0+ bytes\n"
     ]
    },
    {
     "data": {
      "text/plain": "Index([1, 2, 3, 4, 5, 6, 7, 8, 9, 10, 11, 12, 13, 14, 15, 16, 17, 18, 19, 20,\n       21],\n      dtype='int64', name='category_id')"
     },
     "execution_count": 101,
     "metadata": {},
     "output_type": "execute_result"
    }
   ],
   "source": [
    "categories.info()\n",
    "categories.describe()\n",
    "categories.index"
   ]
  },
  {
   "cell_type": "code",
   "execution_count": 102,
   "metadata": {
    "collapsed": false
   },
   "outputs": [],
   "source": [
    "alley_inventory = pd.read_csv('data/alley_inventory.csv', index_col='alley_id')"
   ]
  },
  {
   "cell_type": "code",
   "execution_count": 103,
   "metadata": {
    "collapsed": false
   },
   "outputs": [
    {
     "name": "stdout",
     "output_type": "stream",
     "text": [
      "<class 'pandas.core.frame.DataFrame'>\n",
      "Index: 134 entries, 1 to 134\n",
      "Data columns (total 1 columns):\n",
      " #   Column  Non-Null Count  Dtype \n",
      "---  ------  --------------  ----- \n",
      " 0   alley   134 non-null    object\n",
      "dtypes: object(1)\n",
      "memory usage: 2.1+ KB\n"
     ]
    },
    {
     "data": {
      "text/plain": "                               alley\nalley_id                            \n1              prepared soups salads\n2                  specialty cheeses\n3                energy granola bars\n4                      instant foods\n5         marinades meat preparation",
      "text/html": "<div>\n<style scoped>\n    .dataframe tbody tr th:only-of-type {\n        vertical-align: middle;\n    }\n\n    .dataframe tbody tr th {\n        vertical-align: top;\n    }\n\n    .dataframe thead th {\n        text-align: right;\n    }\n</style>\n<table border=\"1\" class=\"dataframe\">\n  <thead>\n    <tr style=\"text-align: right;\">\n      <th></th>\n      <th>alley</th>\n    </tr>\n    <tr>\n      <th>alley_id</th>\n      <th></th>\n    </tr>\n  </thead>\n  <tbody>\n    <tr>\n      <th>1</th>\n      <td>prepared soups salads</td>\n    </tr>\n    <tr>\n      <th>2</th>\n      <td>specialty cheeses</td>\n    </tr>\n    <tr>\n      <th>3</th>\n      <td>energy granola bars</td>\n    </tr>\n    <tr>\n      <th>4</th>\n      <td>instant foods</td>\n    </tr>\n    <tr>\n      <th>5</th>\n      <td>marinades meat preparation</td>\n    </tr>\n  </tbody>\n</table>\n</div>"
     },
     "execution_count": 103,
     "metadata": {},
     "output_type": "execute_result"
    }
   ],
   "source": [
    "alley_inventory.info()\n",
    "alley_inventory.head()"
   ]
  },
  {
   "cell_type": "code",
   "execution_count": 199,
   "metadata": {
    "collapsed": false
   },
   "outputs": [],
   "source": [
    "transaction_items__prior = pd.read_csv('data/transaction_items__prior.csv', na_values='unknown', dtype={\n",
    "    'transaction_id': 'Int64',\n",
    "    'item_id': 'Int64',\n",
    "    'add_to_cart_order': 'Int64',\n",
    "    'previous_bought': 'Int64'\n",
    "})"
   ]
  },
  {
   "cell_type": "code",
   "execution_count": 200,
   "metadata": {},
   "outputs": [],
   "source": [
    "transaction_items__prior.drop(columns='Unnamed: 0', inplace=True)\n",
    "transaction_items__prior.dropna(subset=['transaction_id'], inplace=True)\n",
    "transaction_items__prior.set_index(['transaction_id','item_id'], inplace=True)"
   ]
  },
  {
   "cell_type": "code",
   "execution_count": 201,
   "metadata": {
    "collapsed": false
   },
   "outputs": [
    {
     "name": "stdout",
     "output_type": "stream",
     "text": [
      "<class 'pandas.core.frame.DataFrame'>\n",
      "MultiIndex: 31059342 entries, (2.0, 33120.0) to (3421083.0, 5020.0)\n",
      "Data columns (total 2 columns):\n",
      " #   Column             Dtype  \n",
      "---  ------             -----  \n",
      " 0   add_to_cart_order  float64\n",
      " 1   previous_bought    float64\n",
      "dtypes: float64(2)\n",
      "memory usage: 801.3 MB\n"
     ]
    }
   ],
   "source": [
    "transaction_items__prior.info()"
   ]
  },
  {
   "cell_type": "code",
   "execution_count": 198,
   "metadata": {
    "collapsed": false
   },
   "outputs": [
    {
     "data": {
      "text/plain": "                        add_to_cart_order  previous_bought\ntransaction_id item_id                                    \n2              33120                    1              1.0\n               28985                    2              1.0\n               45918                    4              1.0\n               30035                    5              0.0\n               17794                    6              1.0",
      "text/html": "<div>\n<style scoped>\n    .dataframe tbody tr th:only-of-type {\n        vertical-align: middle;\n    }\n\n    .dataframe tbody tr th {\n        vertical-align: top;\n    }\n\n    .dataframe thead th {\n        text-align: right;\n    }\n</style>\n<table border=\"1\" class=\"dataframe\">\n  <thead>\n    <tr style=\"text-align: right;\">\n      <th></th>\n      <th></th>\n      <th>add_to_cart_order</th>\n      <th>previous_bought</th>\n    </tr>\n    <tr>\n      <th>transaction_id</th>\n      <th>item_id</th>\n      <th></th>\n      <th></th>\n    </tr>\n  </thead>\n  <tbody>\n    <tr>\n      <th rowspan=\"5\" valign=\"top\">2</th>\n      <th>33120</th>\n      <td>1</td>\n      <td>1.0</td>\n    </tr>\n    <tr>\n      <th>28985</th>\n      <td>2</td>\n      <td>1.0</td>\n    </tr>\n    <tr>\n      <th>45918</th>\n      <td>4</td>\n      <td>1.0</td>\n    </tr>\n    <tr>\n      <th>30035</th>\n      <td>5</td>\n      <td>0.0</td>\n    </tr>\n    <tr>\n      <th>17794</th>\n      <td>6</td>\n      <td>1.0</td>\n    </tr>\n  </tbody>\n</table>\n</div>"
     },
     "execution_count": 198,
     "metadata": {},
     "output_type": "execute_result"
    }
   ],
   "source": [
    "transaction_items__prior.head()"
   ]
  },
  {
   "cell_type": "code",
   "execution_count": 150,
   "metadata": {
    "collapsed": false
   },
   "outputs": [],
   "source": [
    "transaction_items__train = pd.read_csv('data/transaction_items__train.csv', na_values='unknown', dtype={\n",
    "    'transaction_id': 'Int64',\n",
    "    'item_id': 'Int64',\n",
    "    'add_to_cart_order': 'Int64',\n",
    "    'previous_bought': 'Int64'\n",
    "})"
   ]
  },
  {
   "cell_type": "code",
   "execution_count": 151,
   "outputs": [],
   "source": [
    "transaction_items__train.drop(columns='Unnamed: 0', inplace=True)\n",
    "transaction_items__train.dropna(subset=['transaction_id'], inplace=True)\n",
    "transaction_items__train.set_index(['transaction_id', 'item_id'], inplace=True)"
   ],
   "metadata": {
    "collapsed": false
   }
  },
  {
   "cell_type": "code",
   "execution_count": 152,
   "outputs": [
    {
     "name": "stdout",
     "output_type": "stream",
     "text": [
      "<class 'pandas.core.frame.DataFrame'>\n",
      "MultiIndex: 1325747 entries, (1.0, 49302.0) to (3421070.0, 4724.0)\n",
      "Data columns (total 2 columns):\n",
      " #   Column             Non-Null Count    Dtype  \n",
      "---  ------             --------------    -----  \n",
      " 0   add_to_cart_order  1284160 non-null  float64\n",
      " 1   previous_bought    1283667 non-null  float64\n",
      "dtypes: float64(2)\n",
      "memory usage: 36.7 MB\n"
     ]
    }
   ],
   "source": [
    "transaction_items__train.info()"
   ],
   "metadata": {
    "collapsed": false
   }
  },
  {
   "cell_type": "code",
   "execution_count": 153,
   "outputs": [
    {
     "data": {
      "text/plain": "                        add_to_cart_order  previous_bought\ntransaction_id item_id                                    \n1.0            49302.0                1.0              1.0\n               11109.0                2.0              1.0\n               10246.0                3.0              0.0\n               49683.0                4.0              0.0\n               43633.0                5.0              1.0",
      "text/html": "<div>\n<style scoped>\n    .dataframe tbody tr th:only-of-type {\n        vertical-align: middle;\n    }\n\n    .dataframe tbody tr th {\n        vertical-align: top;\n    }\n\n    .dataframe thead th {\n        text-align: right;\n    }\n</style>\n<table border=\"1\" class=\"dataframe\">\n  <thead>\n    <tr style=\"text-align: right;\">\n      <th></th>\n      <th></th>\n      <th>add_to_cart_order</th>\n      <th>previous_bought</th>\n    </tr>\n    <tr>\n      <th>transaction_id</th>\n      <th>item_id</th>\n      <th></th>\n      <th></th>\n    </tr>\n  </thead>\n  <tbody>\n    <tr>\n      <th rowspan=\"5\" valign=\"top\">1.0</th>\n      <th>49302.0</th>\n      <td>1.0</td>\n      <td>1.0</td>\n    </tr>\n    <tr>\n      <th>11109.0</th>\n      <td>2.0</td>\n      <td>1.0</td>\n    </tr>\n    <tr>\n      <th>10246.0</th>\n      <td>3.0</td>\n      <td>0.0</td>\n    </tr>\n    <tr>\n      <th>49683.0</th>\n      <td>4.0</td>\n      <td>0.0</td>\n    </tr>\n    <tr>\n      <th>43633.0</th>\n      <td>5.0</td>\n      <td>1.0</td>\n    </tr>\n  </tbody>\n</table>\n</div>"
     },
     "execution_count": 153,
     "metadata": {},
     "output_type": "execute_result"
    }
   ],
   "source": [
    "transaction_items__train.head()"
   ],
   "metadata": {
    "collapsed": false
   }
  },
  {
   "cell_type": "code",
   "execution_count": 157,
   "outputs": [],
   "source": [
    "transactions = pd.read_csv('data/transactions.csv', na_values='unknown', dtype={\n",
    "    'transaction_id': 'Int64',\n",
    "    'customer_id': 'Int64',\n",
    "    'transaction_number': 'Int64',\n",
    "    'day_of_week': 'Int64',\n",
    "    'time_of_day': 'Int64',\n",
    "    'days_since_prior_order': 'Int64'\n",
    "})"
   ],
   "metadata": {
    "collapsed": false
   }
  },
  {
   "cell_type": "code",
   "execution_count": 158,
   "outputs": [],
   "source": [
    "transactions.drop(columns='Unnamed: 0', inplace=True)\n",
    "transactions.dropna(subset=['transaction_id'], inplace=True)\n",
    "transactions.set_index(['transaction_id', 'customer_id'], inplace=True)"
   ],
   "metadata": {
    "collapsed": false
   }
  },
  {
   "cell_type": "code",
   "execution_count": 159,
   "outputs": [
    {
     "name": "stdout",
     "output_type": "stream",
     "text": [
      "<class 'pandas.core.frame.DataFrame'>\n",
      "MultiIndex: 3204781 entries, (2539329.0, 1.0) to (272231.0, 206209.0)\n",
      "Data columns (total 5 columns):\n",
      " #   Column                  Dtype  \n",
      "---  ------                  -----  \n",
      " 0   eval_set                object \n",
      " 1   transaction_number      float64\n",
      " 2   day_of_week             float64\n",
      " 3   time_of_day             float64\n",
      " 4   days_since_prior_order  float64\n",
      "dtypes: float64(4), object(1)\n",
      "memory usage: 245.3+ MB\n"
     ]
    }
   ],
   "source": [
    "transactions.info()"
   ],
   "metadata": {
    "collapsed": false
   }
  },
  {
   "cell_type": "code",
   "execution_count": 160,
   "outputs": [
    {
     "data": {
      "text/plain": "                           eval_set  transaction_number  day_of_week   \ntransaction_id customer_id                                             \n2539329.0      1.0            prior                 1.0          2.0  \\\n2398795.0      1.0            prior                 2.0          3.0   \n473747.0       1.0            prior                 3.0          3.0   \n2254736.0      1.0            prior                 4.0          4.0   \n431534.0       1.0            prior                 5.0          4.0   \n\n                            time_of_day  days_since_prior_order  \ntransaction_id customer_id                                       \n2539329.0      1.0                  8.0                     NaN  \n2398795.0      1.0                  7.0                    15.0  \n473747.0       1.0                 12.0                    21.0  \n2254736.0      1.0                  7.0                    29.0  \n431534.0       1.0                 15.0                    28.0  ",
      "text/html": "<div>\n<style scoped>\n    .dataframe tbody tr th:only-of-type {\n        vertical-align: middle;\n    }\n\n    .dataframe tbody tr th {\n        vertical-align: top;\n    }\n\n    .dataframe thead th {\n        text-align: right;\n    }\n</style>\n<table border=\"1\" class=\"dataframe\">\n  <thead>\n    <tr style=\"text-align: right;\">\n      <th></th>\n      <th></th>\n      <th>eval_set</th>\n      <th>transaction_number</th>\n      <th>day_of_week</th>\n      <th>time_of_day</th>\n      <th>days_since_prior_order</th>\n    </tr>\n    <tr>\n      <th>transaction_id</th>\n      <th>customer_id</th>\n      <th></th>\n      <th></th>\n      <th></th>\n      <th></th>\n      <th></th>\n    </tr>\n  </thead>\n  <tbody>\n    <tr>\n      <th>2539329.0</th>\n      <th>1.0</th>\n      <td>prior</td>\n      <td>1.0</td>\n      <td>2.0</td>\n      <td>8.0</td>\n      <td>NaN</td>\n    </tr>\n    <tr>\n      <th>2398795.0</th>\n      <th>1.0</th>\n      <td>prior</td>\n      <td>2.0</td>\n      <td>3.0</td>\n      <td>7.0</td>\n      <td>15.0</td>\n    </tr>\n    <tr>\n      <th>473747.0</th>\n      <th>1.0</th>\n      <td>prior</td>\n      <td>3.0</td>\n      <td>3.0</td>\n      <td>12.0</td>\n      <td>21.0</td>\n    </tr>\n    <tr>\n      <th>2254736.0</th>\n      <th>1.0</th>\n      <td>prior</td>\n      <td>4.0</td>\n      <td>4.0</td>\n      <td>7.0</td>\n      <td>29.0</td>\n    </tr>\n    <tr>\n      <th>431534.0</th>\n      <th>1.0</th>\n      <td>prior</td>\n      <td>5.0</td>\n      <td>4.0</td>\n      <td>15.0</td>\n      <td>28.0</td>\n    </tr>\n  </tbody>\n</table>\n</div>"
     },
     "execution_count": 160,
     "metadata": {},
     "output_type": "execute_result"
    }
   ],
   "source": [
    "transactions.head()"
   ],
   "metadata": {
    "collapsed": false
   }
  },
  {
   "cell_type": "code",
   "execution_count": 202,
   "outputs": [
    {
     "name": "stdout",
     "output_type": "stream",
     "text": [
      "Unexpected exception formatting exception. Falling back to standard exception\n"
     ]
    },
    {
     "name": "stderr",
     "output_type": "stream",
     "text": [
      "Traceback (most recent call last):\n",
      "  File \"/Users/adam/Projects/business-hackathon/venv/lib/python3.9/site-packages/IPython/core/interactiveshell.py\", line 3508, in run_code\n",
      "    exec(code_obj, self.user_global_ns, self.user_ns)\n",
      "  File \"/var/folders/kw/jqx7mjy54pzd21zj6gzyw2mr0000gn/T/ipykernel_23913/3169556678.py\", line 1, in <module>\n",
      "    items, categories, alley_inventory, transaction_items__prior, transaction_items__train, transactions = load_dataframes('data')\n",
      "  File \"/Users/adam/Projects/business-hackathon/file_utils.py\", line 18, in load_dataframes\n",
      "  File \"/Users/adam/Projects/business-hackathon/venv/lib/python3.9/site-packages/pandas/io/parsers/readers.py\", line 912, in read_csv\n",
      "    return _read(filepath_or_buffer, kwds)\n",
      "  File \"/Users/adam/Projects/business-hackathon/venv/lib/python3.9/site-packages/pandas/io/parsers/readers.py\", line 583, in _read\n",
      "    return parser.read(nrows)\n",
      "  File \"/Users/adam/Projects/business-hackathon/venv/lib/python3.9/site-packages/pandas/io/parsers/readers.py\", line 1704, in read\n",
      "    ) = self._engine.read(  # type: ignore[attr-defined]\n",
      "  File \"/Users/adam/Projects/business-hackathon/venv/lib/python3.9/site-packages/pandas/io/parsers/c_parser_wrapper.py\", line 234, in read\n",
      "    chunks = self._reader.read_low_memory(nrows)\n",
      "  File \"pandas/_libs/parsers.pyx\", line 812, in pandas._libs.parsers.TextReader.read_low_memory\n",
      "  File \"pandas/_libs/parsers.pyx\", line 889, in pandas._libs.parsers.TextReader._read_rows\n",
      "  File \"pandas/_libs/parsers.pyx\", line 1047, in pandas._libs.parsers.TextReader._convert_column_data\n",
      "  File \"/Users/adam/Projects/business-hackathon/venv/lib/python3.9/site-packages/pandas/core/dtypes/common.py\", line 1335, in is_extension_array_dtype\n",
      "    def is_extension_array_dtype(arr_or_dtype) -> bool:\n",
      "KeyboardInterrupt\n",
      "\n",
      "During handling of the above exception, another exception occurred:\n",
      "\n",
      "Traceback (most recent call last):\n",
      "  File \"/Users/adam/Projects/business-hackathon/venv/lib/python3.9/site-packages/IPython/core/interactiveshell.py\", line 2105, in showtraceback\n",
      "    stb = self.InteractiveTB.structured_traceback(\n",
      "  File \"/Users/adam/Projects/business-hackathon/venv/lib/python3.9/site-packages/IPython/core/ultratb.py\", line 1396, in structured_traceback\n",
      "    return FormattedTB.structured_traceback(\n",
      "  File \"/Users/adam/Projects/business-hackathon/venv/lib/python3.9/site-packages/IPython/core/ultratb.py\", line 1287, in structured_traceback\n",
      "    return VerboseTB.structured_traceback(\n",
      "  File \"/Users/adam/Projects/business-hackathon/venv/lib/python3.9/site-packages/IPython/core/ultratb.py\", line 1140, in structured_traceback\n",
      "    formatted_exception = self.format_exception_as_a_whole(etype, evalue, etb, number_of_lines_of_context,\n",
      "  File \"/Users/adam/Projects/business-hackathon/venv/lib/python3.9/site-packages/IPython/core/ultratb.py\", line 1055, in format_exception_as_a_whole\n",
      "    frames.append(self.format_record(record))\n",
      "  File \"/Users/adam/Projects/business-hackathon/venv/lib/python3.9/site-packages/IPython/core/ultratb.py\", line 955, in format_record\n",
      "    frame_info.lines, Colors, self.has_colors, lvals\n",
      "  File \"/Users/adam/Projects/business-hackathon/venv/lib/python3.9/site-packages/IPython/core/ultratb.py\", line 778, in lines\n",
      "    return self._sd.lines\n",
      "  File \"/Users/adam/Projects/business-hackathon/venv/lib/python3.9/site-packages/stack_data/utils.py\", line 144, in cached_property_wrapper\n",
      "    value = obj.__dict__[self.func.__name__] = self.func(obj)\n",
      "  File \"/Users/adam/Projects/business-hackathon/venv/lib/python3.9/site-packages/stack_data/core.py\", line 734, in lines\n",
      "    pieces = self.included_pieces\n",
      "  File \"/Users/adam/Projects/business-hackathon/venv/lib/python3.9/site-packages/stack_data/utils.py\", line 144, in cached_property_wrapper\n",
      "    value = obj.__dict__[self.func.__name__] = self.func(obj)\n",
      "  File \"/Users/adam/Projects/business-hackathon/venv/lib/python3.9/site-packages/stack_data/core.py\", line 681, in included_pieces\n",
      "    pos = scope_pieces.index(self.executing_piece)\n",
      "  File \"/Users/adam/Projects/business-hackathon/venv/lib/python3.9/site-packages/stack_data/utils.py\", line 144, in cached_property_wrapper\n",
      "    value = obj.__dict__[self.func.__name__] = self.func(obj)\n",
      "  File \"/Users/adam/Projects/business-hackathon/venv/lib/python3.9/site-packages/stack_data/core.py\", line 660, in executing_piece\n",
      "    return only(\n",
      "  File \"/Users/adam/Projects/business-hackathon/venv/lib/python3.9/site-packages/executing/executing.py\", line 190, in only\n",
      "    raise NotOneValueFound('Expected one value, found 0')\n",
      "executing.executing.NotOneValueFound: Expected one value, found 0\n"
     ]
    }
   ],
   "source": [
    "items, categories, alley_inventory, transaction_items__prior, transaction_items__train, transactions = load_dataframes('data')"
   ],
   "metadata": {
    "collapsed": false
   }
  },
  {
   "cell_type": "code",
   "execution_count": null,
   "outputs": [],
   "source": [],
   "metadata": {
    "collapsed": false
   }
  }
 ],
 "metadata": {
  "kernelspec": {
   "display_name": "Python 3",
   "language": "python",
   "name": "python3"
  },
  "language_info": {
   "codemirror_mode": {
    "name": "ipython",
    "version": 2
   },
   "file_extension": ".py",
   "mimetype": "text/x-python",
   "name": "python",
   "nbconvert_exporter": "python",
   "pygments_lexer": "ipython2",
   "version": "2.7.6"
  }
 },
 "nbformat": 4,
 "nbformat_minor": 0
}
