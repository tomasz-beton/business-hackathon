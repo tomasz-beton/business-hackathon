{
 "cells": [
  {
   "cell_type": "code",
   "execution_count": 1,
   "metadata": {
    "collapsed": true
   },
   "outputs": [],
   "source": [
    "import pandas as pd\n",
    "import numpy as np\n",
    "import seaborn as sns\n",
    "from file_utils import load_dataframes\n",
    "from mlxtend.frequent_patterns import apriori, association_rules"
   ]
  },
  {
   "cell_type": "code",
   "execution_count": 2,
   "outputs": [],
   "source": [
    "transaction_items__prior = pd.read_csv('data/transaction_items__prior.csv', na_values='unknown',\n",
    "                                       dtype={'transaction_id': 'Int64', 'item_id': 'Int64',\n",
    "                                              'add_to_cart_order': 'Int64', 'previous_bought': 'Int64'})\n",
    "transaction_items__prior.drop(columns=['Unnamed: 0', 'add_to_cart_order', 'previous_bought'], inplace=True)\n",
    "transaction_items__prior.dropna(subset=['transaction_id', 'item_id'], inplace=True)\n",
    "transaction_items__prior['present'] = True\n",
    "# transaction_items__train.set_index(['transaction_id'], inplace=True)"
   ],
   "metadata": {
    "collapsed": false
   }
  },
  {
   "cell_type": "code",
   "execution_count": 3,
   "outputs": [
    {
     "data": {
      "text/plain": "          transaction_id  item_id  present\n0                      2    33120     True\n1                      2    28985     True\n3                      2    45918     True\n4                      2    30035     True\n5                      2    17794     True\n...                  ...      ...      ...\n32076240         3421083    39678     True\n32076241         3421083    11352     True\n32076242         3421083     4600     True\n32076243         3421083    24852     True\n32076244         3421083     5020     True\n\n[30074126 rows x 3 columns]",
      "text/html": "<div>\n<style scoped>\n    .dataframe tbody tr th:only-of-type {\n        vertical-align: middle;\n    }\n\n    .dataframe tbody tr th {\n        vertical-align: top;\n    }\n\n    .dataframe thead th {\n        text-align: right;\n    }\n</style>\n<table border=\"1\" class=\"dataframe\">\n  <thead>\n    <tr style=\"text-align: right;\">\n      <th></th>\n      <th>transaction_id</th>\n      <th>item_id</th>\n      <th>present</th>\n    </tr>\n  </thead>\n  <tbody>\n    <tr>\n      <th>0</th>\n      <td>2</td>\n      <td>33120</td>\n      <td>True</td>\n    </tr>\n    <tr>\n      <th>1</th>\n      <td>2</td>\n      <td>28985</td>\n      <td>True</td>\n    </tr>\n    <tr>\n      <th>3</th>\n      <td>2</td>\n      <td>45918</td>\n      <td>True</td>\n    </tr>\n    <tr>\n      <th>4</th>\n      <td>2</td>\n      <td>30035</td>\n      <td>True</td>\n    </tr>\n    <tr>\n      <th>5</th>\n      <td>2</td>\n      <td>17794</td>\n      <td>True</td>\n    </tr>\n    <tr>\n      <th>...</th>\n      <td>...</td>\n      <td>...</td>\n      <td>...</td>\n    </tr>\n    <tr>\n      <th>32076240</th>\n      <td>3421083</td>\n      <td>39678</td>\n      <td>True</td>\n    </tr>\n    <tr>\n      <th>32076241</th>\n      <td>3421083</td>\n      <td>11352</td>\n      <td>True</td>\n    </tr>\n    <tr>\n      <th>32076242</th>\n      <td>3421083</td>\n      <td>4600</td>\n      <td>True</td>\n    </tr>\n    <tr>\n      <th>32076243</th>\n      <td>3421083</td>\n      <td>24852</td>\n      <td>True</td>\n    </tr>\n    <tr>\n      <th>32076244</th>\n      <td>3421083</td>\n      <td>5020</td>\n      <td>True</td>\n    </tr>\n  </tbody>\n</table>\n<p>30074126 rows × 3 columns</p>\n</div>"
     },
     "execution_count": 3,
     "metadata": {},
     "output_type": "execute_result"
    }
   ],
   "source": [
    "transaction_items__prior"
   ],
   "metadata": {
    "collapsed": false
   }
  },
  {
   "cell_type": "code",
   "execution_count": 33,
   "outputs": [],
   "source": [
    "items = pd.read_csv('data/items.csv', na_values=['unknown', 'NaN'],\n",
    "                        dtype={'item_id': 'Int64', 'alley_id': 'Int64', 'category': 'Int64'})"
   ],
   "metadata": {
    "collapsed": false
   }
  },
  {
   "cell_type": "code",
   "execution_count": 34,
   "outputs": [
    {
     "data": {
      "text/plain": "       Unnamed: 0  item_id                                          item_name   \n0               0        1                         Chocolate Sandwich Cookies  \\\n1               1        2                                   All-Seasons Salt   \n2               2        3               Robust Golden Unsweetened Oolong Tea   \n3               3        4  Smart Ones Classic Favorites Mini Rigatoni Wit...   \n4               4        5                          Green Chile Anytime Sauce   \n...           ...      ...                                                ...   \n49142       49142    49684          Vodka, Triple Distilled, Twist of Vanilla   \n49143       49143    49685                 En Croute Roast Hazelnut Cranberry   \n49144       49144    49686                                   Artisan Baguette   \n49145       49145    49687         Smartblend Healthy Metabolism Dry Cat Food   \n49146       49146    49688                             Fresh Foaming Cleanser   \n\n       alley_id  category  \n0            61        19  \n1           104        13  \n2            94         7  \n3            38         1  \n4             5        13  \n...         ...       ...  \n49142       124         5  \n49143        42         1  \n49144       112         3  \n49145        41         8  \n49146        73        11  \n\n[49147 rows x 5 columns]",
      "text/html": "<div>\n<style scoped>\n    .dataframe tbody tr th:only-of-type {\n        vertical-align: middle;\n    }\n\n    .dataframe tbody tr th {\n        vertical-align: top;\n    }\n\n    .dataframe thead th {\n        text-align: right;\n    }\n</style>\n<table border=\"1\" class=\"dataframe\">\n  <thead>\n    <tr style=\"text-align: right;\">\n      <th></th>\n      <th>Unnamed: 0</th>\n      <th>item_id</th>\n      <th>item_name</th>\n      <th>alley_id</th>\n      <th>category</th>\n    </tr>\n  </thead>\n  <tbody>\n    <tr>\n      <th>0</th>\n      <td>0</td>\n      <td>1</td>\n      <td>Chocolate Sandwich Cookies</td>\n      <td>61</td>\n      <td>19</td>\n    </tr>\n    <tr>\n      <th>1</th>\n      <td>1</td>\n      <td>2</td>\n      <td>All-Seasons Salt</td>\n      <td>104</td>\n      <td>13</td>\n    </tr>\n    <tr>\n      <th>2</th>\n      <td>2</td>\n      <td>3</td>\n      <td>Robust Golden Unsweetened Oolong Tea</td>\n      <td>94</td>\n      <td>7</td>\n    </tr>\n    <tr>\n      <th>3</th>\n      <td>3</td>\n      <td>4</td>\n      <td>Smart Ones Classic Favorites Mini Rigatoni Wit...</td>\n      <td>38</td>\n      <td>1</td>\n    </tr>\n    <tr>\n      <th>4</th>\n      <td>4</td>\n      <td>5</td>\n      <td>Green Chile Anytime Sauce</td>\n      <td>5</td>\n      <td>13</td>\n    </tr>\n    <tr>\n      <th>...</th>\n      <td>...</td>\n      <td>...</td>\n      <td>...</td>\n      <td>...</td>\n      <td>...</td>\n    </tr>\n    <tr>\n      <th>49142</th>\n      <td>49142</td>\n      <td>49684</td>\n      <td>Vodka, Triple Distilled, Twist of Vanilla</td>\n      <td>124</td>\n      <td>5</td>\n    </tr>\n    <tr>\n      <th>49143</th>\n      <td>49143</td>\n      <td>49685</td>\n      <td>En Croute Roast Hazelnut Cranberry</td>\n      <td>42</td>\n      <td>1</td>\n    </tr>\n    <tr>\n      <th>49144</th>\n      <td>49144</td>\n      <td>49686</td>\n      <td>Artisan Baguette</td>\n      <td>112</td>\n      <td>3</td>\n    </tr>\n    <tr>\n      <th>49145</th>\n      <td>49145</td>\n      <td>49687</td>\n      <td>Smartblend Healthy Metabolism Dry Cat Food</td>\n      <td>41</td>\n      <td>8</td>\n    </tr>\n    <tr>\n      <th>49146</th>\n      <td>49146</td>\n      <td>49688</td>\n      <td>Fresh Foaming Cleanser</td>\n      <td>73</td>\n      <td>11</td>\n    </tr>\n  </tbody>\n</table>\n<p>49147 rows × 5 columns</p>\n</div>"
     },
     "execution_count": 34,
     "metadata": {},
     "output_type": "execute_result"
    }
   ],
   "source": [
    "items"
   ],
   "metadata": {
    "collapsed": false
   }
  },
  {
   "cell_type": "code",
   "execution_count": 38,
   "outputs": [],
   "source": [
    "categories = pd.read_csv('data/categories.csv')\n",
    "categories.drop(columns='Unnamed: 0', inplace=True)"
   ],
   "metadata": {
    "collapsed": false
   }
  },
  {
   "cell_type": "code",
   "execution_count": 39,
   "outputs": [
    {
     "data": {
      "text/plain": "    category_id         category\n0             1           frozen\n1             2            other\n2             3           bakery\n3             4          produce\n4             5          alcohol\n5             6    international\n6             7        beverages\n7             8             pets\n8             9  dry goods pasta\n9            10             bulk\n10           11    personal care\n11           12     meat seafood\n12           13           pantry\n13           14        breakfast\n14           15     canned goods\n15           16       dairy eggs\n16           17        household\n17           18           babies\n18           19           snacks\n19           20             deli\n20           21          missing",
      "text/html": "<div>\n<style scoped>\n    .dataframe tbody tr th:only-of-type {\n        vertical-align: middle;\n    }\n\n    .dataframe tbody tr th {\n        vertical-align: top;\n    }\n\n    .dataframe thead th {\n        text-align: right;\n    }\n</style>\n<table border=\"1\" class=\"dataframe\">\n  <thead>\n    <tr style=\"text-align: right;\">\n      <th></th>\n      <th>category_id</th>\n      <th>category</th>\n    </tr>\n  </thead>\n  <tbody>\n    <tr>\n      <th>0</th>\n      <td>1</td>\n      <td>frozen</td>\n    </tr>\n    <tr>\n      <th>1</th>\n      <td>2</td>\n      <td>other</td>\n    </tr>\n    <tr>\n      <th>2</th>\n      <td>3</td>\n      <td>bakery</td>\n    </tr>\n    <tr>\n      <th>3</th>\n      <td>4</td>\n      <td>produce</td>\n    </tr>\n    <tr>\n      <th>4</th>\n      <td>5</td>\n      <td>alcohol</td>\n    </tr>\n    <tr>\n      <th>5</th>\n      <td>6</td>\n      <td>international</td>\n    </tr>\n    <tr>\n      <th>6</th>\n      <td>7</td>\n      <td>beverages</td>\n    </tr>\n    <tr>\n      <th>7</th>\n      <td>8</td>\n      <td>pets</td>\n    </tr>\n    <tr>\n      <th>8</th>\n      <td>9</td>\n      <td>dry goods pasta</td>\n    </tr>\n    <tr>\n      <th>9</th>\n      <td>10</td>\n      <td>bulk</td>\n    </tr>\n    <tr>\n      <th>10</th>\n      <td>11</td>\n      <td>personal care</td>\n    </tr>\n    <tr>\n      <th>11</th>\n      <td>12</td>\n      <td>meat seafood</td>\n    </tr>\n    <tr>\n      <th>12</th>\n      <td>13</td>\n      <td>pantry</td>\n    </tr>\n    <tr>\n      <th>13</th>\n      <td>14</td>\n      <td>breakfast</td>\n    </tr>\n    <tr>\n      <th>14</th>\n      <td>15</td>\n      <td>canned goods</td>\n    </tr>\n    <tr>\n      <th>15</th>\n      <td>16</td>\n      <td>dairy eggs</td>\n    </tr>\n    <tr>\n      <th>16</th>\n      <td>17</td>\n      <td>household</td>\n    </tr>\n    <tr>\n      <th>17</th>\n      <td>18</td>\n      <td>babies</td>\n    </tr>\n    <tr>\n      <th>18</th>\n      <td>19</td>\n      <td>snacks</td>\n    </tr>\n    <tr>\n      <th>19</th>\n      <td>20</td>\n      <td>deli</td>\n    </tr>\n    <tr>\n      <th>20</th>\n      <td>21</td>\n      <td>missing</td>\n    </tr>\n  </tbody>\n</table>\n</div>"
     },
     "execution_count": 39,
     "metadata": {},
     "output_type": "execute_result"
    }
   ],
   "source": [
    "categories"
   ],
   "metadata": {
    "collapsed": false
   }
  },
  {
   "cell_type": "code",
   "execution_count": 44,
   "outputs": [],
   "source": [
    "items_categories = pd.merge(items, categories, left_on='category', right_on='category_id')"
   ],
   "metadata": {
    "collapsed": false
   }
  },
  {
   "cell_type": "code",
   "execution_count": 45,
   "outputs": [
    {
     "data": {
      "text/plain": "       Unnamed: 0  item_id                                          item_name   \n0               0        1                         Chocolate Sandwich Cookies  \\\n1              15       16                      Mint Chocolate Flavored Syrup   \n2              24       25            Salted Caramel Lean Protein & Fiber Bar   \n3              31       32                      Nacho Cheese White Bean Chips   \n4              40       41        Organic Sourdough Einkorn Crackers Rosemary   \n...           ...      ...                                                ...   \n47617       43288    43769                             Organic Pearled Barley   \n47618       45180    45682                           Organic Turkish Apricots   \n47619       46375    46889                         Organic Brown Basmati Rice   \n47620       46968    47489                         Organic Brown Jasmine Rice   \n47621       48246    48778  Fit Super A Juice, Cold Pressed, Carrot/Apple/...   \n\n       alley_id  category_x  category_id category_y  \n0            61          19           19     snacks  \n1           103          19           19     snacks  \n2             3          19           19     snacks  \n3           107          19           19     snacks  \n4            78          19           19     snacks  \n...         ...         ...          ...        ...  \n47617        68          10           10       bulk  \n47618        68          10           10       bulk  \n47619        68          10           10       bulk  \n47620        68          10           10       bulk  \n47621        18          10           10       bulk  \n\n[47622 rows x 7 columns]",
      "text/html": "<div>\n<style scoped>\n    .dataframe tbody tr th:only-of-type {\n        vertical-align: middle;\n    }\n\n    .dataframe tbody tr th {\n        vertical-align: top;\n    }\n\n    .dataframe thead th {\n        text-align: right;\n    }\n</style>\n<table border=\"1\" class=\"dataframe\">\n  <thead>\n    <tr style=\"text-align: right;\">\n      <th></th>\n      <th>Unnamed: 0</th>\n      <th>item_id</th>\n      <th>item_name</th>\n      <th>alley_id</th>\n      <th>category_x</th>\n      <th>category_id</th>\n      <th>category_y</th>\n    </tr>\n  </thead>\n  <tbody>\n    <tr>\n      <th>0</th>\n      <td>0</td>\n      <td>1</td>\n      <td>Chocolate Sandwich Cookies</td>\n      <td>61</td>\n      <td>19</td>\n      <td>19</td>\n      <td>snacks</td>\n    </tr>\n    <tr>\n      <th>1</th>\n      <td>15</td>\n      <td>16</td>\n      <td>Mint Chocolate Flavored Syrup</td>\n      <td>103</td>\n      <td>19</td>\n      <td>19</td>\n      <td>snacks</td>\n    </tr>\n    <tr>\n      <th>2</th>\n      <td>24</td>\n      <td>25</td>\n      <td>Salted Caramel Lean Protein &amp; Fiber Bar</td>\n      <td>3</td>\n      <td>19</td>\n      <td>19</td>\n      <td>snacks</td>\n    </tr>\n    <tr>\n      <th>3</th>\n      <td>31</td>\n      <td>32</td>\n      <td>Nacho Cheese White Bean Chips</td>\n      <td>107</td>\n      <td>19</td>\n      <td>19</td>\n      <td>snacks</td>\n    </tr>\n    <tr>\n      <th>4</th>\n      <td>40</td>\n      <td>41</td>\n      <td>Organic Sourdough Einkorn Crackers Rosemary</td>\n      <td>78</td>\n      <td>19</td>\n      <td>19</td>\n      <td>snacks</td>\n    </tr>\n    <tr>\n      <th>...</th>\n      <td>...</td>\n      <td>...</td>\n      <td>...</td>\n      <td>...</td>\n      <td>...</td>\n      <td>...</td>\n      <td>...</td>\n    </tr>\n    <tr>\n      <th>47617</th>\n      <td>43288</td>\n      <td>43769</td>\n      <td>Organic Pearled Barley</td>\n      <td>68</td>\n      <td>10</td>\n      <td>10</td>\n      <td>bulk</td>\n    </tr>\n    <tr>\n      <th>47618</th>\n      <td>45180</td>\n      <td>45682</td>\n      <td>Organic Turkish Apricots</td>\n      <td>68</td>\n      <td>10</td>\n      <td>10</td>\n      <td>bulk</td>\n    </tr>\n    <tr>\n      <th>47619</th>\n      <td>46375</td>\n      <td>46889</td>\n      <td>Organic Brown Basmati Rice</td>\n      <td>68</td>\n      <td>10</td>\n      <td>10</td>\n      <td>bulk</td>\n    </tr>\n    <tr>\n      <th>47620</th>\n      <td>46968</td>\n      <td>47489</td>\n      <td>Organic Brown Jasmine Rice</td>\n      <td>68</td>\n      <td>10</td>\n      <td>10</td>\n      <td>bulk</td>\n    </tr>\n    <tr>\n      <th>47621</th>\n      <td>48246</td>\n      <td>48778</td>\n      <td>Fit Super A Juice, Cold Pressed, Carrot/Apple/...</td>\n      <td>18</td>\n      <td>10</td>\n      <td>10</td>\n      <td>bulk</td>\n    </tr>\n  </tbody>\n</table>\n<p>47622 rows × 7 columns</p>\n</div>"
     },
     "execution_count": 45,
     "metadata": {},
     "output_type": "execute_result"
    }
   ],
   "source": [
    "items_categories"
   ],
   "metadata": {
    "collapsed": false
   }
  },
  {
   "cell_type": "code",
   "execution_count": 6,
   "outputs": [],
   "source": [
    "transaction_items = transaction_items__prior.join(items.set_index('item_id'), on='item_id')"
   ],
   "metadata": {
    "collapsed": false
   }
  },
  {
   "cell_type": "code",
   "execution_count": 7,
   "outputs": [
    {
     "data": {
      "text/plain": "          transaction_id  item_id  present   \n0                      2    33120     True  \\\n1                      2    28985     True   \n3                      2    45918     True   \n4                      2    30035     True   \n5                      2    17794     True   \n...                  ...      ...      ...   \n32076240         3421083    39678     True   \n32076241         3421083    11352     True   \n32076242         3421083     4600     True   \n32076243         3421083    24852     True   \n32076244         3421083     5020     True   \n\n                                                  item_name  \n0                                        Organic Egg Whites  \n1                                                       NaN  \n3                                            Coconut Butter  \n4                                         Natural Sweetener  \n5                                                   Carrots  \n...                                                     ...  \n32076240          Free & Clear Natural Dishwasher Detergent  \n32076241       Organic Mini Sandwich Crackers Peanut Butter  \n32076242                    All Natural French Toast Sticks  \n32076243                                             Banana  \n32076244  Organic  Sweet & Salty Peanut Pretzel Granola ...  \n\n[30074126 rows x 4 columns]",
      "text/html": "<div>\n<style scoped>\n    .dataframe tbody tr th:only-of-type {\n        vertical-align: middle;\n    }\n\n    .dataframe tbody tr th {\n        vertical-align: top;\n    }\n\n    .dataframe thead th {\n        text-align: right;\n    }\n</style>\n<table border=\"1\" class=\"dataframe\">\n  <thead>\n    <tr style=\"text-align: right;\">\n      <th></th>\n      <th>transaction_id</th>\n      <th>item_id</th>\n      <th>present</th>\n      <th>item_name</th>\n    </tr>\n  </thead>\n  <tbody>\n    <tr>\n      <th>0</th>\n      <td>2</td>\n      <td>33120</td>\n      <td>True</td>\n      <td>Organic Egg Whites</td>\n    </tr>\n    <tr>\n      <th>1</th>\n      <td>2</td>\n      <td>28985</td>\n      <td>True</td>\n      <td>NaN</td>\n    </tr>\n    <tr>\n      <th>3</th>\n      <td>2</td>\n      <td>45918</td>\n      <td>True</td>\n      <td>Coconut Butter</td>\n    </tr>\n    <tr>\n      <th>4</th>\n      <td>2</td>\n      <td>30035</td>\n      <td>True</td>\n      <td>Natural Sweetener</td>\n    </tr>\n    <tr>\n      <th>5</th>\n      <td>2</td>\n      <td>17794</td>\n      <td>True</td>\n      <td>Carrots</td>\n    </tr>\n    <tr>\n      <th>...</th>\n      <td>...</td>\n      <td>...</td>\n      <td>...</td>\n      <td>...</td>\n    </tr>\n    <tr>\n      <th>32076240</th>\n      <td>3421083</td>\n      <td>39678</td>\n      <td>True</td>\n      <td>Free &amp; Clear Natural Dishwasher Detergent</td>\n    </tr>\n    <tr>\n      <th>32076241</th>\n      <td>3421083</td>\n      <td>11352</td>\n      <td>True</td>\n      <td>Organic Mini Sandwich Crackers Peanut Butter</td>\n    </tr>\n    <tr>\n      <th>32076242</th>\n      <td>3421083</td>\n      <td>4600</td>\n      <td>True</td>\n      <td>All Natural French Toast Sticks</td>\n    </tr>\n    <tr>\n      <th>32076243</th>\n      <td>3421083</td>\n      <td>24852</td>\n      <td>True</td>\n      <td>Banana</td>\n    </tr>\n    <tr>\n      <th>32076244</th>\n      <td>3421083</td>\n      <td>5020</td>\n      <td>True</td>\n      <td>Organic  Sweet &amp; Salty Peanut Pretzel Granola ...</td>\n    </tr>\n  </tbody>\n</table>\n<p>30074126 rows × 4 columns</p>\n</div>"
     },
     "execution_count": 7,
     "metadata": {},
     "output_type": "execute_result"
    }
   ],
   "source": [
    "transaction_items"
   ],
   "metadata": {
    "collapsed": false
   }
  },
  {
   "cell_type": "code",
   "execution_count": 8,
   "outputs": [
    {
     "data": {
      "text/plain": "transaction_id    30074126\nitem_id           30074126\npresent           30074126\nitem_name         27783321\ndtype: int64"
     },
     "execution_count": 8,
     "metadata": {},
     "output_type": "execute_result"
    }
   ],
   "source": [
    "transaction_items.count()"
   ],
   "metadata": {
    "collapsed": false
   }
  },
  {
   "cell_type": "code",
   "execution_count": 9,
   "outputs": [
    {
     "data": {
      "text/plain": "                                                    transaction_id  item_id   \nitem_name                                                                     \n#2 Coffee Filters                                              728      728  \\\n#2 Cone White Coffee Filters                                    11       11   \n#2 Mechanical Pencils                                            8        8   \n#4 Natural Brown Coffee Filters                                222      222   \n& Go! Hazelnut Spread + Pretzel Sticks                         151      151   \n...                                                            ...      ...   \nwith Xylitol Unwrapped Original Flavor 50 Stick...              36       36   \nwith Xylitol Unwrapped Spearmint 50 Sticks Suga...              51       51   \nwith Xylitol Watermelon Twist 18 Sticks Sugar F...              63       63   \nwith a Splash of Mango Coconut Water                            23       23   \nwith a Splash of Pineapple Coconut Water                        52       52   \n\n                                                    present  \nitem_name                                                    \n#2 Coffee Filters                                       728  \n#2 Cone White Coffee Filters                             11  \n#2 Mechanical Pencils                                     8  \n#4 Natural Brown Coffee Filters                         222  \n& Go! Hazelnut Spread + Pretzel Sticks                  151  \n...                                                     ...  \nwith Xylitol Unwrapped Original Flavor 50 Stick...       36  \nwith Xylitol Unwrapped Spearmint 50 Sticks Suga...       51  \nwith Xylitol Watermelon Twist 18 Sticks Sugar F...       63  \nwith a Splash of Mango Coconut Water                     23  \nwith a Splash of Pineapple Coconut Water                 52  \n\n[46106 rows x 3 columns]",
      "text/html": "<div>\n<style scoped>\n    .dataframe tbody tr th:only-of-type {\n        vertical-align: middle;\n    }\n\n    .dataframe tbody tr th {\n        vertical-align: top;\n    }\n\n    .dataframe thead th {\n        text-align: right;\n    }\n</style>\n<table border=\"1\" class=\"dataframe\">\n  <thead>\n    <tr style=\"text-align: right;\">\n      <th></th>\n      <th>transaction_id</th>\n      <th>item_id</th>\n      <th>present</th>\n    </tr>\n    <tr>\n      <th>item_name</th>\n      <th></th>\n      <th></th>\n      <th></th>\n    </tr>\n  </thead>\n  <tbody>\n    <tr>\n      <th>#2 Coffee Filters</th>\n      <td>728</td>\n      <td>728</td>\n      <td>728</td>\n    </tr>\n    <tr>\n      <th>#2 Cone White Coffee Filters</th>\n      <td>11</td>\n      <td>11</td>\n      <td>11</td>\n    </tr>\n    <tr>\n      <th>#2 Mechanical Pencils</th>\n      <td>8</td>\n      <td>8</td>\n      <td>8</td>\n    </tr>\n    <tr>\n      <th>#4 Natural Brown Coffee Filters</th>\n      <td>222</td>\n      <td>222</td>\n      <td>222</td>\n    </tr>\n    <tr>\n      <th>&amp; Go! Hazelnut Spread + Pretzel Sticks</th>\n      <td>151</td>\n      <td>151</td>\n      <td>151</td>\n    </tr>\n    <tr>\n      <th>...</th>\n      <td>...</td>\n      <td>...</td>\n      <td>...</td>\n    </tr>\n    <tr>\n      <th>with Xylitol Unwrapped Original Flavor 50 Sticks Sugar Free Gum</th>\n      <td>36</td>\n      <td>36</td>\n      <td>36</td>\n    </tr>\n    <tr>\n      <th>with Xylitol Unwrapped Spearmint 50 Sticks Sugar Free Gum</th>\n      <td>51</td>\n      <td>51</td>\n      <td>51</td>\n    </tr>\n    <tr>\n      <th>with Xylitol Watermelon Twist 18 Sticks Sugar Free Gum</th>\n      <td>63</td>\n      <td>63</td>\n      <td>63</td>\n    </tr>\n    <tr>\n      <th>with a Splash of Mango Coconut Water</th>\n      <td>23</td>\n      <td>23</td>\n      <td>23</td>\n    </tr>\n    <tr>\n      <th>with a Splash of Pineapple Coconut Water</th>\n      <td>52</td>\n      <td>52</td>\n      <td>52</td>\n    </tr>\n  </tbody>\n</table>\n<p>46106 rows × 3 columns</p>\n</div>"
     },
     "execution_count": 9,
     "metadata": {},
     "output_type": "execute_result"
    }
   ],
   "source": [
    "item_counts = transaction_items.groupby('item_name').count()\n",
    "item_counts"
   ],
   "metadata": {
    "collapsed": false
   }
  },
  {
   "cell_type": "code",
   "execution_count": 10,
   "outputs": [],
   "source": [
    "top_items = item_counts.sort_values(by='transaction_id', ascending=False).head(100)"
   ],
   "metadata": {
    "collapsed": false
   }
  },
  {
   "cell_type": "code",
   "execution_count": 11,
   "outputs": [],
   "source": [
    "transaction_top_items = transaction_items[transaction_items['item_name'].isin(top_items.index)]"
   ],
   "metadata": {
    "collapsed": false
   }
  },
  {
   "cell_type": "code",
   "execution_count": 12,
   "outputs": [
    {
     "data": {
      "text/plain": "transaction_id    6784036\nitem_id           6784036\npresent           6784036\nitem_name         6784036\ndtype: int64"
     },
     "execution_count": 12,
     "metadata": {},
     "output_type": "execute_result"
    }
   ],
   "source": [
    "transaction_top_items.count()"
   ],
   "metadata": {
    "collapsed": false
   }
  },
  {
   "cell_type": "code",
   "execution_count": 13,
   "outputs": [],
   "source": [
    "def true_if_any_present(x):\n",
    "    return x.any()"
   ],
   "metadata": {
    "collapsed": false
   }
  },
  {
   "cell_type": "code",
   "execution_count": 14,
   "outputs": [],
   "source": [
    "transactions_data = pd.pivot_table(transaction_top_items, index='transaction_id', columns='item_name', values='present', aggfunc=true_if_any_present, fill_value=False)"
   ],
   "metadata": {
    "collapsed": false
   }
  },
  {
   "cell_type": "code",
   "execution_count": 15,
   "outputs": [
    {
     "data": {
      "text/plain": "item_name       100% Raw Coconut Water  100% Whole Wheat Bread   \ntransaction_id                                                   \n2                                False                   False  \\\n3                                False                   False   \n5                                False                   False   \n9                                False                   False   \n10                               False                   False   \n\nitem_name       2% Reduced Fat Milk  Apple Honeycrisp Organic   \ntransaction_id                                                  \n2                             False                     False  \\\n3                             False                     False   \n5                              True                     False   \n9                             False                     False   \n10                            False                     False   \n\nitem_name       Bag of Organic Bananas  Banana  Blueberries   \ntransaction_id                                                \n2                                False   False        False  \\\n3                                False   False        False   \n5                                 True   False        False   \n9                                False   False        False   \n10                               False    True        False   \n\nitem_name       Boneless Skinless Chicken Breasts  Bunched Cilantro  Carrots   \ntransaction_id                                                                 \n2                                           False             False     True  \\\n3                                           False             False    False   \n5                                           False             False    False   \n9                                           False             False    False   \n10                                          False             False    False   \n\nitem_name       ...  Spring Water  Strawberries  Uncured Genoa Salami   \ntransaction_id  ...                                                     \n2               ...         False         False                 False  \\\n3               ...         False         False                 False   \n5               ...         False         False                 False   \n9               ...         False         False                 False   \n10              ...         False         False                 False   \n\nitem_name       Unsalted Butter  Unsweetened Almondmilk   \ntransaction_id                                            \n2                         False                   False  \\\n3                         False                    True   \n5                         False                   False   \n9                         False                   False   \n10                        False                   False   \n\nitem_name       Unsweetened Original Almond Breeze Almond Milk   \ntransaction_id                                                   \n2                                                        False  \\\n3                                                        False   \n5                                                        False   \n9                                                        False   \n10                                                       False   \n\nitem_name       Vanilla Almond Breeze Almond Milk  Whipped Cream Cheese   \ntransaction_id                                                            \n2                                           False                 False  \\\n3                                           False                 False   \n5                                           False                 False   \n9                                            True                 False   \n10                                          False                 False   \n\nitem_name       Whole Milk  Yellow Onions  \ntransaction_id                             \n2                    False          False  \n3                    False          False  \n5                    False          False  \n9                    False          False  \n10                   False           True  \n\n[5 rows x 100 columns]",
      "text/html": "<div>\n<style scoped>\n    .dataframe tbody tr th:only-of-type {\n        vertical-align: middle;\n    }\n\n    .dataframe tbody tr th {\n        vertical-align: top;\n    }\n\n    .dataframe thead th {\n        text-align: right;\n    }\n</style>\n<table border=\"1\" class=\"dataframe\">\n  <thead>\n    <tr style=\"text-align: right;\">\n      <th>item_name</th>\n      <th>100% Raw Coconut Water</th>\n      <th>100% Whole Wheat Bread</th>\n      <th>2% Reduced Fat Milk</th>\n      <th>Apple Honeycrisp Organic</th>\n      <th>Bag of Organic Bananas</th>\n      <th>Banana</th>\n      <th>Blueberries</th>\n      <th>Boneless Skinless Chicken Breasts</th>\n      <th>Bunched Cilantro</th>\n      <th>Carrots</th>\n      <th>...</th>\n      <th>Spring Water</th>\n      <th>Strawberries</th>\n      <th>Uncured Genoa Salami</th>\n      <th>Unsalted Butter</th>\n      <th>Unsweetened Almondmilk</th>\n      <th>Unsweetened Original Almond Breeze Almond Milk</th>\n      <th>Vanilla Almond Breeze Almond Milk</th>\n      <th>Whipped Cream Cheese</th>\n      <th>Whole Milk</th>\n      <th>Yellow Onions</th>\n    </tr>\n    <tr>\n      <th>transaction_id</th>\n      <th></th>\n      <th></th>\n      <th></th>\n      <th></th>\n      <th></th>\n      <th></th>\n      <th></th>\n      <th></th>\n      <th></th>\n      <th></th>\n      <th></th>\n      <th></th>\n      <th></th>\n      <th></th>\n      <th></th>\n      <th></th>\n      <th></th>\n      <th></th>\n      <th></th>\n      <th></th>\n      <th></th>\n    </tr>\n  </thead>\n  <tbody>\n    <tr>\n      <th>2</th>\n      <td>False</td>\n      <td>False</td>\n      <td>False</td>\n      <td>False</td>\n      <td>False</td>\n      <td>False</td>\n      <td>False</td>\n      <td>False</td>\n      <td>False</td>\n      <td>True</td>\n      <td>...</td>\n      <td>False</td>\n      <td>False</td>\n      <td>False</td>\n      <td>False</td>\n      <td>False</td>\n      <td>False</td>\n      <td>False</td>\n      <td>False</td>\n      <td>False</td>\n      <td>False</td>\n    </tr>\n    <tr>\n      <th>3</th>\n      <td>False</td>\n      <td>False</td>\n      <td>False</td>\n      <td>False</td>\n      <td>False</td>\n      <td>False</td>\n      <td>False</td>\n      <td>False</td>\n      <td>False</td>\n      <td>False</td>\n      <td>...</td>\n      <td>False</td>\n      <td>False</td>\n      <td>False</td>\n      <td>False</td>\n      <td>True</td>\n      <td>False</td>\n      <td>False</td>\n      <td>False</td>\n      <td>False</td>\n      <td>False</td>\n    </tr>\n    <tr>\n      <th>5</th>\n      <td>False</td>\n      <td>False</td>\n      <td>True</td>\n      <td>False</td>\n      <td>True</td>\n      <td>False</td>\n      <td>False</td>\n      <td>False</td>\n      <td>False</td>\n      <td>False</td>\n      <td>...</td>\n      <td>False</td>\n      <td>False</td>\n      <td>False</td>\n      <td>False</td>\n      <td>False</td>\n      <td>False</td>\n      <td>False</td>\n      <td>False</td>\n      <td>False</td>\n      <td>False</td>\n    </tr>\n    <tr>\n      <th>9</th>\n      <td>False</td>\n      <td>False</td>\n      <td>False</td>\n      <td>False</td>\n      <td>False</td>\n      <td>False</td>\n      <td>False</td>\n      <td>False</td>\n      <td>False</td>\n      <td>False</td>\n      <td>...</td>\n      <td>False</td>\n      <td>False</td>\n      <td>False</td>\n      <td>False</td>\n      <td>False</td>\n      <td>False</td>\n      <td>True</td>\n      <td>False</td>\n      <td>False</td>\n      <td>False</td>\n    </tr>\n    <tr>\n      <th>10</th>\n      <td>False</td>\n      <td>False</td>\n      <td>False</td>\n      <td>False</td>\n      <td>False</td>\n      <td>True</td>\n      <td>False</td>\n      <td>False</td>\n      <td>False</td>\n      <td>False</td>\n      <td>...</td>\n      <td>False</td>\n      <td>False</td>\n      <td>False</td>\n      <td>False</td>\n      <td>False</td>\n      <td>False</td>\n      <td>False</td>\n      <td>False</td>\n      <td>False</td>\n      <td>True</td>\n    </tr>\n  </tbody>\n</table>\n<p>5 rows × 100 columns</p>\n</div>"
     },
     "execution_count": 15,
     "metadata": {},
     "output_type": "execute_result"
    }
   ],
   "source": [
    "transactions_data.head()"
   ],
   "metadata": {
    "collapsed": false
   }
  },
  {
   "cell_type": "code",
   "execution_count": 16,
   "outputs": [
    {
     "data": {
      "text/plain": "transaction_id\n2          False\n3          False\n5          False\n9          False\n10          True\n           ...  \n3421078    False\n3421080    False\n3421081    False\n3421082    False\n3421083     True\nName: Banana, Length: 2300868, dtype: bool"
     },
     "execution_count": 16,
     "metadata": {},
     "output_type": "execute_result"
    }
   ],
   "source": [
    "transactions_data['Banana']"
   ],
   "metadata": {
    "collapsed": false
   }
  },
  {
   "cell_type": "code",
   "execution_count": 29,
   "outputs": [],
   "source": [
    "frequent_itemsets = apriori(transactions_data, min_support=0.01, use_colnames=True)"
   ],
   "metadata": {
    "collapsed": false
   }
  },
  {
   "cell_type": "code",
   "execution_count": 30,
   "outputs": [
    {
     "data": {
      "text/plain": "      support                                      itemsets\n0    0.015322                      (100% Raw Coconut Water)\n1    0.024475                      (100% Whole Wheat Bread)\n2    0.014925                         (2% Reduced Fat Milk)\n3    0.034206                    (Apple Honeycrisp Organic)\n4    0.152904                      (Bag of Organic Bananas)\n..        ...                                           ...\n116  0.011546       (Organic Avocado, Organic Baby Spinach)\n117  0.013052  (Organic Hass Avocado, Organic Baby Spinach)\n118  0.014268  (Organic Baby Spinach, Organic Strawberries)\n119  0.015242  (Organic Hass Avocado, Organic Strawberries)\n120  0.012624   (Organic Raspberries, Organic Strawberries)\n\n[121 rows x 2 columns]",
      "text/html": "<div>\n<style scoped>\n    .dataframe tbody tr th:only-of-type {\n        vertical-align: middle;\n    }\n\n    .dataframe tbody tr th {\n        vertical-align: top;\n    }\n\n    .dataframe thead th {\n        text-align: right;\n    }\n</style>\n<table border=\"1\" class=\"dataframe\">\n  <thead>\n    <tr style=\"text-align: right;\">\n      <th></th>\n      <th>support</th>\n      <th>itemsets</th>\n    </tr>\n  </thead>\n  <tbody>\n    <tr>\n      <th>0</th>\n      <td>0.015322</td>\n      <td>(100% Raw Coconut Water)</td>\n    </tr>\n    <tr>\n      <th>1</th>\n      <td>0.024475</td>\n      <td>(100% Whole Wheat Bread)</td>\n    </tr>\n    <tr>\n      <th>2</th>\n      <td>0.014925</td>\n      <td>(2% Reduced Fat Milk)</td>\n    </tr>\n    <tr>\n      <th>3</th>\n      <td>0.034206</td>\n      <td>(Apple Honeycrisp Organic)</td>\n    </tr>\n    <tr>\n      <th>4</th>\n      <td>0.152904</td>\n      <td>(Bag of Organic Bananas)</td>\n    </tr>\n    <tr>\n      <th>...</th>\n      <td>...</td>\n      <td>...</td>\n    </tr>\n    <tr>\n      <th>116</th>\n      <td>0.011546</td>\n      <td>(Organic Avocado, Organic Baby Spinach)</td>\n    </tr>\n    <tr>\n      <th>117</th>\n      <td>0.013052</td>\n      <td>(Organic Hass Avocado, Organic Baby Spinach)</td>\n    </tr>\n    <tr>\n      <th>118</th>\n      <td>0.014268</td>\n      <td>(Organic Baby Spinach, Organic Strawberries)</td>\n    </tr>\n    <tr>\n      <th>119</th>\n      <td>0.015242</td>\n      <td>(Organic Hass Avocado, Organic Strawberries)</td>\n    </tr>\n    <tr>\n      <th>120</th>\n      <td>0.012624</td>\n      <td>(Organic Raspberries, Organic Strawberries)</td>\n    </tr>\n  </tbody>\n</table>\n<p>121 rows × 2 columns</p>\n</div>"
     },
     "execution_count": 30,
     "metadata": {},
     "output_type": "execute_result"
    }
   ],
   "source": [
    "frequent_itemsets"
   ],
   "metadata": {
    "collapsed": false
   }
  },
  {
   "cell_type": "code",
   "execution_count": 31,
   "outputs": [],
   "source": [
    "rules_mlxtend = association_rules(frequent_itemsets, metric='confidence', min_threshold=0.03)"
   ],
   "metadata": {
    "collapsed": false
   }
  },
  {
   "cell_type": "code",
   "execution_count": 32,
   "outputs": [
    {
     "data": {
      "text/plain": "                 antecedents               consequents  antecedent support   \n0     (Organic Baby Spinach)  (Bag of Organic Bananas)            0.097543  \\\n1   (Bag of Organic Bananas)    (Organic Baby Spinach)            0.152904   \n2     (Organic Hass Avocado)  (Bag of Organic Bananas)            0.086098   \n3   (Bag of Organic Bananas)    (Organic Hass Avocado)            0.152904   \n4      (Organic Raspberries)  (Bag of Organic Bananas)            0.055208   \n5   (Bag of Organic Bananas)     (Organic Raspberries)            0.152904   \n6     (Organic Strawberries)  (Bag of Organic Bananas)            0.106709   \n7   (Bag of Organic Bananas)    (Organic Strawberries)            0.152904   \n8                   (Banana)          (Cucumber Kirby)            0.190456   \n9           (Cucumber Kirby)                  (Banana)            0.039245   \n10                  (Banana)        (Honeycrisp Apple)            0.190456   \n11        (Honeycrisp Apple)                  (Banana)            0.032150   \n12                  (Banana)             (Large Lemon)            0.190456   \n13             (Large Lemon)                  (Banana)            0.061536   \n14                  (Banana)                   (Limes)            0.190456   \n15                   (Limes)                  (Banana)            0.056759   \n16                  (Banana)         (Organic Avocado)            0.190456   \n17         (Organic Avocado)                  (Banana)            0.071285   \n18                  (Banana)    (Organic Baby Spinach)            0.190456   \n19    (Organic Baby Spinach)                  (Banana)            0.097543   \n20                  (Banana)      (Organic Fuji Apple)            0.190456   \n21      (Organic Fuji Apple)                  (Banana)            0.036125   \n22                  (Banana)    (Organic Hass Avocado)            0.190456   \n23    (Organic Hass Avocado)                  (Banana)            0.086098   \n24                  (Banana)    (Organic Strawberries)            0.190456   \n25    (Organic Strawberries)                  (Banana)            0.106709   \n26                  (Banana)      (Organic Whole Milk)            0.190456   \n27      (Organic Whole Milk)                  (Banana)            0.055514   \n28            (Strawberries)                  (Banana)            0.057585   \n29                  (Banana)            (Strawberries)            0.190456   \n30             (Large Lemon)                   (Limes)            0.061536   \n31                   (Limes)             (Large Lemon)            0.056759   \n32         (Organic Avocado)    (Organic Baby Spinach)            0.071285   \n33    (Organic Baby Spinach)         (Organic Avocado)            0.097543   \n34    (Organic Hass Avocado)    (Organic Baby Spinach)            0.086098   \n35    (Organic Baby Spinach)    (Organic Hass Avocado)            0.097543   \n36    (Organic Baby Spinach)    (Organic Strawberries)            0.097543   \n37    (Organic Strawberries)    (Organic Baby Spinach)            0.106709   \n38    (Organic Hass Avocado)    (Organic Strawberries)            0.086098   \n39    (Organic Strawberries)    (Organic Hass Avocado)            0.106709   \n40     (Organic Raspberries)    (Organic Strawberries)            0.055208   \n41    (Organic Strawberries)     (Organic Raspberries)            0.106709   \n\n    consequent support   support  confidence      lift  leverage  conviction   \n0             0.152904  0.018841    0.193153  1.263237  0.003926    1.049885  \\\n1             0.097543  0.018841    0.123220  1.263237  0.003926    1.029285   \n2             0.152904  0.023290    0.270511  1.769162  0.010126    1.161219   \n3             0.086098  0.023290    0.152320  1.769162  0.010126    1.078123   \n4             0.152904  0.015065    0.272871  1.784596  0.006623    1.164988   \n5             0.055208  0.015065    0.098524  1.784596  0.006623    1.048050   \n6             0.152904  0.023029    0.215812  1.411425  0.006713    1.080221   \n7             0.106709  0.023029    0.150612  1.411425  0.006713    1.051688   \n8             0.039245  0.012021    0.063115  1.608233  0.004546    1.025478   \n9             0.190456  0.012021    0.306297  1.608233  0.004546    1.166990   \n10            0.032150  0.010623    0.055779  1.734953  0.004500    1.025025   \n11            0.190456  0.010623    0.330431  1.734953  0.004500    1.209054   \n12            0.061536  0.015344    0.080564  1.309203  0.003624    1.020694   \n13            0.190456  0.015344    0.249345  1.309203  0.003624    1.078451   \n14            0.056759  0.011886    0.062406  1.099477  0.001075    1.006022   \n15            0.190456  0.011886    0.209402  1.099477  0.001075    1.023964   \n16            0.071285  0.019914    0.104561  1.466797  0.006338    1.037161   \n17            0.190456  0.019914    0.279360  1.466797  0.006338    1.123368   \n18            0.097543  0.019221    0.100921  1.034636  0.000643    1.003758   \n19            0.190456  0.019221    0.197052  1.034636  0.000643    1.008215   \n20            0.036125  0.012673    0.066543  1.842017  0.005793    1.032586   \n21            0.190456  0.012673    0.350822  1.842017  0.005793    1.247031   \n22            0.086098  0.011678    0.061315  0.712157 -0.004720    0.973599   \n23            0.190456  0.011678    0.135634  0.712157 -0.004720    0.936576   \n24            0.106709  0.020943    0.109965  1.030508  0.000620    1.003658   \n25            0.190456  0.020943    0.196266  1.030508  0.000620    1.007229   \n26            0.055514  0.011773    0.061812  1.113460  0.001200    1.006714   \n27            0.190456  0.011773    0.212065  1.113460  0.001200    1.027425   \n28            0.190456  0.015424    0.267852  1.406374  0.004457    1.105711   \n29            0.057585  0.015424    0.080986  1.406374  0.004457    1.025463   \n30            0.056759  0.010284    0.167120  2.944353  0.006791    1.132505   \n31            0.061536  0.010284    0.181185  2.944353  0.006791    1.146124   \n32            0.097543  0.011546    0.161970  1.660503  0.004593    1.076879   \n33            0.071285  0.011546    0.118369  1.660503  0.004593    1.053406   \n34            0.097543  0.013052    0.151596  1.554148  0.004654    1.063712   \n35            0.086098  0.013052    0.133808  1.554148  0.004654    1.055081   \n36            0.106709  0.014268    0.146271  1.370741  0.003859    1.046340   \n37            0.097543  0.014268    0.133706  1.370741  0.003859    1.041745   \n38            0.106709  0.015242    0.177028  1.658971  0.006054    1.085444   \n39            0.086098  0.015242    0.142833  1.658971  0.006054    1.066190   \n40            0.106709  0.012624    0.228668  2.142905  0.006733    1.158114   \n41            0.055208  0.012624    0.118306  2.142905  0.006733    1.071564   \n\n    zhangs_metric  \n0        0.230906  \n1        0.245996  \n2        0.475719  \n3        0.513236  \n4        0.465340  \n5        0.519007  \n6        0.326317  \n7        0.344112  \n8        0.467176  \n9        0.393649  \n10       0.523276  \n11       0.437687  \n12       0.291740  \n13       0.251663  \n14       0.111763  \n15       0.095921  \n16       0.393113  \n17       0.342670  \n18       0.041352  \n19       0.037095  \n20       0.564659  \n21       0.474249  \n22      -0.333011  \n23      -0.306645  \n24       0.036570  \n25       0.033141  \n26       0.125871  \n27       0.107887  \n28       0.306607  \n29       0.356931  \n30       0.703668  \n31       0.700104  \n32       0.428305  \n33       0.440766  \n34       0.390152  \n35       0.395100  \n36       0.299701  \n37       0.302777  \n38       0.434638  \n39       0.444667  \n40       0.564509  \n41       0.597055  ",
      "text/html": "<div>\n<style scoped>\n    .dataframe tbody tr th:only-of-type {\n        vertical-align: middle;\n    }\n\n    .dataframe tbody tr th {\n        vertical-align: top;\n    }\n\n    .dataframe thead th {\n        text-align: right;\n    }\n</style>\n<table border=\"1\" class=\"dataframe\">\n  <thead>\n    <tr style=\"text-align: right;\">\n      <th></th>\n      <th>antecedents</th>\n      <th>consequents</th>\n      <th>antecedent support</th>\n      <th>consequent support</th>\n      <th>support</th>\n      <th>confidence</th>\n      <th>lift</th>\n      <th>leverage</th>\n      <th>conviction</th>\n      <th>zhangs_metric</th>\n    </tr>\n  </thead>\n  <tbody>\n    <tr>\n      <th>0</th>\n      <td>(Organic Baby Spinach)</td>\n      <td>(Bag of Organic Bananas)</td>\n      <td>0.097543</td>\n      <td>0.152904</td>\n      <td>0.018841</td>\n      <td>0.193153</td>\n      <td>1.263237</td>\n      <td>0.003926</td>\n      <td>1.049885</td>\n      <td>0.230906</td>\n    </tr>\n    <tr>\n      <th>1</th>\n      <td>(Bag of Organic Bananas)</td>\n      <td>(Organic Baby Spinach)</td>\n      <td>0.152904</td>\n      <td>0.097543</td>\n      <td>0.018841</td>\n      <td>0.123220</td>\n      <td>1.263237</td>\n      <td>0.003926</td>\n      <td>1.029285</td>\n      <td>0.245996</td>\n    </tr>\n    <tr>\n      <th>2</th>\n      <td>(Organic Hass Avocado)</td>\n      <td>(Bag of Organic Bananas)</td>\n      <td>0.086098</td>\n      <td>0.152904</td>\n      <td>0.023290</td>\n      <td>0.270511</td>\n      <td>1.769162</td>\n      <td>0.010126</td>\n      <td>1.161219</td>\n      <td>0.475719</td>\n    </tr>\n    <tr>\n      <th>3</th>\n      <td>(Bag of Organic Bananas)</td>\n      <td>(Organic Hass Avocado)</td>\n      <td>0.152904</td>\n      <td>0.086098</td>\n      <td>0.023290</td>\n      <td>0.152320</td>\n      <td>1.769162</td>\n      <td>0.010126</td>\n      <td>1.078123</td>\n      <td>0.513236</td>\n    </tr>\n    <tr>\n      <th>4</th>\n      <td>(Organic Raspberries)</td>\n      <td>(Bag of Organic Bananas)</td>\n      <td>0.055208</td>\n      <td>0.152904</td>\n      <td>0.015065</td>\n      <td>0.272871</td>\n      <td>1.784596</td>\n      <td>0.006623</td>\n      <td>1.164988</td>\n      <td>0.465340</td>\n    </tr>\n    <tr>\n      <th>5</th>\n      <td>(Bag of Organic Bananas)</td>\n      <td>(Organic Raspberries)</td>\n      <td>0.152904</td>\n      <td>0.055208</td>\n      <td>0.015065</td>\n      <td>0.098524</td>\n      <td>1.784596</td>\n      <td>0.006623</td>\n      <td>1.048050</td>\n      <td>0.519007</td>\n    </tr>\n    <tr>\n      <th>6</th>\n      <td>(Organic Strawberries)</td>\n      <td>(Bag of Organic Bananas)</td>\n      <td>0.106709</td>\n      <td>0.152904</td>\n      <td>0.023029</td>\n      <td>0.215812</td>\n      <td>1.411425</td>\n      <td>0.006713</td>\n      <td>1.080221</td>\n      <td>0.326317</td>\n    </tr>\n    <tr>\n      <th>7</th>\n      <td>(Bag of Organic Bananas)</td>\n      <td>(Organic Strawberries)</td>\n      <td>0.152904</td>\n      <td>0.106709</td>\n      <td>0.023029</td>\n      <td>0.150612</td>\n      <td>1.411425</td>\n      <td>0.006713</td>\n      <td>1.051688</td>\n      <td>0.344112</td>\n    </tr>\n    <tr>\n      <th>8</th>\n      <td>(Banana)</td>\n      <td>(Cucumber Kirby)</td>\n      <td>0.190456</td>\n      <td>0.039245</td>\n      <td>0.012021</td>\n      <td>0.063115</td>\n      <td>1.608233</td>\n      <td>0.004546</td>\n      <td>1.025478</td>\n      <td>0.467176</td>\n    </tr>\n    <tr>\n      <th>9</th>\n      <td>(Cucumber Kirby)</td>\n      <td>(Banana)</td>\n      <td>0.039245</td>\n      <td>0.190456</td>\n      <td>0.012021</td>\n      <td>0.306297</td>\n      <td>1.608233</td>\n      <td>0.004546</td>\n      <td>1.166990</td>\n      <td>0.393649</td>\n    </tr>\n    <tr>\n      <th>10</th>\n      <td>(Banana)</td>\n      <td>(Honeycrisp Apple)</td>\n      <td>0.190456</td>\n      <td>0.032150</td>\n      <td>0.010623</td>\n      <td>0.055779</td>\n      <td>1.734953</td>\n      <td>0.004500</td>\n      <td>1.025025</td>\n      <td>0.523276</td>\n    </tr>\n    <tr>\n      <th>11</th>\n      <td>(Honeycrisp Apple)</td>\n      <td>(Banana)</td>\n      <td>0.032150</td>\n      <td>0.190456</td>\n      <td>0.010623</td>\n      <td>0.330431</td>\n      <td>1.734953</td>\n      <td>0.004500</td>\n      <td>1.209054</td>\n      <td>0.437687</td>\n    </tr>\n    <tr>\n      <th>12</th>\n      <td>(Banana)</td>\n      <td>(Large Lemon)</td>\n      <td>0.190456</td>\n      <td>0.061536</td>\n      <td>0.015344</td>\n      <td>0.080564</td>\n      <td>1.309203</td>\n      <td>0.003624</td>\n      <td>1.020694</td>\n      <td>0.291740</td>\n    </tr>\n    <tr>\n      <th>13</th>\n      <td>(Large Lemon)</td>\n      <td>(Banana)</td>\n      <td>0.061536</td>\n      <td>0.190456</td>\n      <td>0.015344</td>\n      <td>0.249345</td>\n      <td>1.309203</td>\n      <td>0.003624</td>\n      <td>1.078451</td>\n      <td>0.251663</td>\n    </tr>\n    <tr>\n      <th>14</th>\n      <td>(Banana)</td>\n      <td>(Limes)</td>\n      <td>0.190456</td>\n      <td>0.056759</td>\n      <td>0.011886</td>\n      <td>0.062406</td>\n      <td>1.099477</td>\n      <td>0.001075</td>\n      <td>1.006022</td>\n      <td>0.111763</td>\n    </tr>\n    <tr>\n      <th>15</th>\n      <td>(Limes)</td>\n      <td>(Banana)</td>\n      <td>0.056759</td>\n      <td>0.190456</td>\n      <td>0.011886</td>\n      <td>0.209402</td>\n      <td>1.099477</td>\n      <td>0.001075</td>\n      <td>1.023964</td>\n      <td>0.095921</td>\n    </tr>\n    <tr>\n      <th>16</th>\n      <td>(Banana)</td>\n      <td>(Organic Avocado)</td>\n      <td>0.190456</td>\n      <td>0.071285</td>\n      <td>0.019914</td>\n      <td>0.104561</td>\n      <td>1.466797</td>\n      <td>0.006338</td>\n      <td>1.037161</td>\n      <td>0.393113</td>\n    </tr>\n    <tr>\n      <th>17</th>\n      <td>(Organic Avocado)</td>\n      <td>(Banana)</td>\n      <td>0.071285</td>\n      <td>0.190456</td>\n      <td>0.019914</td>\n      <td>0.279360</td>\n      <td>1.466797</td>\n      <td>0.006338</td>\n      <td>1.123368</td>\n      <td>0.342670</td>\n    </tr>\n    <tr>\n      <th>18</th>\n      <td>(Banana)</td>\n      <td>(Organic Baby Spinach)</td>\n      <td>0.190456</td>\n      <td>0.097543</td>\n      <td>0.019221</td>\n      <td>0.100921</td>\n      <td>1.034636</td>\n      <td>0.000643</td>\n      <td>1.003758</td>\n      <td>0.041352</td>\n    </tr>\n    <tr>\n      <th>19</th>\n      <td>(Organic Baby Spinach)</td>\n      <td>(Banana)</td>\n      <td>0.097543</td>\n      <td>0.190456</td>\n      <td>0.019221</td>\n      <td>0.197052</td>\n      <td>1.034636</td>\n      <td>0.000643</td>\n      <td>1.008215</td>\n      <td>0.037095</td>\n    </tr>\n    <tr>\n      <th>20</th>\n      <td>(Banana)</td>\n      <td>(Organic Fuji Apple)</td>\n      <td>0.190456</td>\n      <td>0.036125</td>\n      <td>0.012673</td>\n      <td>0.066543</td>\n      <td>1.842017</td>\n      <td>0.005793</td>\n      <td>1.032586</td>\n      <td>0.564659</td>\n    </tr>\n    <tr>\n      <th>21</th>\n      <td>(Organic Fuji Apple)</td>\n      <td>(Banana)</td>\n      <td>0.036125</td>\n      <td>0.190456</td>\n      <td>0.012673</td>\n      <td>0.350822</td>\n      <td>1.842017</td>\n      <td>0.005793</td>\n      <td>1.247031</td>\n      <td>0.474249</td>\n    </tr>\n    <tr>\n      <th>22</th>\n      <td>(Banana)</td>\n      <td>(Organic Hass Avocado)</td>\n      <td>0.190456</td>\n      <td>0.086098</td>\n      <td>0.011678</td>\n      <td>0.061315</td>\n      <td>0.712157</td>\n      <td>-0.004720</td>\n      <td>0.973599</td>\n      <td>-0.333011</td>\n    </tr>\n    <tr>\n      <th>23</th>\n      <td>(Organic Hass Avocado)</td>\n      <td>(Banana)</td>\n      <td>0.086098</td>\n      <td>0.190456</td>\n      <td>0.011678</td>\n      <td>0.135634</td>\n      <td>0.712157</td>\n      <td>-0.004720</td>\n      <td>0.936576</td>\n      <td>-0.306645</td>\n    </tr>\n    <tr>\n      <th>24</th>\n      <td>(Banana)</td>\n      <td>(Organic Strawberries)</td>\n      <td>0.190456</td>\n      <td>0.106709</td>\n      <td>0.020943</td>\n      <td>0.109965</td>\n      <td>1.030508</td>\n      <td>0.000620</td>\n      <td>1.003658</td>\n      <td>0.036570</td>\n    </tr>\n    <tr>\n      <th>25</th>\n      <td>(Organic Strawberries)</td>\n      <td>(Banana)</td>\n      <td>0.106709</td>\n      <td>0.190456</td>\n      <td>0.020943</td>\n      <td>0.196266</td>\n      <td>1.030508</td>\n      <td>0.000620</td>\n      <td>1.007229</td>\n      <td>0.033141</td>\n    </tr>\n    <tr>\n      <th>26</th>\n      <td>(Banana)</td>\n      <td>(Organic Whole Milk)</td>\n      <td>0.190456</td>\n      <td>0.055514</td>\n      <td>0.011773</td>\n      <td>0.061812</td>\n      <td>1.113460</td>\n      <td>0.001200</td>\n      <td>1.006714</td>\n      <td>0.125871</td>\n    </tr>\n    <tr>\n      <th>27</th>\n      <td>(Organic Whole Milk)</td>\n      <td>(Banana)</td>\n      <td>0.055514</td>\n      <td>0.190456</td>\n      <td>0.011773</td>\n      <td>0.212065</td>\n      <td>1.113460</td>\n      <td>0.001200</td>\n      <td>1.027425</td>\n      <td>0.107887</td>\n    </tr>\n    <tr>\n      <th>28</th>\n      <td>(Strawberries)</td>\n      <td>(Banana)</td>\n      <td>0.057585</td>\n      <td>0.190456</td>\n      <td>0.015424</td>\n      <td>0.267852</td>\n      <td>1.406374</td>\n      <td>0.004457</td>\n      <td>1.105711</td>\n      <td>0.306607</td>\n    </tr>\n    <tr>\n      <th>29</th>\n      <td>(Banana)</td>\n      <td>(Strawberries)</td>\n      <td>0.190456</td>\n      <td>0.057585</td>\n      <td>0.015424</td>\n      <td>0.080986</td>\n      <td>1.406374</td>\n      <td>0.004457</td>\n      <td>1.025463</td>\n      <td>0.356931</td>\n    </tr>\n    <tr>\n      <th>30</th>\n      <td>(Large Lemon)</td>\n      <td>(Limes)</td>\n      <td>0.061536</td>\n      <td>0.056759</td>\n      <td>0.010284</td>\n      <td>0.167120</td>\n      <td>2.944353</td>\n      <td>0.006791</td>\n      <td>1.132505</td>\n      <td>0.703668</td>\n    </tr>\n    <tr>\n      <th>31</th>\n      <td>(Limes)</td>\n      <td>(Large Lemon)</td>\n      <td>0.056759</td>\n      <td>0.061536</td>\n      <td>0.010284</td>\n      <td>0.181185</td>\n      <td>2.944353</td>\n      <td>0.006791</td>\n      <td>1.146124</td>\n      <td>0.700104</td>\n    </tr>\n    <tr>\n      <th>32</th>\n      <td>(Organic Avocado)</td>\n      <td>(Organic Baby Spinach)</td>\n      <td>0.071285</td>\n      <td>0.097543</td>\n      <td>0.011546</td>\n      <td>0.161970</td>\n      <td>1.660503</td>\n      <td>0.004593</td>\n      <td>1.076879</td>\n      <td>0.428305</td>\n    </tr>\n    <tr>\n      <th>33</th>\n      <td>(Organic Baby Spinach)</td>\n      <td>(Organic Avocado)</td>\n      <td>0.097543</td>\n      <td>0.071285</td>\n      <td>0.011546</td>\n      <td>0.118369</td>\n      <td>1.660503</td>\n      <td>0.004593</td>\n      <td>1.053406</td>\n      <td>0.440766</td>\n    </tr>\n    <tr>\n      <th>34</th>\n      <td>(Organic Hass Avocado)</td>\n      <td>(Organic Baby Spinach)</td>\n      <td>0.086098</td>\n      <td>0.097543</td>\n      <td>0.013052</td>\n      <td>0.151596</td>\n      <td>1.554148</td>\n      <td>0.004654</td>\n      <td>1.063712</td>\n      <td>0.390152</td>\n    </tr>\n    <tr>\n      <th>35</th>\n      <td>(Organic Baby Spinach)</td>\n      <td>(Organic Hass Avocado)</td>\n      <td>0.097543</td>\n      <td>0.086098</td>\n      <td>0.013052</td>\n      <td>0.133808</td>\n      <td>1.554148</td>\n      <td>0.004654</td>\n      <td>1.055081</td>\n      <td>0.395100</td>\n    </tr>\n    <tr>\n      <th>36</th>\n      <td>(Organic Baby Spinach)</td>\n      <td>(Organic Strawberries)</td>\n      <td>0.097543</td>\n      <td>0.106709</td>\n      <td>0.014268</td>\n      <td>0.146271</td>\n      <td>1.370741</td>\n      <td>0.003859</td>\n      <td>1.046340</td>\n      <td>0.299701</td>\n    </tr>\n    <tr>\n      <th>37</th>\n      <td>(Organic Strawberries)</td>\n      <td>(Organic Baby Spinach)</td>\n      <td>0.106709</td>\n      <td>0.097543</td>\n      <td>0.014268</td>\n      <td>0.133706</td>\n      <td>1.370741</td>\n      <td>0.003859</td>\n      <td>1.041745</td>\n      <td>0.302777</td>\n    </tr>\n    <tr>\n      <th>38</th>\n      <td>(Organic Hass Avocado)</td>\n      <td>(Organic Strawberries)</td>\n      <td>0.086098</td>\n      <td>0.106709</td>\n      <td>0.015242</td>\n      <td>0.177028</td>\n      <td>1.658971</td>\n      <td>0.006054</td>\n      <td>1.085444</td>\n      <td>0.434638</td>\n    </tr>\n    <tr>\n      <th>39</th>\n      <td>(Organic Strawberries)</td>\n      <td>(Organic Hass Avocado)</td>\n      <td>0.106709</td>\n      <td>0.086098</td>\n      <td>0.015242</td>\n      <td>0.142833</td>\n      <td>1.658971</td>\n      <td>0.006054</td>\n      <td>1.066190</td>\n      <td>0.444667</td>\n    </tr>\n    <tr>\n      <th>40</th>\n      <td>(Organic Raspberries)</td>\n      <td>(Organic Strawberries)</td>\n      <td>0.055208</td>\n      <td>0.106709</td>\n      <td>0.012624</td>\n      <td>0.228668</td>\n      <td>2.142905</td>\n      <td>0.006733</td>\n      <td>1.158114</td>\n      <td>0.564509</td>\n    </tr>\n    <tr>\n      <th>41</th>\n      <td>(Organic Strawberries)</td>\n      <td>(Organic Raspberries)</td>\n      <td>0.106709</td>\n      <td>0.055208</td>\n      <td>0.012624</td>\n      <td>0.118306</td>\n      <td>2.142905</td>\n      <td>0.006733</td>\n      <td>1.071564</td>\n      <td>0.597055</td>\n    </tr>\n  </tbody>\n</table>\n</div>"
     },
     "execution_count": 32,
     "metadata": {},
     "output_type": "execute_result"
    }
   ],
   "source": [
    "rules_mlxtend"
   ],
   "metadata": {
    "collapsed": false
   }
  },
  {
   "cell_type": "code",
   "execution_count": 20,
   "outputs": [],
   "source": [],
   "metadata": {
    "collapsed": false
   }
  }
 ],
 "metadata": {
  "kernelspec": {
   "display_name": "Python 3",
   "language": "python",
   "name": "python3"
  },
  "language_info": {
   "codemirror_mode": {
    "name": "ipython",
    "version": 2
   },
   "file_extension": ".py",
   "mimetype": "text/x-python",
   "name": "python",
   "nbconvert_exporter": "python",
   "pygments_lexer": "ipython2",
   "version": "2.7.6"
  }
 },
 "nbformat": 4,
 "nbformat_minor": 0
}
