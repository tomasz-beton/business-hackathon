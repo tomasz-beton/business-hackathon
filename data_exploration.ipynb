{
 "cells": [
  {
   "cell_type": "code",
   "execution_count": 95,
   "metadata": {
    "collapsed": true
   },
   "outputs": [],
   "source": [
    "import pandas as pd\n",
    "import numpy as np\n",
    "import seaborn as sns\n",
    "from file_utils import load_dataframes"
   ]
  },
  {
   "cell_type": "code",
   "execution_count": 96,
   "metadata": {
    "collapsed": false
   },
   "outputs": [],
   "source": []
  },
  {
   "cell_type": "code",
   "execution_count": 97,
   "metadata": {
    "collapsed": false
   },
   "outputs": [],
   "source": [
    "def int_converter(x):\n",
    "    try:\n",
    "        return int(float(x))\n",
    "    except ValueError:\n",
    "        return np.nan"
   ]
  },
  {
   "cell_type": "code",
   "execution_count": 98,
   "metadata": {
    "collapsed": false
   },
   "outputs": [],
   "source": [
    "items = pd.read_csv('data/items.csv', index_col=['item_id', 'alley_id'], na_values='unknown')\n",
    "items.drop(columns='Unnamed: 0', inplace=True)"
   ]
  },
  {
   "cell_type": "code",
   "execution_count": 99,
   "metadata": {
    "collapsed": false
   },
   "outputs": [
    {
     "name": "stdout",
     "output_type": "stream",
     "text": [
      "<class 'pandas.core.frame.DataFrame'>\n",
      "MultiIndex: 49147 entries, (1.0, 61.0) to (49688.0, 73.0)\n",
      "Data columns (total 2 columns):\n",
      " #   Column     Non-Null Count  Dtype  \n",
      "---  ------     --------------  -----  \n",
      " 0   item_name  47607 non-null  object \n",
      " 1   category   47622 non-null  float64\n",
      "dtypes: float64(1), object(1)\n",
      "memory usage: 2.4+ MB\n",
      "                                                          item_name  category\n",
      "item_id alley_id                                                             \n",
      "1.0     61.0                             Chocolate Sandwich Cookies      19.0\n",
      "2.0     104.0                                      All-Seasons Salt      13.0\n",
      "3.0     94.0                   Robust Golden Unsweetened Oolong Tea       7.0\n",
      "4.0     38.0      Smart Ones Classic Favorites Mini Rigatoni Wit...       1.0\n",
      "5.0     5.0                               Green Chile Anytime Sauce      13.0\n",
      "MultiIndex([(    1.0,  61.0),\n",
      "            (    2.0, 104.0),\n",
      "            (    3.0,  94.0),\n",
      "            (    4.0,  38.0),\n",
      "            (    5.0,   5.0),\n",
      "            (    6.0,  11.0),\n",
      "            (    7.0,  98.0),\n",
      "            (    nan, 116.0),\n",
      "            (    9.0,   nan),\n",
      "            (   10.0, 115.0),\n",
      "            ...\n",
      "            (49679.0,  61.0),\n",
      "            (49680.0,  89.0),\n",
      "            (49681.0,  38.0),\n",
      "            (49682.0,  98.0),\n",
      "            (49683.0,  83.0),\n",
      "            (49684.0, 124.0),\n",
      "            (49685.0,  42.0),\n",
      "            (49686.0, 112.0),\n",
      "            (49687.0,  41.0),\n",
      "            (49688.0,  73.0)],\n",
      "           names=['item_id', 'alley_id'], length=49147)\n"
     ]
    }
   ],
   "source": [
    "items.info()\n",
    "print(items.head())\n",
    "print(items.index)"
   ]
  },
  {
   "cell_type": "code",
   "execution_count": 100,
   "metadata": {
    "collapsed": false
   },
   "outputs": [],
   "source": [
    "categories = pd.read_csv('data/categories.csv', index_col='category_id')\n",
    "categories.drop(columns='Unnamed: 0', inplace=True)"
   ]
  },
  {
   "cell_type": "code",
   "execution_count": 101,
   "metadata": {
    "collapsed": false
   },
   "outputs": [
    {
     "name": "stdout",
     "output_type": "stream",
     "text": [
      "<class 'pandas.core.frame.DataFrame'>\n",
      "Index: 21 entries, 1 to 21\n",
      "Data columns (total 1 columns):\n",
      " #   Column    Non-Null Count  Dtype \n",
      "---  ------    --------------  ----- \n",
      " 0   category  21 non-null     object\n",
      "dtypes: object(1)\n",
      "memory usage: 336.0+ bytes\n"
     ]
    },
    {
     "data": {
      "text/plain": "Index([1, 2, 3, 4, 5, 6, 7, 8, 9, 10, 11, 12, 13, 14, 15, 16, 17, 18, 19, 20,\n       21],\n      dtype='int64', name='category_id')"
     },
     "execution_count": 101,
     "metadata": {},
     "output_type": "execute_result"
    }
   ],
   "source": [
    "categories.info()\n",
    "categories.describe()\n",
    "categories.index"
   ]
  },
  {
   "cell_type": "code",
   "execution_count": 102,
   "metadata": {
    "collapsed": false
   },
   "outputs": [],
   "source": [
    "alley_inventory = pd.read_csv('data/alley_inventory.csv', index_col='alley_id')"
   ]
  },
  {
   "cell_type": "code",
   "execution_count": 103,
   "metadata": {
    "collapsed": false
   },
   "outputs": [
    {
     "name": "stdout",
     "output_type": "stream",
     "text": [
      "<class 'pandas.core.frame.DataFrame'>\n",
      "Index: 134 entries, 1 to 134\n",
      "Data columns (total 1 columns):\n",
      " #   Column  Non-Null Count  Dtype \n",
      "---  ------  --------------  ----- \n",
      " 0   alley   134 non-null    object\n",
      "dtypes: object(1)\n",
      "memory usage: 2.1+ KB\n"
     ]
    },
    {
     "data": {
      "text/plain": "                               alley\nalley_id                            \n1              prepared soups salads\n2                  specialty cheeses\n3                energy granola bars\n4                      instant foods\n5         marinades meat preparation",
      "text/html": "<div>\n<style scoped>\n    .dataframe tbody tr th:only-of-type {\n        vertical-align: middle;\n    }\n\n    .dataframe tbody tr th {\n        vertical-align: top;\n    }\n\n    .dataframe thead th {\n        text-align: right;\n    }\n</style>\n<table border=\"1\" class=\"dataframe\">\n  <thead>\n    <tr style=\"text-align: right;\">\n      <th></th>\n      <th>alley</th>\n    </tr>\n    <tr>\n      <th>alley_id</th>\n      <th></th>\n    </tr>\n  </thead>\n  <tbody>\n    <tr>\n      <th>1</th>\n      <td>prepared soups salads</td>\n    </tr>\n    <tr>\n      <th>2</th>\n      <td>specialty cheeses</td>\n    </tr>\n    <tr>\n      <th>3</th>\n      <td>energy granola bars</td>\n    </tr>\n    <tr>\n      <th>4</th>\n      <td>instant foods</td>\n    </tr>\n    <tr>\n      <th>5</th>\n      <td>marinades meat preparation</td>\n    </tr>\n  </tbody>\n</table>\n</div>"
     },
     "execution_count": 103,
     "metadata": {},
     "output_type": "execute_result"
    }
   ],
   "source": [
    "alley_inventory.info()\n",
    "alley_inventory.head()"
   ]
  },
  {
   "cell_type": "code",
   "execution_count": 147,
   "metadata": {
    "collapsed": false
   },
   "outputs": [],
   "source": [
    "transaction_items__prior = pd.read_csv('data/transaction_items__prior.csv', na_values='unknown')"
   ]
  },
  {
   "cell_type": "code",
   "execution_count": 148,
   "metadata": {},
   "outputs": [],
   "source": [
    "transaction_items__prior.drop(columns='Unnamed: 0', inplace=True)\n",
    "transaction_items__prior.dropna(subset=['transaction_id'], inplace=True)\n",
    "transaction_items__prior.set_index(['transaction_id','item_id'], inplace=True)"
   ]
  },
  {
   "cell_type": "code",
   "execution_count": 149,
   "metadata": {
    "collapsed": false
   },
   "outputs": [
    {
     "name": "stdout",
     "output_type": "stream",
     "text": [
      "<class 'pandas.core.frame.DataFrame'>\n",
      "MultiIndex: 31059342 entries, (2.0, 33120.0) to (3421083.0, 5020.0)\n",
      "Data columns (total 2 columns):\n",
      " #   Column             Dtype  \n",
      "---  ------             -----  \n",
      " 0   add_to_cart_order  float64\n",
      " 1   previous_bought    float64\n",
      "dtypes: float64(2)\n",
      "memory usage: 801.3 MB\n"
     ]
    }
   ],
   "source": [
    "transaction_items__prior.info()"
   ]
  },
  {
   "cell_type": "code",
   "execution_count": 143,
   "metadata": {
    "collapsed": false
   },
   "outputs": [
    {
     "data": {
      "text/plain": "                       add_to_cart_order previous_bought\ntransaction_id item_id                                  \n2.0            33120.0               1.0             1.0\n               28985.0               2.0             1.0\n               45918.0               4.0             1.0\n               30035.0               5.0             0.0\n               17794.0               6.0             1.0\n               40141.0               7.0             1.0\n               1819.0                8.0             1.0\n               43668.0               9.0             0.0\n3.0            33754.0               1.0             1.0\n               24838.0               2.0             1.0",
      "text/html": "<div>\n<style scoped>\n    .dataframe tbody tr th:only-of-type {\n        vertical-align: middle;\n    }\n\n    .dataframe tbody tr th {\n        vertical-align: top;\n    }\n\n    .dataframe thead th {\n        text-align: right;\n    }\n</style>\n<table border=\"1\" class=\"dataframe\">\n  <thead>\n    <tr style=\"text-align: right;\">\n      <th></th>\n      <th></th>\n      <th>add_to_cart_order</th>\n      <th>previous_bought</th>\n    </tr>\n    <tr>\n      <th>transaction_id</th>\n      <th>item_id</th>\n      <th></th>\n      <th></th>\n    </tr>\n  </thead>\n  <tbody>\n    <tr>\n      <th rowspan=\"8\" valign=\"top\">2.0</th>\n      <th>33120.0</th>\n      <td>1.0</td>\n      <td>1.0</td>\n    </tr>\n    <tr>\n      <th>28985.0</th>\n      <td>2.0</td>\n      <td>1.0</td>\n    </tr>\n    <tr>\n      <th>45918.0</th>\n      <td>4.0</td>\n      <td>1.0</td>\n    </tr>\n    <tr>\n      <th>30035.0</th>\n      <td>5.0</td>\n      <td>0.0</td>\n    </tr>\n    <tr>\n      <th>17794.0</th>\n      <td>6.0</td>\n      <td>1.0</td>\n    </tr>\n    <tr>\n      <th>40141.0</th>\n      <td>7.0</td>\n      <td>1.0</td>\n    </tr>\n    <tr>\n      <th>1819.0</th>\n      <td>8.0</td>\n      <td>1.0</td>\n    </tr>\n    <tr>\n      <th>43668.0</th>\n      <td>9.0</td>\n      <td>0.0</td>\n    </tr>\n    <tr>\n      <th rowspan=\"2\" valign=\"top\">3.0</th>\n      <th>33754.0</th>\n      <td>1.0</td>\n      <td>1.0</td>\n    </tr>\n    <tr>\n      <th>24838.0</th>\n      <td>2.0</td>\n      <td>1.0</td>\n    </tr>\n  </tbody>\n</table>\n</div>"
     },
     "execution_count": 143,
     "metadata": {},
     "output_type": "execute_result"
    }
   ],
   "source": [
    "transaction_items__prior.head()"
   ]
  },
  {
   "cell_type": "code",
   "execution_count": 150,
   "metadata": {
    "collapsed": false
   },
   "outputs": [],
   "source": [
    "transaction_items__train = pd.read_csv('data/transaction_items__train.csv', na_values='unknown')"
   ]
  },
  {
   "cell_type": "code",
   "execution_count": 151,
   "outputs": [],
   "source": [
    "transaction_items__train.drop(columns='Unnamed: 0', inplace=True)\n",
    "transaction_items__train.dropna(subset=['transaction_id'], inplace=True)\n",
    "transaction_items__train.set_index(['transaction_id', 'item_id'], inplace=True)"
   ],
   "metadata": {
    "collapsed": false
   }
  },
  {
   "cell_type": "code",
   "execution_count": 152,
   "outputs": [
    {
     "name": "stdout",
     "output_type": "stream",
     "text": [
      "<class 'pandas.core.frame.DataFrame'>\n",
      "MultiIndex: 1325747 entries, (1.0, 49302.0) to (3421070.0, 4724.0)\n",
      "Data columns (total 2 columns):\n",
      " #   Column             Non-Null Count    Dtype  \n",
      "---  ------             --------------    -----  \n",
      " 0   add_to_cart_order  1284160 non-null  float64\n",
      " 1   previous_bought    1283667 non-null  float64\n",
      "dtypes: float64(2)\n",
      "memory usage: 36.7 MB\n"
     ]
    }
   ],
   "source": [
    "transaction_items__train.info()"
   ],
   "metadata": {
    "collapsed": false
   }
  },
  {
   "cell_type": "code",
   "execution_count": 153,
   "outputs": [
    {
     "data": {
      "text/plain": "                        add_to_cart_order  previous_bought\ntransaction_id item_id                                    \n1.0            49302.0                1.0              1.0\n               11109.0                2.0              1.0\n               10246.0                3.0              0.0\n               49683.0                4.0              0.0\n               43633.0                5.0              1.0",
      "text/html": "<div>\n<style scoped>\n    .dataframe tbody tr th:only-of-type {\n        vertical-align: middle;\n    }\n\n    .dataframe tbody tr th {\n        vertical-align: top;\n    }\n\n    .dataframe thead th {\n        text-align: right;\n    }\n</style>\n<table border=\"1\" class=\"dataframe\">\n  <thead>\n    <tr style=\"text-align: right;\">\n      <th></th>\n      <th></th>\n      <th>add_to_cart_order</th>\n      <th>previous_bought</th>\n    </tr>\n    <tr>\n      <th>transaction_id</th>\n      <th>item_id</th>\n      <th></th>\n      <th></th>\n    </tr>\n  </thead>\n  <tbody>\n    <tr>\n      <th rowspan=\"5\" valign=\"top\">1.0</th>\n      <th>49302.0</th>\n      <td>1.0</td>\n      <td>1.0</td>\n    </tr>\n    <tr>\n      <th>11109.0</th>\n      <td>2.0</td>\n      <td>1.0</td>\n    </tr>\n    <tr>\n      <th>10246.0</th>\n      <td>3.0</td>\n      <td>0.0</td>\n    </tr>\n    <tr>\n      <th>49683.0</th>\n      <td>4.0</td>\n      <td>0.0</td>\n    </tr>\n    <tr>\n      <th>43633.0</th>\n      <td>5.0</td>\n      <td>1.0</td>\n    </tr>\n  </tbody>\n</table>\n</div>"
     },
     "execution_count": 153,
     "metadata": {},
     "output_type": "execute_result"
    }
   ],
   "source": [
    "transaction_items__train.head()"
   ],
   "metadata": {
    "collapsed": false
   }
  },
  {
   "cell_type": "code",
   "execution_count": 157,
   "outputs": [],
   "source": [
    "transactions = pd.read_csv('data/transactions.csv', na_values='unknown')"
   ],
   "metadata": {
    "collapsed": false
   }
  },
  {
   "cell_type": "code",
   "execution_count": 158,
   "outputs": [],
   "source": [
    "transactions.drop(columns='Unnamed: 0', inplace=True)\n",
    "transactions.dropna(subset=['transaction_id'], inplace=True)\n",
    "transactions.set_index(['transaction_id', 'customer_id'], inplace=True)"
   ],
   "metadata": {
    "collapsed": false
   }
  },
  {
   "cell_type": "code",
   "execution_count": 159,
   "outputs": [
    {
     "name": "stdout",
     "output_type": "stream",
     "text": [
      "<class 'pandas.core.frame.DataFrame'>\n",
      "MultiIndex: 3204781 entries, (2539329.0, 1.0) to (272231.0, 206209.0)\n",
      "Data columns (total 5 columns):\n",
      " #   Column                  Dtype  \n",
      "---  ------                  -----  \n",
      " 0   eval_set                object \n",
      " 1   transaction_number      float64\n",
      " 2   day_of_week             float64\n",
      " 3   time_of_day             float64\n",
      " 4   days_since_prior_order  float64\n",
      "dtypes: float64(4), object(1)\n",
      "memory usage: 245.3+ MB\n"
     ]
    }
   ],
   "source": [
    "transactions.info()"
   ],
   "metadata": {
    "collapsed": false
   }
  },
  {
   "cell_type": "code",
   "execution_count": 160,
   "outputs": [
    {
     "data": {
      "text/plain": "                           eval_set  transaction_number  day_of_week   \ntransaction_id customer_id                                             \n2539329.0      1.0            prior                 1.0          2.0  \\\n2398795.0      1.0            prior                 2.0          3.0   \n473747.0       1.0            prior                 3.0          3.0   \n2254736.0      1.0            prior                 4.0          4.0   \n431534.0       1.0            prior                 5.0          4.0   \n\n                            time_of_day  days_since_prior_order  \ntransaction_id customer_id                                       \n2539329.0      1.0                  8.0                     NaN  \n2398795.0      1.0                  7.0                    15.0  \n473747.0       1.0                 12.0                    21.0  \n2254736.0      1.0                  7.0                    29.0  \n431534.0       1.0                 15.0                    28.0  ",
      "text/html": "<div>\n<style scoped>\n    .dataframe tbody tr th:only-of-type {\n        vertical-align: middle;\n    }\n\n    .dataframe tbody tr th {\n        vertical-align: top;\n    }\n\n    .dataframe thead th {\n        text-align: right;\n    }\n</style>\n<table border=\"1\" class=\"dataframe\">\n  <thead>\n    <tr style=\"text-align: right;\">\n      <th></th>\n      <th></th>\n      <th>eval_set</th>\n      <th>transaction_number</th>\n      <th>day_of_week</th>\n      <th>time_of_day</th>\n      <th>days_since_prior_order</th>\n    </tr>\n    <tr>\n      <th>transaction_id</th>\n      <th>customer_id</th>\n      <th></th>\n      <th></th>\n      <th></th>\n      <th></th>\n      <th></th>\n    </tr>\n  </thead>\n  <tbody>\n    <tr>\n      <th>2539329.0</th>\n      <th>1.0</th>\n      <td>prior</td>\n      <td>1.0</td>\n      <td>2.0</td>\n      <td>8.0</td>\n      <td>NaN</td>\n    </tr>\n    <tr>\n      <th>2398795.0</th>\n      <th>1.0</th>\n      <td>prior</td>\n      <td>2.0</td>\n      <td>3.0</td>\n      <td>7.0</td>\n      <td>15.0</td>\n    </tr>\n    <tr>\n      <th>473747.0</th>\n      <th>1.0</th>\n      <td>prior</td>\n      <td>3.0</td>\n      <td>3.0</td>\n      <td>12.0</td>\n      <td>21.0</td>\n    </tr>\n    <tr>\n      <th>2254736.0</th>\n      <th>1.0</th>\n      <td>prior</td>\n      <td>4.0</td>\n      <td>4.0</td>\n      <td>7.0</td>\n      <td>29.0</td>\n    </tr>\n    <tr>\n      <th>431534.0</th>\n      <th>1.0</th>\n      <td>prior</td>\n      <td>5.0</td>\n      <td>4.0</td>\n      <td>15.0</td>\n      <td>28.0</td>\n    </tr>\n  </tbody>\n</table>\n</div>"
     },
     "execution_count": 160,
     "metadata": {},
     "output_type": "execute_result"
    }
   ],
   "source": [
    "transactions.head()"
   ],
   "metadata": {
    "collapsed": false
   }
  },
  {
   "cell_type": "code",
   "execution_count": null,
   "outputs": [],
   "source": [],
   "metadata": {
    "collapsed": false
   }
  }
 ],
 "metadata": {
  "kernelspec": {
   "display_name": "Python 3",
   "language": "python",
   "name": "python3"
  },
  "language_info": {
   "codemirror_mode": {
    "name": "ipython",
    "version": 2
   },
   "file_extension": ".py",
   "mimetype": "text/x-python",
   "name": "python",
   "nbconvert_exporter": "python",
   "pygments_lexer": "ipython2",
   "version": "2.7.6"
  }
 },
 "nbformat": 4,
 "nbformat_minor": 0
}
