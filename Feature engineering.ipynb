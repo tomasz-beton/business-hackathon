{
 "cells": [
  {
   "cell_type": "code",
   "execution_count": 1,
   "metadata": {
    "collapsed": true,
    "ExecuteTime": {
     "end_time": "2023-05-20T16:34:44.782130550Z",
     "start_time": "2023-05-20T16:34:44.667720556Z"
    }
   },
   "outputs": [],
   "source": [
    "import pandas as pd\n",
    "from file_utils import load_dataframes"
   ]
  },
  {
   "cell_type": "code",
   "execution_count": 2,
   "outputs": [],
   "source": [
    "items, categories, alley_inventory, transaction_items__prior, transaction_items__train, transactions = load_dataframes(\"data\")"
   ],
   "metadata": {
    "collapsed": false,
    "ExecuteTime": {
     "end_time": "2023-05-20T16:37:18.422692426Z",
     "start_time": "2023-05-20T16:34:44.690009519Z"
    }
   }
  },
  {
   "cell_type": "code",
   "execution_count": 3,
   "outputs": [],
   "source": [
    "df_prior = pd.merge(transaction_items__prior, transactions, on=\"transaction_id\")\n",
    "df_train = pd.merge(transaction_items__train, transactions, on=\"transaction_id\")"
   ],
   "metadata": {
    "collapsed": false,
    "ExecuteTime": {
     "end_time": "2023-05-20T16:37:27.352651916Z",
     "start_time": "2023-05-20T16:37:18.463138891Z"
    }
   }
  },
  {
   "cell_type": "code",
   "execution_count": 4,
   "outputs": [],
   "source": [
    "N_ITEMS = items.shape[0]\n",
    "N_CUSTOMERS = transactions.loc[transactions.eval_set == \"prior\"].shape[0]\n",
    "N_TRANSACTIONS_PRIOR = transactions.loc[transactions.eval_set == \"prior\"].shape[0]\n",
    "N_TRANSACTIONS_TRAIN = transactions.loc[transactions.eval_set == \"train\"].shape[0]"
   ],
   "metadata": {
    "collapsed": false,
    "ExecuteTime": {
     "end_time": "2023-05-20T16:37:28.839601497Z",
     "start_time": "2023-05-20T16:37:27.678267222Z"
    }
   }
  },
  {
   "cell_type": "markdown",
   "source": [
    "### Item features\n",
    "\n",
    "- category\n",
    "- aisle\n",
    "- order rate\n",
    "- reorder rate"
   ],
   "metadata": {
    "collapsed": false
   }
  },
  {
   "cell_type": "code",
   "execution_count": 6,
   "outputs": [],
   "source": [
    "# Category and aisle\n",
    "item_features = items[[\"category\", \"alley_id\"]]"
   ],
   "metadata": {
    "collapsed": false,
    "ExecuteTime": {
     "end_time": "2023-05-20T16:37:28.890823264Z",
     "start_time": "2023-05-20T16:37:28.883411830Z"
    }
   }
  },
  {
   "cell_type": "code",
   "execution_count": 7,
   "outputs": [
    {
     "data": {
      "text/plain": "item_id\n1        0.000533\n2        0.000026\n3        0.000077\n4        0.000095\n5        0.000004\n           ...   \n49684    0.000002\n49685    0.000013\n49686    0.000034\n49687    0.000004\n49688    0.000026\nName: order_rate, Length: 49147, dtype: float64"
     },
     "execution_count": 7,
     "metadata": {},
     "output_type": "execute_result"
    }
   ],
   "source": [
    "# Order rate\n",
    "\n",
    "item_features[\"order_rate\"] = df_prior.groupby(\"item_id\").agg({\"transaction_number\": \"count\"}) / N_TRANSACTIONS_PRIOR\n",
    "item_features[\"order_rate\"]"
   ],
   "metadata": {
    "collapsed": false,
    "ExecuteTime": {
     "end_time": "2023-05-20T16:37:29.514902405Z",
     "start_time": "2023-05-20T16:37:28.893850224Z"
    }
   }
  },
  {
   "cell_type": "code",
   "execution_count": 8,
   "outputs": [
    {
     "data": {
      "text/plain": "item_id\n1        0.619683\n2        0.113924\n3        0.716157\n4        0.433099\n5        0.571429\n           ...   \n49684    0.142857\n49685    0.128205\n49686    0.682692\n49687    0.454545\n49688       0.175\nName: reorder_rate, Length: 49147, dtype: Float64"
     },
     "execution_count": 8,
     "metadata": {},
     "output_type": "execute_result"
    }
   ],
   "source": [
    "# Reorder rate\n",
    "item_features[\"reorder_rate\"] = df_prior.groupby(\"item_id\").agg({\"previous_bought\": \"mean\"})\n",
    "item_features[\"reorder_rate\"]"
   ],
   "metadata": {
    "collapsed": false,
    "ExecuteTime": {
     "end_time": "2023-05-20T16:37:30.461414191Z",
     "start_time": "2023-05-20T16:37:29.518285296Z"
    }
   }
  },
  {
   "cell_type": "code",
   "execution_count": 10,
   "outputs": [
    {
     "data": {
      "text/plain": "         category  alley_id  order_rate  reorder_rate\nitem_id                                              \n1              19        61    0.000533      0.619683\n2              13       104    0.000026      0.113924\n3               7        94    0.000077      0.716157\n4               1        38    0.000095      0.433099\n5              13         5    0.000004      0.571429\n...           ...       ...         ...           ...\n49684           5       124    0.000002      0.142857\n49685           1        42    0.000013      0.128205\n49686           3       112    0.000034      0.682692\n49687           8        41    0.000004      0.454545\n49688          11        73    0.000026         0.175\n\n[49147 rows x 4 columns]",
      "text/html": "<div>\n<style scoped>\n    .dataframe tbody tr th:only-of-type {\n        vertical-align: middle;\n    }\n\n    .dataframe tbody tr th {\n        vertical-align: top;\n    }\n\n    .dataframe thead th {\n        text-align: right;\n    }\n</style>\n<table border=\"1\" class=\"dataframe\">\n  <thead>\n    <tr style=\"text-align: right;\">\n      <th></th>\n      <th>category</th>\n      <th>alley_id</th>\n      <th>order_rate</th>\n      <th>reorder_rate</th>\n    </tr>\n    <tr>\n      <th>item_id</th>\n      <th></th>\n      <th></th>\n      <th></th>\n      <th></th>\n    </tr>\n  </thead>\n  <tbody>\n    <tr>\n      <th>1</th>\n      <td>19</td>\n      <td>61</td>\n      <td>0.000533</td>\n      <td>0.619683</td>\n    </tr>\n    <tr>\n      <th>2</th>\n      <td>13</td>\n      <td>104</td>\n      <td>0.000026</td>\n      <td>0.113924</td>\n    </tr>\n    <tr>\n      <th>3</th>\n      <td>7</td>\n      <td>94</td>\n      <td>0.000077</td>\n      <td>0.716157</td>\n    </tr>\n    <tr>\n      <th>4</th>\n      <td>1</td>\n      <td>38</td>\n      <td>0.000095</td>\n      <td>0.433099</td>\n    </tr>\n    <tr>\n      <th>5</th>\n      <td>13</td>\n      <td>5</td>\n      <td>0.000004</td>\n      <td>0.571429</td>\n    </tr>\n    <tr>\n      <th>...</th>\n      <td>...</td>\n      <td>...</td>\n      <td>...</td>\n      <td>...</td>\n    </tr>\n    <tr>\n      <th>49684</th>\n      <td>5</td>\n      <td>124</td>\n      <td>0.000002</td>\n      <td>0.142857</td>\n    </tr>\n    <tr>\n      <th>49685</th>\n      <td>1</td>\n      <td>42</td>\n      <td>0.000013</td>\n      <td>0.128205</td>\n    </tr>\n    <tr>\n      <th>49686</th>\n      <td>3</td>\n      <td>112</td>\n      <td>0.000034</td>\n      <td>0.682692</td>\n    </tr>\n    <tr>\n      <th>49687</th>\n      <td>8</td>\n      <td>41</td>\n      <td>0.000004</td>\n      <td>0.454545</td>\n    </tr>\n    <tr>\n      <th>49688</th>\n      <td>11</td>\n      <td>73</td>\n      <td>0.000026</td>\n      <td>0.175</td>\n    </tr>\n  </tbody>\n</table>\n<p>49147 rows × 4 columns</p>\n</div>"
     },
     "execution_count": 10,
     "metadata": {},
     "output_type": "execute_result"
    }
   ],
   "source": [
    "item_features.to_parquet(\"features/item_features.parquet\")\n",
    "item_features"
   ],
   "metadata": {
    "collapsed": false,
    "ExecuteTime": {
     "end_time": "2023-05-20T16:41:58.878513855Z",
     "start_time": "2023-05-20T16:41:58.607443761Z"
    }
   }
  },
  {
   "cell_type": "markdown",
   "source": [
    "### Client features\n",
    "\n",
    "- number of prior transactions\n",
    "- average number of items in transaction\n",
    "- reorder rate"
   ],
   "metadata": {
    "collapsed": false
   }
  },
  {
   "cell_type": "code",
   "execution_count": 24,
   "outputs": [
    {
     "data": {
      "text/plain": "Empty DataFrame\nColumns: []\nIndex: [1, 1, 1, 1, 1, 1, 1, 1, 1, <NA>, 2, 2, 2, 2, <NA>, 2, 2, 2, 2, 2, 2, 2, 2, 3, 3, 3, 3, 3, 3, 3, 3, 3, 3, 3, 4, 4, 4, 4, 5, 5, 5, 6, 6, 7, 7, 7, 7, 7, <NA>, 7, 7, 7, 7, 7, 7, 7, 7, 7, 7, 7, 7, 7, 7, 8, 8, 8, 9, 9, 9, 10, 10, 10, 10, 10, 11, 11, 11, 11, 11, <NA>, 11, 12, 12, 12, 12, 13, 13, 13, 13, 13, 13, 13, 13, 13, 13, 13, 13, 14, 14, 14, ...]\n\n[2981367 rows x 0 columns]",
      "text/html": "<div>\n<style scoped>\n    .dataframe tbody tr th:only-of-type {\n        vertical-align: middle;\n    }\n\n    .dataframe tbody tr th {\n        vertical-align: top;\n    }\n\n    .dataframe thead th {\n        text-align: right;\n    }\n</style>\n<table border=\"1\" class=\"dataframe\">\n  <thead>\n    <tr style=\"text-align: right;\">\n      <th></th>\n    </tr>\n    <tr>\n      <th>customer_id</th>\n    </tr>\n  </thead>\n  <tbody>\n    <tr>\n      <th>1</th>\n    </tr>\n    <tr>\n      <th>1</th>\n    </tr>\n    <tr>\n      <th>1</th>\n    </tr>\n    <tr>\n      <th>1</th>\n    </tr>\n    <tr>\n      <th>1</th>\n    </tr>\n    <tr>\n      <th>...</th>\n    </tr>\n    <tr>\n      <th>206209</th>\n    </tr>\n    <tr>\n      <th>206209</th>\n    </tr>\n    <tr>\n      <th>206209</th>\n    </tr>\n    <tr>\n      <th>206209</th>\n    </tr>\n    <tr>\n      <th>206209</th>\n    </tr>\n  </tbody>\n</table>\n<p>2981367 rows × 0 columns</p>\n</div>"
     },
     "execution_count": 24,
     "metadata": {},
     "output_type": "execute_result"
    }
   ],
   "source": [
    "pd.DataFrame(index=transactions.loc[transactions.eval_set == \"prior\"].customer_id.unique())"
   ],
   "metadata": {
    "collapsed": false,
    "ExecuteTime": {
     "end_time": "2023-05-20T16:52:42.222678688Z",
     "start_time": "2023-05-20T16:52:41.533158723Z"
    }
   }
  },
  {
   "cell_type": "code",
   "execution_count": 25,
   "outputs": [],
   "source": [
    "client_features = pd.DataFrame(index=transactions.loc[transactions.eval_set == \"prior\"].customer_id.unique())\n",
    "client_features.index.name = \"customer_id\""
   ],
   "metadata": {
    "collapsed": false,
    "ExecuteTime": {
     "end_time": "2023-05-20T17:37:01.561205546Z",
     "start_time": "2023-05-20T17:37:01.191470791Z"
    }
   }
  },
  {
   "cell_type": "code",
   "execution_count": 26,
   "outputs": [
    {
     "data": {
      "text/plain": "customer_id\n1            9\n<NA>      <NA>\n2           14\n3           12\n4            5\n          ... \n206205       2\n206206      67\n206207      16\n206208      49\n206209      13\nName: n_transactions, Length: 206188, dtype: Int64"
     },
     "execution_count": 26,
     "metadata": {},
     "output_type": "execute_result"
    }
   ],
   "source": [
    "# Number of prior transactions per client\n",
    "\n",
    "client_features[\"n_transactions\"] = df_prior.groupby(\"customer_id\").agg({\"transaction_number\": \"max\"})\n",
    "client_features[\"n_transactions\"]"
   ],
   "metadata": {
    "collapsed": false,
    "ExecuteTime": {
     "end_time": "2023-05-20T17:37:03.082332347Z",
     "start_time": "2023-05-20T17:37:02.184329652Z"
    }
   }
  },
  {
   "cell_type": "code",
   "execution_count": 27,
   "outputs": [
    {
     "data": {
      "text/plain": "customer_id\n1          5.333333\n<NA>           <NA>\n2              10.5\n3          6.583333\n4               2.6\n            ...    \n206205         12.0\n206206     3.865672\n206207         12.0\n206208    11.979592\n206209     8.307692\nName: avg_items_in_transaction, Length: 206188, dtype: Float64"
     },
     "execution_count": 27,
     "metadata": {},
     "output_type": "execute_result"
    }
   ],
   "source": [
    "# Average items in transaction per client\n",
    "\n",
    "client_features[\"avg_items_in_transaction\"] = df_prior.groupby(\"customer_id\").agg({\"item_id\": \"count\"})\n",
    "client_features[\"avg_items_in_transaction\"] /= client_features[\"n_transactions\"]\n",
    "client_features[\"avg_items_in_transaction\"]"
   ],
   "metadata": {
    "collapsed": false,
    "ExecuteTime": {
     "end_time": "2023-05-20T17:37:04.562567900Z",
     "start_time": "2023-05-20T17:37:03.744221308Z"
    }
   }
  },
  {
   "cell_type": "code",
   "execution_count": 28,
   "outputs": [
    {
     "data": {
      "text/plain": "             n_transactions  avg_items_in_transaction\ncustomer_id                                          \n1                         9                  5.333333\n<NA>                   <NA>                      <NA>\n2                        14                      10.5\n3                        12                  6.583333\n4                         5                       2.6\n...                     ...                       ...\n206205                    2                      12.0\n206206                   67                  3.865672\n206207                   16                      12.0\n206208                   49                 11.979592\n206209                   13                  8.307692\n\n[206188 rows x 2 columns]",
      "text/html": "<div>\n<style scoped>\n    .dataframe tbody tr th:only-of-type {\n        vertical-align: middle;\n    }\n\n    .dataframe tbody tr th {\n        vertical-align: top;\n    }\n\n    .dataframe thead th {\n        text-align: right;\n    }\n</style>\n<table border=\"1\" class=\"dataframe\">\n  <thead>\n    <tr style=\"text-align: right;\">\n      <th></th>\n      <th>n_transactions</th>\n      <th>avg_items_in_transaction</th>\n    </tr>\n    <tr>\n      <th>customer_id</th>\n      <th></th>\n      <th></th>\n    </tr>\n  </thead>\n  <tbody>\n    <tr>\n      <th>1</th>\n      <td>9</td>\n      <td>5.333333</td>\n    </tr>\n    <tr>\n      <th>&lt;NA&gt;</th>\n      <td>&lt;NA&gt;</td>\n      <td>&lt;NA&gt;</td>\n    </tr>\n    <tr>\n      <th>2</th>\n      <td>14</td>\n      <td>10.5</td>\n    </tr>\n    <tr>\n      <th>3</th>\n      <td>12</td>\n      <td>6.583333</td>\n    </tr>\n    <tr>\n      <th>4</th>\n      <td>5</td>\n      <td>2.6</td>\n    </tr>\n    <tr>\n      <th>...</th>\n      <td>...</td>\n      <td>...</td>\n    </tr>\n    <tr>\n      <th>206205</th>\n      <td>2</td>\n      <td>12.0</td>\n    </tr>\n    <tr>\n      <th>206206</th>\n      <td>67</td>\n      <td>3.865672</td>\n    </tr>\n    <tr>\n      <th>206207</th>\n      <td>16</td>\n      <td>12.0</td>\n    </tr>\n    <tr>\n      <th>206208</th>\n      <td>49</td>\n      <td>11.979592</td>\n    </tr>\n    <tr>\n      <th>206209</th>\n      <td>13</td>\n      <td>8.307692</td>\n    </tr>\n  </tbody>\n</table>\n<p>206188 rows × 2 columns</p>\n</div>"
     },
     "execution_count": 28,
     "metadata": {},
     "output_type": "execute_result"
    }
   ],
   "source": [
    "client_features.to_parquet(\"features/client_features.parquet\")\n",
    "client_features"
   ],
   "metadata": {
    "collapsed": false,
    "ExecuteTime": {
     "end_time": "2023-05-20T17:37:06.711748131Z",
     "start_time": "2023-05-20T17:37:06.599200074Z"
    }
   }
  },
  {
   "cell_type": "markdown",
   "source": [
    "### Client-item features\n",
    "\n",
    "- number of transactions of client with that item\n",
    "- how many orders since last order of that item\n",
    "- reorder rate"
   ],
   "metadata": {
    "collapsed": false
   }
  },
  {
   "cell_type": "code",
   "execution_count": 29,
   "outputs": [
    {
     "data": {
      "text/plain": "customer_id  item_id\n1            196         9\n             10258       9\n             10326       5\n             12427       9\n             13032       7\n                        ..\n206209       43961      12\n             44325       7\n             48370      11\n             48697       7\n             48742       7\nName: last_transaction, Length: 12140563, dtype: Int64"
     },
     "execution_count": 29,
     "metadata": {},
     "output_type": "execute_result"
    }
   ],
   "source": [
    "# How many orders since last order of that item\n",
    "\n",
    "client_item_features = df_prior.groupby([\"customer_id\", \"item_id\"]).agg({\"transaction_number\": \"max\"}).rename(columns={\"transaction_number\": \"last_transaction\"})\n",
    "\n",
    "client_item_features[\"last_transaction\"]"
   ],
   "metadata": {
    "collapsed": false,
    "ExecuteTime": {
     "end_time": "2023-05-20T17:37:28.416335404Z",
     "start_time": "2023-05-20T17:37:14.471812918Z"
    }
   }
  },
  {
   "cell_type": "code",
   "execution_count": 35,
   "outputs": [
    {
     "data": {
      "text/plain": "                     last_transaction  n_transactions\ncustomer_id item_id                                  \n1           196                     9               9\n            10258                   9               9\n            10326                   5               9\n            12427                   9               9\n            13032                   7               9\n...                               ...             ...\n206209      43961                  12              13\n            44325                   7              13\n            48370                  11              13\n            48697                   7              13\n            48742                   7              13\n\n[12140563 rows x 2 columns]",
      "text/html": "<div>\n<style scoped>\n    .dataframe tbody tr th:only-of-type {\n        vertical-align: middle;\n    }\n\n    .dataframe tbody tr th {\n        vertical-align: top;\n    }\n\n    .dataframe thead th {\n        text-align: right;\n    }\n</style>\n<table border=\"1\" class=\"dataframe\">\n  <thead>\n    <tr style=\"text-align: right;\">\n      <th></th>\n      <th></th>\n      <th>last_transaction</th>\n      <th>n_transactions</th>\n    </tr>\n    <tr>\n      <th>customer_id</th>\n      <th>item_id</th>\n      <th></th>\n      <th></th>\n    </tr>\n  </thead>\n  <tbody>\n    <tr>\n      <th rowspan=\"5\" valign=\"top\">1</th>\n      <th>196</th>\n      <td>9</td>\n      <td>9</td>\n    </tr>\n    <tr>\n      <th>10258</th>\n      <td>9</td>\n      <td>9</td>\n    </tr>\n    <tr>\n      <th>10326</th>\n      <td>5</td>\n      <td>9</td>\n    </tr>\n    <tr>\n      <th>12427</th>\n      <td>9</td>\n      <td>9</td>\n    </tr>\n    <tr>\n      <th>13032</th>\n      <td>7</td>\n      <td>9</td>\n    </tr>\n    <tr>\n      <th>...</th>\n      <th>...</th>\n      <td>...</td>\n      <td>...</td>\n    </tr>\n    <tr>\n      <th rowspan=\"5\" valign=\"top\">206209</th>\n      <th>43961</th>\n      <td>12</td>\n      <td>13</td>\n    </tr>\n    <tr>\n      <th>44325</th>\n      <td>7</td>\n      <td>13</td>\n    </tr>\n    <tr>\n      <th>48370</th>\n      <td>11</td>\n      <td>13</td>\n    </tr>\n    <tr>\n      <th>48697</th>\n      <td>7</td>\n      <td>13</td>\n    </tr>\n    <tr>\n      <th>48742</th>\n      <td>7</td>\n      <td>13</td>\n    </tr>\n  </tbody>\n</table>\n<p>12140563 rows × 2 columns</p>\n</div>"
     },
     "execution_count": 35,
     "metadata": {},
     "output_type": "execute_result"
    }
   ],
   "source": [
    "client_item_features.join(client_features[\"n_transactions\"])"
   ],
   "metadata": {
    "collapsed": false,
    "ExecuteTime": {
     "end_time": "2023-05-20T17:39:45.361972766Z",
     "start_time": "2023-05-20T17:39:44.558296565Z"
    }
   }
  },
  {
   "cell_type": "code",
   "execution_count": 43,
   "outputs": [
    {
     "data": {
      "text/plain": "customer_id  item_id\n1            196        0\n             10258      0\n             10326      4\n             12427      0\n             13032      2\n                       ..\n206209       43961      1\n             44325      6\n             48370      2\n             48697      6\n             48742      6\nName: n_transactions_since_last, Length: 12140563, dtype: Int64"
     },
     "execution_count": 43,
     "metadata": {},
     "output_type": "execute_result"
    }
   ],
   "source": [
    "client_item_features[\"n_transactions_since_last\"] = \\\n",
    "    client_item_features.join(client_features[\"n_transactions\"])[\"n_transactions\"] - client_item_features[\"last_transaction\"]\n",
    "client_item_features[\"n_transactions_since_last\"]"
   ],
   "metadata": {
    "collapsed": false,
    "ExecuteTime": {
     "end_time": "2023-05-20T17:41:20.559955788Z",
     "start_time": "2023-05-20T17:41:18.883414664Z"
    }
   }
  },
  {
   "cell_type": "code",
   "execution_count": 44,
   "outputs": [
    {
     "data": {
      "text/plain": "customer_id  item_id\n1            196        9\n             10258      8\n             10326      1\n             12427      9\n             13032      2\n                       ..\n206209       43961      3\n             44325      1\n             48370      1\n             48697      1\n             48742      1\nName: n_transactions, Length: 12140563, dtype: int64"
     },
     "execution_count": 44,
     "metadata": {},
     "output_type": "execute_result"
    }
   ],
   "source": [
    "# Number of transactions of client with that item\n",
    "client_item_features[\"n_transactions\"] = df_prior.groupby([\"customer_id\", \"item_id\"]).size()\n",
    "client_item_features[\"n_transactions\"]"
   ],
   "metadata": {
    "collapsed": false,
    "ExecuteTime": {
     "end_time": "2023-05-20T17:41:39.158551977Z",
     "start_time": "2023-05-20T17:41:23.150786409Z"
    }
   }
  },
  {
   "cell_type": "code",
   "execution_count": 46,
   "outputs": [
    {
     "data": {
      "text/plain": "customer_id  item_id\n1            196        0.888889\n             10258         0.875\n             10326           0.0\n             12427         0.875\n             13032           0.5\n                          ...   \n206209       43961      0.666667\n             44325           0.0\n             48370           0.0\n             48697           0.0\n             48742           0.0\nName: reorder_rate, Length: 12140563, dtype: Float64"
     },
     "execution_count": 46,
     "metadata": {},
     "output_type": "execute_result"
    }
   ],
   "source": [
    "# Reorder rate\n",
    "client_item_features[\"reorder_rate\"] = df_prior.groupby([\"customer_id\", \"item_id\"]).agg({\"previous_bought\": \"mean\"})\n",
    "client_item_features[\"reorder_rate\"]"
   ],
   "metadata": {
    "collapsed": false,
    "ExecuteTime": {
     "end_time": "2023-05-20T17:44:04.982253741Z",
     "start_time": "2023-05-20T17:43:52.274527163Z"
    }
   }
  },
  {
   "cell_type": "code",
   "execution_count": 47,
   "outputs": [],
   "source": [
    "# Number of transactions with that item in last 30 days - NOT CREDIBLE\n",
    "\n",
    "# client_item_features[\"n_transactions_last_30_days\"] = df_prior.loc[df_prior.days_since_prior_order <= 30].groupby([\"customer_id\", \"item_id\"]).size()\n",
    "# client_item_features[\"n_transactions_last_30_days\"]"
   ],
   "metadata": {
    "collapsed": false,
    "ExecuteTime": {
     "end_time": "2023-05-20T17:44:04.982765692Z",
     "start_time": "2023-05-20T17:44:04.979550478Z"
    }
   }
  },
  {
   "cell_type": "code",
   "execution_count": 48,
   "outputs": [
    {
     "data": {
      "text/plain": "                     last_transaction  n_transactions_since_last   \ncustomer_id item_id                                                \n1           196                     9                          0  \\\n            10258                   9                          0   \n            10326                   5                          4   \n            12427                   9                          0   \n            13032                   7                          2   \n...                               ...                        ...   \n206209      43961                  12                          1   \n            44325                   7                          6   \n            48370                  11                          2   \n            48697                   7                          6   \n            48742                   7                          6   \n\n                     n_transactions  reorder_rate  \ncustomer_id item_id                                \n1           196                   9      0.888889  \n            10258                 8         0.875  \n            10326                 1           0.0  \n            12427                 9         0.875  \n            13032                 2           0.5  \n...                             ...           ...  \n206209      43961                 3      0.666667  \n            44325                 1           0.0  \n            48370                 1           0.0  \n            48697                 1           0.0  \n            48742                 1           0.0  \n\n[12140563 rows x 4 columns]",
      "text/html": "<div>\n<style scoped>\n    .dataframe tbody tr th:only-of-type {\n        vertical-align: middle;\n    }\n\n    .dataframe tbody tr th {\n        vertical-align: top;\n    }\n\n    .dataframe thead th {\n        text-align: right;\n    }\n</style>\n<table border=\"1\" class=\"dataframe\">\n  <thead>\n    <tr style=\"text-align: right;\">\n      <th></th>\n      <th></th>\n      <th>last_transaction</th>\n      <th>n_transactions_since_last</th>\n      <th>n_transactions</th>\n      <th>reorder_rate</th>\n    </tr>\n    <tr>\n      <th>customer_id</th>\n      <th>item_id</th>\n      <th></th>\n      <th></th>\n      <th></th>\n      <th></th>\n    </tr>\n  </thead>\n  <tbody>\n    <tr>\n      <th rowspan=\"5\" valign=\"top\">1</th>\n      <th>196</th>\n      <td>9</td>\n      <td>0</td>\n      <td>9</td>\n      <td>0.888889</td>\n    </tr>\n    <tr>\n      <th>10258</th>\n      <td>9</td>\n      <td>0</td>\n      <td>8</td>\n      <td>0.875</td>\n    </tr>\n    <tr>\n      <th>10326</th>\n      <td>5</td>\n      <td>4</td>\n      <td>1</td>\n      <td>0.0</td>\n    </tr>\n    <tr>\n      <th>12427</th>\n      <td>9</td>\n      <td>0</td>\n      <td>9</td>\n      <td>0.875</td>\n    </tr>\n    <tr>\n      <th>13032</th>\n      <td>7</td>\n      <td>2</td>\n      <td>2</td>\n      <td>0.5</td>\n    </tr>\n    <tr>\n      <th>...</th>\n      <th>...</th>\n      <td>...</td>\n      <td>...</td>\n      <td>...</td>\n      <td>...</td>\n    </tr>\n    <tr>\n      <th rowspan=\"5\" valign=\"top\">206209</th>\n      <th>43961</th>\n      <td>12</td>\n      <td>1</td>\n      <td>3</td>\n      <td>0.666667</td>\n    </tr>\n    <tr>\n      <th>44325</th>\n      <td>7</td>\n      <td>6</td>\n      <td>1</td>\n      <td>0.0</td>\n    </tr>\n    <tr>\n      <th>48370</th>\n      <td>11</td>\n      <td>2</td>\n      <td>1</td>\n      <td>0.0</td>\n    </tr>\n    <tr>\n      <th>48697</th>\n      <td>7</td>\n      <td>6</td>\n      <td>1</td>\n      <td>0.0</td>\n    </tr>\n    <tr>\n      <th>48742</th>\n      <td>7</td>\n      <td>6</td>\n      <td>1</td>\n      <td>0.0</td>\n    </tr>\n  </tbody>\n</table>\n<p>12140563 rows × 4 columns</p>\n</div>"
     },
     "execution_count": 48,
     "metadata": {},
     "output_type": "execute_result"
    }
   ],
   "source": [
    "client_item_features.to_parquet(\"features/client_item_features.parquet\")\n",
    "client_item_features"
   ],
   "metadata": {
    "collapsed": false,
    "ExecuteTime": {
     "end_time": "2023-05-20T17:44:07.597319375Z",
     "start_time": "2023-05-20T17:44:04.979881060Z"
    }
   }
  },
  {
   "cell_type": "markdown",
   "source": [
    "### Transaction features\n",
    "\n",
    "- day of week\n",
    "- hour of day"
   ],
   "metadata": {
    "collapsed": false
   }
  },
  {
   "cell_type": "code",
   "execution_count": 49,
   "outputs": [],
   "source": [
    "transaction_features = transactions.loc[transactions.eval_set == \"train\"][[\"day_of_week\", \"time_of_day\"]]"
   ],
   "metadata": {
    "collapsed": false,
    "ExecuteTime": {
     "end_time": "2023-05-20T17:44:07.887350186Z",
     "start_time": "2023-05-20T17:44:07.863858817Z"
    }
   }
  },
  {
   "cell_type": "code",
   "execution_count": 50,
   "outputs": [
    {
     "data": {
      "text/plain": "                day_of_week  time_of_day\ntransaction_id                          \n1187899                   4            8\n1492625                   1           11\n2196797                   0           11\n525192                    2         <NA>\n880375                    1           14\n...                     ...          ...\n2585586                   2           16\n943915                    6           19\n2371631                   4         <NA>\n1716008                   1           16\n272231                    6           14\n\n[121579 rows x 2 columns]",
      "text/html": "<div>\n<style scoped>\n    .dataframe tbody tr th:only-of-type {\n        vertical-align: middle;\n    }\n\n    .dataframe tbody tr th {\n        vertical-align: top;\n    }\n\n    .dataframe thead th {\n        text-align: right;\n    }\n</style>\n<table border=\"1\" class=\"dataframe\">\n  <thead>\n    <tr style=\"text-align: right;\">\n      <th></th>\n      <th>day_of_week</th>\n      <th>time_of_day</th>\n    </tr>\n    <tr>\n      <th>transaction_id</th>\n      <th></th>\n      <th></th>\n    </tr>\n  </thead>\n  <tbody>\n    <tr>\n      <th>1187899</th>\n      <td>4</td>\n      <td>8</td>\n    </tr>\n    <tr>\n      <th>1492625</th>\n      <td>1</td>\n      <td>11</td>\n    </tr>\n    <tr>\n      <th>2196797</th>\n      <td>0</td>\n      <td>11</td>\n    </tr>\n    <tr>\n      <th>525192</th>\n      <td>2</td>\n      <td>&lt;NA&gt;</td>\n    </tr>\n    <tr>\n      <th>880375</th>\n      <td>1</td>\n      <td>14</td>\n    </tr>\n    <tr>\n      <th>...</th>\n      <td>...</td>\n      <td>...</td>\n    </tr>\n    <tr>\n      <th>2585586</th>\n      <td>2</td>\n      <td>16</td>\n    </tr>\n    <tr>\n      <th>943915</th>\n      <td>6</td>\n      <td>19</td>\n    </tr>\n    <tr>\n      <th>2371631</th>\n      <td>4</td>\n      <td>&lt;NA&gt;</td>\n    </tr>\n    <tr>\n      <th>1716008</th>\n      <td>1</td>\n      <td>16</td>\n    </tr>\n    <tr>\n      <th>272231</th>\n      <td>6</td>\n      <td>14</td>\n    </tr>\n  </tbody>\n</table>\n<p>121579 rows × 2 columns</p>\n</div>"
     },
     "execution_count": 50,
     "metadata": {},
     "output_type": "execute_result"
    }
   ],
   "source": [
    "transaction_features.to_parquet(\"features/transaction_features.parquet\")\n",
    "transaction_features"
   ],
   "metadata": {
    "collapsed": false,
    "ExecuteTime": {
     "end_time": "2023-05-20T17:44:07.939706224Z",
     "start_time": "2023-05-20T17:44:07.893572621Z"
    }
   }
  },
  {
   "cell_type": "code",
   "execution_count": null,
   "outputs": [],
   "source": [],
   "metadata": {
    "collapsed": false
   }
  }
 ],
 "metadata": {
  "kernelspec": {
   "display_name": "Python 3",
   "language": "python",
   "name": "python3"
  },
  "language_info": {
   "codemirror_mode": {
    "name": "ipython",
    "version": 2
   },
   "file_extension": ".py",
   "mimetype": "text/x-python",
   "name": "python",
   "nbconvert_exporter": "python",
   "pygments_lexer": "ipython2",
   "version": "2.7.6"
  }
 },
 "nbformat": 4,
 "nbformat_minor": 0
}
