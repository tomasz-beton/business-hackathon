{
 "cells": [
  {
   "cell_type": "code",
   "execution_count": 1,
   "metadata": {
    "collapsed": true
   },
   "outputs": [],
   "source": [
    "import pandas as pd\n",
    "import numpy as np\n",
    "import seaborn as sns\n",
    "from file_utils import load_dataframes\n",
    "from mlxtend.frequent_patterns import apriori, association_rules\n",
    "import matplotlib.pyplot as plt\n",
    "\n",
    "sns.set_theme()\n",
    "\n",
    "dataset_dir = 'data'"
   ]
  },
  {
   "cell_type": "code",
   "execution_count": 2,
   "outputs": [],
   "source": [
    "items = pd.read_csv(f'{dataset_dir}/items.csv', na_values='unknown',\n",
    "                    dtype={'item_id': 'Int64', 'alley_id': 'Int64', 'category': 'Int64'})\n",
    "items.drop(columns='Unnamed: 0', inplace=True)\n",
    "items.dropna(subset=['item_id'], inplace=True)"
   ],
   "metadata": {
    "collapsed": false
   }
  },
  {
   "cell_type": "code",
   "execution_count": 3,
   "outputs": [],
   "source": [
    "categories = pd.read_csv('data/categories.csv', index_col='category_id')\n",
    "categories.drop(columns='Unnamed: 0', inplace=True)"
   ],
   "metadata": {
    "collapsed": false
   }
  },
  {
   "cell_type": "code",
   "execution_count": 4,
   "outputs": [],
   "source": [
    "alley_inventory = pd.read_csv('data/alley_inventory.csv', index_col='alley_id')"
   ],
   "metadata": {
    "collapsed": false
   }
  },
  {
   "cell_type": "code",
   "execution_count": 5,
   "outputs": [],
   "source": [
    "transaction_items__prior = pd.read_csv('data/transaction_items__prior.csv', na_values='unknown',\n",
    "                                       dtype={'transaction_id': 'Int64', 'item_id': 'Int64',\n",
    "                                              'add_to_cart_order': 'Int16', 'previous_bought': 'Int8'})\n",
    "transaction_items__prior.drop(columns=['Unnamed: 0'], inplace=True)\n",
    "transaction_items__prior.dropna(subset=['transaction_id', 'item_id'], inplace=True)"
   ],
   "metadata": {
    "collapsed": false
   }
  },
  {
   "cell_type": "code",
   "execution_count": 6,
   "outputs": [],
   "source": [
    "transactions = pd.read_csv('data/transactions.csv', na_values='unknown',\n",
    "                           dtype={'transaction_id': 'Int64', 'customer_id': 'Int64', 'transaction_number': 'Int64',\n",
    "                                  'day_of_week': 'category', 'time_of_day': 'Int8',\n",
    "                                  'days_since_prior_order': 'Int64'})\n",
    "\n",
    "transactions.drop(columns='Unnamed: 0', inplace=True)\n",
    "transactions.dropna(subset=['transaction_id'], inplace=True)\n",
    "transactions.set_index(['transaction_id'], inplace=True)"
   ],
   "metadata": {
    "collapsed": false
   }
  },
  {
   "cell_type": "code",
   "execution_count": 7,
   "outputs": [],
   "source": [
    "items_data = pd.merge(items, categories, left_on='category', right_on='category_id', how='left')\n",
    "items_data = pd.merge(items_data, alley_inventory, left_on='alley_id', right_on='alley_id', how='left')\n",
    "items_data.drop(columns=['category_x', 'alley_id'], inplace=True)\n",
    "items_data.rename(columns={'category_y': 'category'}, inplace=True)"
   ],
   "metadata": {
    "collapsed": false
   }
  },
  {
   "cell_type": "code",
   "execution_count": 8,
   "outputs": [],
   "source": [
    "transaction_items = pd.merge(transaction_items__prior, items_data, on='item_id')\n",
    "transaction_items['quantity'] = 1"
   ],
   "metadata": {
    "collapsed": false
   }
  },
  {
   "cell_type": "code",
   "execution_count": 9,
   "outputs": [],
   "source": [
    "transactions__prior = transactions[transactions['eval_set'] == 'prior']\n",
    "transaction_items = pd.merge(transaction_items, transactions__prior, on='transaction_id')"
   ],
   "metadata": {
    "collapsed": false
   }
  },
  {
   "cell_type": "code",
   "execution_count": 10,
   "outputs": [
    {
     "data": {
      "text/plain": "   transaction_id  item_id  add_to_cart_order  previous_bought   \n0               2    33120                  1                1  \\\n1               2    45918                  4                1   \n2               2    30035                  5                0   \n3               2    17794                  6                1   \n4               2    40141                  7                1   \n\n                          item_name    category                       alley   \n0                Organic Egg Whites  dairy eggs                        eggs  \\\n1                    Coconut Butter      pantry               oils vinegars   \n2                 Natural Sweetener      pantry          baking ingredients   \n3                           Carrots     produce            fresh vegetables   \n4  Original Unflavored Gelatine Mix      pantry  doughs gelatins bake mixes   \n\n   quantity  customer_id eval_set  transaction_number day_of_week   \n0         1       202279    prior                   3         5.0  \\\n1         1       202279    prior                   3         5.0   \n2         1       202279    prior                   3         5.0   \n3         1       202279    prior                   3         5.0   \n4         1       202279    prior                   3         5.0   \n\n   time_of_day  days_since_prior_order  \n0            9                       8  \n1            9                       8  \n2            9                       8  \n3            9                       8  \n4            9                       8  ",
      "text/html": "<div>\n<style scoped>\n    .dataframe tbody tr th:only-of-type {\n        vertical-align: middle;\n    }\n\n    .dataframe tbody tr th {\n        vertical-align: top;\n    }\n\n    .dataframe thead th {\n        text-align: right;\n    }\n</style>\n<table border=\"1\" class=\"dataframe\">\n  <thead>\n    <tr style=\"text-align: right;\">\n      <th></th>\n      <th>transaction_id</th>\n      <th>item_id</th>\n      <th>add_to_cart_order</th>\n      <th>previous_bought</th>\n      <th>item_name</th>\n      <th>category</th>\n      <th>alley</th>\n      <th>quantity</th>\n      <th>customer_id</th>\n      <th>eval_set</th>\n      <th>transaction_number</th>\n      <th>day_of_week</th>\n      <th>time_of_day</th>\n      <th>days_since_prior_order</th>\n    </tr>\n  </thead>\n  <tbody>\n    <tr>\n      <th>0</th>\n      <td>2</td>\n      <td>33120</td>\n      <td>1</td>\n      <td>1</td>\n      <td>Organic Egg Whites</td>\n      <td>dairy eggs</td>\n      <td>eggs</td>\n      <td>1</td>\n      <td>202279</td>\n      <td>prior</td>\n      <td>3</td>\n      <td>5.0</td>\n      <td>9</td>\n      <td>8</td>\n    </tr>\n    <tr>\n      <th>1</th>\n      <td>2</td>\n      <td>45918</td>\n      <td>4</td>\n      <td>1</td>\n      <td>Coconut Butter</td>\n      <td>pantry</td>\n      <td>oils vinegars</td>\n      <td>1</td>\n      <td>202279</td>\n      <td>prior</td>\n      <td>3</td>\n      <td>5.0</td>\n      <td>9</td>\n      <td>8</td>\n    </tr>\n    <tr>\n      <th>2</th>\n      <td>2</td>\n      <td>30035</td>\n      <td>5</td>\n      <td>0</td>\n      <td>Natural Sweetener</td>\n      <td>pantry</td>\n      <td>baking ingredients</td>\n      <td>1</td>\n      <td>202279</td>\n      <td>prior</td>\n      <td>3</td>\n      <td>5.0</td>\n      <td>9</td>\n      <td>8</td>\n    </tr>\n    <tr>\n      <th>3</th>\n      <td>2</td>\n      <td>17794</td>\n      <td>6</td>\n      <td>1</td>\n      <td>Carrots</td>\n      <td>produce</td>\n      <td>fresh vegetables</td>\n      <td>1</td>\n      <td>202279</td>\n      <td>prior</td>\n      <td>3</td>\n      <td>5.0</td>\n      <td>9</td>\n      <td>8</td>\n    </tr>\n    <tr>\n      <th>4</th>\n      <td>2</td>\n      <td>40141</td>\n      <td>7</td>\n      <td>1</td>\n      <td>Original Unflavored Gelatine Mix</td>\n      <td>pantry</td>\n      <td>doughs gelatins bake mixes</td>\n      <td>1</td>\n      <td>202279</td>\n      <td>prior</td>\n      <td>3</td>\n      <td>5.0</td>\n      <td>9</td>\n      <td>8</td>\n    </tr>\n  </tbody>\n</table>\n</div>"
     },
     "execution_count": 10,
     "metadata": {},
     "output_type": "execute_result"
    }
   ],
   "source": [
    "transaction_items.head()"
   ],
   "metadata": {
    "collapsed": false
   }
  },
  {
   "cell_type": "code",
   "execution_count": 11,
   "outputs": [],
   "source": [
    "total_bought = transaction_items.groupby('item_id')['quantity'].count().sort_values(ascending=False)\n",
    "items_data = pd.merge(items_data, total_bought, on='item_id')"
   ],
   "metadata": {
    "collapsed": false
   }
  },
  {
   "cell_type": "code",
   "execution_count": 12,
   "outputs": [
    {
     "data": {
      "text/plain": "   item_id                                          item_name   category   \n0        1                         Chocolate Sandwich Cookies     snacks  \\\n1        2                                   All-Seasons Salt     pantry   \n2        3               Robust Golden Unsweetened Oolong Tea  beverages   \n3        4  Smart Ones Classic Favorites Mini Rigatoni Wit...     frozen   \n4        5                          Green Chile Anytime Sauce     pantry   \n\n                        alley  quantity  \n0               cookies cakes      1579  \n1           spices seasonings        76  \n2                         tea       229  \n3                frozen meals       279  \n4  marinades meat preparation        13  ",
      "text/html": "<div>\n<style scoped>\n    .dataframe tbody tr th:only-of-type {\n        vertical-align: middle;\n    }\n\n    .dataframe tbody tr th {\n        vertical-align: top;\n    }\n\n    .dataframe thead th {\n        text-align: right;\n    }\n</style>\n<table border=\"1\" class=\"dataframe\">\n  <thead>\n    <tr style=\"text-align: right;\">\n      <th></th>\n      <th>item_id</th>\n      <th>item_name</th>\n      <th>category</th>\n      <th>alley</th>\n      <th>quantity</th>\n    </tr>\n  </thead>\n  <tbody>\n    <tr>\n      <th>0</th>\n      <td>1</td>\n      <td>Chocolate Sandwich Cookies</td>\n      <td>snacks</td>\n      <td>cookies cakes</td>\n      <td>1579</td>\n    </tr>\n    <tr>\n      <th>1</th>\n      <td>2</td>\n      <td>All-Seasons Salt</td>\n      <td>pantry</td>\n      <td>spices seasonings</td>\n      <td>76</td>\n    </tr>\n    <tr>\n      <th>2</th>\n      <td>3</td>\n      <td>Robust Golden Unsweetened Oolong Tea</td>\n      <td>beverages</td>\n      <td>tea</td>\n      <td>229</td>\n    </tr>\n    <tr>\n      <th>3</th>\n      <td>4</td>\n      <td>Smart Ones Classic Favorites Mini Rigatoni Wit...</td>\n      <td>frozen</td>\n      <td>frozen meals</td>\n      <td>279</td>\n    </tr>\n    <tr>\n      <th>4</th>\n      <td>5</td>\n      <td>Green Chile Anytime Sauce</td>\n      <td>pantry</td>\n      <td>marinades meat preparation</td>\n      <td>13</td>\n    </tr>\n  </tbody>\n</table>\n</div>"
     },
     "execution_count": 12,
     "metadata": {},
     "output_type": "execute_result"
    }
   ],
   "source": [
    "items_data.head()"
   ],
   "metadata": {
    "collapsed": false
   }
  },
  {
   "cell_type": "code",
   "execution_count": 41,
   "outputs": [],
   "source": [
    "top_categories = items_data.groupby('category')['quantity'].sum().sort_values(ascending=False).head(10)"
   ],
   "metadata": {
    "collapsed": false
   }
  },
  {
   "cell_type": "code",
   "execution_count": 42,
   "outputs": [
    {
     "data": {
      "text/plain": "category\nproduce            7740512\ndairy eggs         4326411\nsnacks             2321773\nbeverages          2137287\nfrozen             1813659\npantry             1475197\nbakery              935578\ncanned goods        868994\ndeli                863204\ndry goods pasta     683225\nName: quantity, dtype: int64"
     },
     "execution_count": 42,
     "metadata": {},
     "output_type": "execute_result"
    }
   ],
   "source": [
    "top_categories"
   ],
   "metadata": {
    "collapsed": false
   }
  },
  {
   "cell_type": "code",
   "execution_count": 43,
   "outputs": [],
   "source": [
    "top_categories_items = items_data[items_data['category'].isin(top_categories.index)]\n",
    "grouped_items = top_categories_items.groupby('category')\n",
    "top_items = []\n",
    "\n",
    "for category, group in grouped_items:\n",
    "    top_items.append(group.sort_values(by='quantity', ascending=False).head(10))"
   ],
   "metadata": {
    "collapsed": false
   }
  },
  {
   "cell_type": "code",
   "execution_count": 44,
   "outputs": [],
   "source": [
    "top_items = pd.concat(top_items)\n",
    "top_items.set_index('item_id', inplace=True)"
   ],
   "metadata": {
    "collapsed": false
   }
  },
  {
   "cell_type": "code",
   "execution_count": 45,
   "outputs": [
    {
     "data": {
      "text/plain": "                                              item_name category   \nitem_id                                                            \n5077                             100% Whole Wheat Bread   bakery  \\\n18362                Organic Bread with 21 Whole Grains   bakery   \n18027    Ezekiel 4:9 Bread Organic Sprouted Whole Grain   bakery   \n21267                                   Sourdough Bread   bakery   \n10673         Original Nooks & Crannies English Muffins   bakery   \n...                                                 ...      ...   \n40199                            Chocolate Chip Cookies   snacks   \n35561                                               NaN   snacks   \n3599       Baked Aged White Cheddar Rice and Corn Puffs   snacks   \n5194             Organic Bunny Fruit Snacks Berry Patch   snacks   \n18288                             Sea Salt Potato Chips   snacks   \n\n                          alley  quantity  \nitem_id                                    \n5077                      bread     52219  \n18362                       NaN     19755  \n18027                     bread     15277  \n21267                     bread     14064  \n10673          breakfast bakery     12898  \n...                         ...       ...  \n40199             cookies cakes     12164  \n35561            chips pretzels     11832  \n3599              popcorn jerky     11735  \n5194     fruit vegetable snacks     11500  \n18288            chips pretzels     11226  \n\n[100 rows x 4 columns]",
      "text/html": "<div>\n<style scoped>\n    .dataframe tbody tr th:only-of-type {\n        vertical-align: middle;\n    }\n\n    .dataframe tbody tr th {\n        vertical-align: top;\n    }\n\n    .dataframe thead th {\n        text-align: right;\n    }\n</style>\n<table border=\"1\" class=\"dataframe\">\n  <thead>\n    <tr style=\"text-align: right;\">\n      <th></th>\n      <th>item_name</th>\n      <th>category</th>\n      <th>alley</th>\n      <th>quantity</th>\n    </tr>\n    <tr>\n      <th>item_id</th>\n      <th></th>\n      <th></th>\n      <th></th>\n      <th></th>\n    </tr>\n  </thead>\n  <tbody>\n    <tr>\n      <th>5077</th>\n      <td>100% Whole Wheat Bread</td>\n      <td>bakery</td>\n      <td>bread</td>\n      <td>52219</td>\n    </tr>\n    <tr>\n      <th>18362</th>\n      <td>Organic Bread with 21 Whole Grains</td>\n      <td>bakery</td>\n      <td>NaN</td>\n      <td>19755</td>\n    </tr>\n    <tr>\n      <th>18027</th>\n      <td>Ezekiel 4:9 Bread Organic Sprouted Whole Grain</td>\n      <td>bakery</td>\n      <td>bread</td>\n      <td>15277</td>\n    </tr>\n    <tr>\n      <th>21267</th>\n      <td>Sourdough Bread</td>\n      <td>bakery</td>\n      <td>bread</td>\n      <td>14064</td>\n    </tr>\n    <tr>\n      <th>10673</th>\n      <td>Original Nooks &amp; Crannies English Muffins</td>\n      <td>bakery</td>\n      <td>breakfast bakery</td>\n      <td>12898</td>\n    </tr>\n    <tr>\n      <th>...</th>\n      <td>...</td>\n      <td>...</td>\n      <td>...</td>\n      <td>...</td>\n    </tr>\n    <tr>\n      <th>40199</th>\n      <td>Chocolate Chip Cookies</td>\n      <td>snacks</td>\n      <td>cookies cakes</td>\n      <td>12164</td>\n    </tr>\n    <tr>\n      <th>35561</th>\n      <td>NaN</td>\n      <td>snacks</td>\n      <td>chips pretzels</td>\n      <td>11832</td>\n    </tr>\n    <tr>\n      <th>3599</th>\n      <td>Baked Aged White Cheddar Rice and Corn Puffs</td>\n      <td>snacks</td>\n      <td>popcorn jerky</td>\n      <td>11735</td>\n    </tr>\n    <tr>\n      <th>5194</th>\n      <td>Organic Bunny Fruit Snacks Berry Patch</td>\n      <td>snacks</td>\n      <td>fruit vegetable snacks</td>\n      <td>11500</td>\n    </tr>\n    <tr>\n      <th>18288</th>\n      <td>Sea Salt Potato Chips</td>\n      <td>snacks</td>\n      <td>chips pretzels</td>\n      <td>11226</td>\n    </tr>\n  </tbody>\n</table>\n<p>100 rows × 4 columns</p>\n</div>"
     },
     "execution_count": 45,
     "metadata": {},
     "output_type": "execute_result"
    }
   ],
   "source": [
    "top_items"
   ],
   "metadata": {
    "collapsed": false
   }
  },
  {
   "cell_type": "code",
   "execution_count": 46,
   "outputs": [],
   "source": [
    "transaction_top_items = transaction_items[transaction_items['item_id'].isin(top_items.index)]"
   ],
   "metadata": {
    "collapsed": false
   }
  },
  {
   "cell_type": "code",
   "execution_count": 47,
   "outputs": [
    {
     "data": {
      "text/plain": "    transaction_id  item_id  add_to_cart_order  previous_bought   \n21             327    19660                  1                1  \\\n31             390    19660                  1                1   \n41             390     3957                  4                1   \n61             537    21137                  3             <NA>   \n62             537     9076                  4                1   \n\n                 item_name   category                          alley   \n21            Spring Water  beverages  water seltzer sparkling water  \\\n31            Spring Water  beverages  water seltzer sparkling water   \n41  100% Raw Coconut Water  beverages                   refrigerated   \n61    Organic Strawberries    produce                   fresh fruits   \n62             Blueberries     frozen                 frozen produce   \n\n    quantity  customer_id eval_set  transaction_number day_of_week   \n21         1        58707    prior                  21         6.0  \\\n31         1       166654    prior                  48         0.0   \n41         1       166654    prior                  48         0.0   \n61         1       180135    prior                  15         2.0   \n62         1       180135    prior                  15         2.0   \n\n    time_of_day  days_since_prior_order  \n21            9                       8  \n31           12                       9  \n41           12                       9  \n61            8                       3  \n62            8                       3  ",
      "text/html": "<div>\n<style scoped>\n    .dataframe tbody tr th:only-of-type {\n        vertical-align: middle;\n    }\n\n    .dataframe tbody tr th {\n        vertical-align: top;\n    }\n\n    .dataframe thead th {\n        text-align: right;\n    }\n</style>\n<table border=\"1\" class=\"dataframe\">\n  <thead>\n    <tr style=\"text-align: right;\">\n      <th></th>\n      <th>transaction_id</th>\n      <th>item_id</th>\n      <th>add_to_cart_order</th>\n      <th>previous_bought</th>\n      <th>item_name</th>\n      <th>category</th>\n      <th>alley</th>\n      <th>quantity</th>\n      <th>customer_id</th>\n      <th>eval_set</th>\n      <th>transaction_number</th>\n      <th>day_of_week</th>\n      <th>time_of_day</th>\n      <th>days_since_prior_order</th>\n    </tr>\n  </thead>\n  <tbody>\n    <tr>\n      <th>21</th>\n      <td>327</td>\n      <td>19660</td>\n      <td>1</td>\n      <td>1</td>\n      <td>Spring Water</td>\n      <td>beverages</td>\n      <td>water seltzer sparkling water</td>\n      <td>1</td>\n      <td>58707</td>\n      <td>prior</td>\n      <td>21</td>\n      <td>6.0</td>\n      <td>9</td>\n      <td>8</td>\n    </tr>\n    <tr>\n      <th>31</th>\n      <td>390</td>\n      <td>19660</td>\n      <td>1</td>\n      <td>1</td>\n      <td>Spring Water</td>\n      <td>beverages</td>\n      <td>water seltzer sparkling water</td>\n      <td>1</td>\n      <td>166654</td>\n      <td>prior</td>\n      <td>48</td>\n      <td>0.0</td>\n      <td>12</td>\n      <td>9</td>\n    </tr>\n    <tr>\n      <th>41</th>\n      <td>390</td>\n      <td>3957</td>\n      <td>4</td>\n      <td>1</td>\n      <td>100% Raw Coconut Water</td>\n      <td>beverages</td>\n      <td>refrigerated</td>\n      <td>1</td>\n      <td>166654</td>\n      <td>prior</td>\n      <td>48</td>\n      <td>0.0</td>\n      <td>12</td>\n      <td>9</td>\n    </tr>\n    <tr>\n      <th>61</th>\n      <td>537</td>\n      <td>21137</td>\n      <td>3</td>\n      <td>&lt;NA&gt;</td>\n      <td>Organic Strawberries</td>\n      <td>produce</td>\n      <td>fresh fruits</td>\n      <td>1</td>\n      <td>180135</td>\n      <td>prior</td>\n      <td>15</td>\n      <td>2.0</td>\n      <td>8</td>\n      <td>3</td>\n    </tr>\n    <tr>\n      <th>62</th>\n      <td>537</td>\n      <td>9076</td>\n      <td>4</td>\n      <td>1</td>\n      <td>Blueberries</td>\n      <td>frozen</td>\n      <td>frozen produce</td>\n      <td>1</td>\n      <td>180135</td>\n      <td>prior</td>\n      <td>15</td>\n      <td>2.0</td>\n      <td>8</td>\n      <td>3</td>\n    </tr>\n  </tbody>\n</table>\n</div>"
     },
     "execution_count": 47,
     "metadata": {},
     "output_type": "execute_result"
    }
   ],
   "source": [
    "transaction_top_items.head()"
   ],
   "metadata": {
    "collapsed": false
   }
  },
  {
   "cell_type": "code",
   "execution_count": 48,
   "outputs": [
    {
     "name": "stdout",
     "output_type": "stream",
     "text": [
      "Number of transactions: 4079103\n"
     ]
    }
   ],
   "source": [
    "print(f'Number of transactions: {transaction_top_items.shape[0]}')"
   ],
   "metadata": {
    "collapsed": false
   }
  },
  {
   "cell_type": "code",
   "execution_count": 49,
   "outputs": [],
   "source": [
    "def true_if_any_present(x):\n",
    "    return x.any()"
   ],
   "metadata": {
    "collapsed": false
   }
  },
  {
   "cell_type": "code",
   "execution_count": 50,
   "outputs": [],
   "source": [
    "transactions_data = pd.pivot_table(\n",
    "    transaction_top_items,\n",
    "    index=\"transaction_id\",\n",
    "    columns=\"item_name\",\n",
    "    values=\"quantity\",\n",
    "    aggfunc=true_if_any_present,\n",
    "    fill_value=False,\n",
    ")"
   ],
   "metadata": {
    "collapsed": false
   }
  },
  {
   "cell_type": "code",
   "execution_count": 51,
   "outputs": [
    {
     "data": {
      "text/plain": "item_name       100% Raw Coconut Water  100% Whole Wheat Bread   \ntransaction_id                                                   \n4                                False                   False  \\\n5                                False                   False   \n7                                False                   False   \n9                                False                   False   \n11                               False                   False   \n\nitem_name       2% Reduced Fat Milk  Bag of Organic Bananas   \ntransaction_id                                                \n4                             False                   False  \\\n5                              True                    True   \n7                             False                   False   \n9                             False                   False   \n11                            False                   False   \n\nitem_name       Baked Aged White Cheddar Rice and Corn Puffs  Banana   \ntransaction_id                                                         \n4                                                      False   False  \\\n5                                                      False   False   \n7                                                      False   False   \n9                                                      False   False   \n11                                                     False   False   \n\nitem_name       Black Beans  Blueberries  Chicken & Maple Breakfast Sausage   \ntransaction_id                                                                \n4                     False        False                              False  \\\n5                     False        False                              False   \n7                     False        False                              False   \n9                     False        False                              False   \n11                    False        False                              False   \n\nitem_name       Chocolate Chip Cookies  ...  Sparkling Lemon Water   \ntransaction_id                          ...                          \n4                                False  ...                  False  \\\n5                                False  ...                  False   \n7                                False  ...                  False   \n9                                False  ...                  False   \n11                               False  ...                  False   \n\nitem_name       Sparkling Natural Mineral Water  Sparkling Water Grapefruit   \ntransaction_id                                                                \n4                                         False                       False  \\\n5                                         False                       False   \n7                                         False                       False   \n9                                         False                       False   \n11                                        False                       False   \n\nitem_name       Spring Water  Strawberries  Tomato Ketchup  Tomato Paste   \ntransaction_id                                                             \n4                      False         False           False         False  \\\n5                      False         False           False         False   \n7                      False         False           False         False   \n9                      False         False           False         False   \n11                     False         False           False         False   \n\nitem_name       Uncured Genoa Salami  Uncured Slow Cooked Ham   \ntransaction_id                                                  \n4                              False                    False  \\\n5                              False                    False   \n7                              False                    False   \n9                              False                    False   \n11                             False                    False   \n\nitem_name       Unsweetened Almondmilk  \ntransaction_id                          \n4                                False  \n5                                False  \n7                                False  \n9                                False  \n11                               False  \n\n[5 rows x 91 columns]",
      "text/html": "<div>\n<style scoped>\n    .dataframe tbody tr th:only-of-type {\n        vertical-align: middle;\n    }\n\n    .dataframe tbody tr th {\n        vertical-align: top;\n    }\n\n    .dataframe thead th {\n        text-align: right;\n    }\n</style>\n<table border=\"1\" class=\"dataframe\">\n  <thead>\n    <tr style=\"text-align: right;\">\n      <th>item_name</th>\n      <th>100% Raw Coconut Water</th>\n      <th>100% Whole Wheat Bread</th>\n      <th>2% Reduced Fat Milk</th>\n      <th>Bag of Organic Bananas</th>\n      <th>Baked Aged White Cheddar Rice and Corn Puffs</th>\n      <th>Banana</th>\n      <th>Black Beans</th>\n      <th>Blueberries</th>\n      <th>Chicken &amp; Maple Breakfast Sausage</th>\n      <th>Chocolate Chip Cookies</th>\n      <th>...</th>\n      <th>Sparkling Lemon Water</th>\n      <th>Sparkling Natural Mineral Water</th>\n      <th>Sparkling Water Grapefruit</th>\n      <th>Spring Water</th>\n      <th>Strawberries</th>\n      <th>Tomato Ketchup</th>\n      <th>Tomato Paste</th>\n      <th>Uncured Genoa Salami</th>\n      <th>Uncured Slow Cooked Ham</th>\n      <th>Unsweetened Almondmilk</th>\n    </tr>\n    <tr>\n      <th>transaction_id</th>\n      <th></th>\n      <th></th>\n      <th></th>\n      <th></th>\n      <th></th>\n      <th></th>\n      <th></th>\n      <th></th>\n      <th></th>\n      <th></th>\n      <th></th>\n      <th></th>\n      <th></th>\n      <th></th>\n      <th></th>\n      <th></th>\n      <th></th>\n      <th></th>\n      <th></th>\n      <th></th>\n      <th></th>\n    </tr>\n  </thead>\n  <tbody>\n    <tr>\n      <th>4</th>\n      <td>False</td>\n      <td>False</td>\n      <td>False</td>\n      <td>False</td>\n      <td>False</td>\n      <td>False</td>\n      <td>False</td>\n      <td>False</td>\n      <td>False</td>\n      <td>False</td>\n      <td>...</td>\n      <td>False</td>\n      <td>False</td>\n      <td>False</td>\n      <td>False</td>\n      <td>False</td>\n      <td>False</td>\n      <td>False</td>\n      <td>False</td>\n      <td>False</td>\n      <td>False</td>\n    </tr>\n    <tr>\n      <th>5</th>\n      <td>False</td>\n      <td>False</td>\n      <td>True</td>\n      <td>True</td>\n      <td>False</td>\n      <td>False</td>\n      <td>False</td>\n      <td>False</td>\n      <td>False</td>\n      <td>False</td>\n      <td>...</td>\n      <td>False</td>\n      <td>False</td>\n      <td>False</td>\n      <td>False</td>\n      <td>False</td>\n      <td>False</td>\n      <td>False</td>\n      <td>False</td>\n      <td>False</td>\n      <td>False</td>\n    </tr>\n    <tr>\n      <th>7</th>\n      <td>False</td>\n      <td>False</td>\n      <td>False</td>\n      <td>False</td>\n      <td>False</td>\n      <td>False</td>\n      <td>False</td>\n      <td>False</td>\n      <td>False</td>\n      <td>False</td>\n      <td>...</td>\n      <td>False</td>\n      <td>False</td>\n      <td>False</td>\n      <td>False</td>\n      <td>False</td>\n      <td>False</td>\n      <td>False</td>\n      <td>False</td>\n      <td>False</td>\n      <td>False</td>\n    </tr>\n    <tr>\n      <th>9</th>\n      <td>False</td>\n      <td>False</td>\n      <td>False</td>\n      <td>False</td>\n      <td>False</td>\n      <td>False</td>\n      <td>False</td>\n      <td>False</td>\n      <td>False</td>\n      <td>False</td>\n      <td>...</td>\n      <td>False</td>\n      <td>False</td>\n      <td>False</td>\n      <td>False</td>\n      <td>False</td>\n      <td>False</td>\n      <td>False</td>\n      <td>False</td>\n      <td>False</td>\n      <td>False</td>\n    </tr>\n    <tr>\n      <th>11</th>\n      <td>False</td>\n      <td>False</td>\n      <td>False</td>\n      <td>False</td>\n      <td>False</td>\n      <td>False</td>\n      <td>False</td>\n      <td>False</td>\n      <td>False</td>\n      <td>False</td>\n      <td>...</td>\n      <td>False</td>\n      <td>False</td>\n      <td>False</td>\n      <td>False</td>\n      <td>False</td>\n      <td>False</td>\n      <td>False</td>\n      <td>False</td>\n      <td>False</td>\n      <td>False</td>\n    </tr>\n  </tbody>\n</table>\n<p>5 rows × 91 columns</p>\n</div>"
     },
     "execution_count": 51,
     "metadata": {},
     "output_type": "execute_result"
    }
   ],
   "source": [
    "transactions_data.head()"
   ],
   "metadata": {
    "collapsed": false
   }
  },
  {
   "cell_type": "code",
   "execution_count": 52,
   "outputs": [],
   "source": [
    "frequent_itemsets = apriori(transactions_data, min_support=0.01, use_colnames=True)"
   ],
   "metadata": {
    "collapsed": false
   }
  },
  {
   "cell_type": "code",
   "execution_count": 53,
   "outputs": [
    {
     "data": {
      "text/plain": "     support                                      itemsets\n0   0.017449                      (100% Raw Coconut Water)\n1   0.027860                      (100% Whole Wheat Bread)\n2   0.017003                         (2% Reduced Fat Milk)\n3   0.173919                      (Bag of Organic Bananas)\n4   0.216696                                      (Banana)\n..       ...                                           ...\n64  0.016279  (Organic Baby Spinach, Organic Strawberries)\n65  0.010900   (Organic Hass Avocado, Organic Raspberries)\n66  0.017363  (Organic Strawberries, Organic Hass Avocado)\n67  0.014383   (Organic Strawberries, Organic Raspberries)\n68  0.010119    (Organic Whole Milk, Organic Strawberries)\n\n[69 rows x 2 columns]",
      "text/html": "<div>\n<style scoped>\n    .dataframe tbody tr th:only-of-type {\n        vertical-align: middle;\n    }\n\n    .dataframe tbody tr th {\n        vertical-align: top;\n    }\n\n    .dataframe thead th {\n        text-align: right;\n    }\n</style>\n<table border=\"1\" class=\"dataframe\">\n  <thead>\n    <tr style=\"text-align: right;\">\n      <th></th>\n      <th>support</th>\n      <th>itemsets</th>\n    </tr>\n  </thead>\n  <tbody>\n    <tr>\n      <th>0</th>\n      <td>0.017449</td>\n      <td>(100% Raw Coconut Water)</td>\n    </tr>\n    <tr>\n      <th>1</th>\n      <td>0.027860</td>\n      <td>(100% Whole Wheat Bread)</td>\n    </tr>\n    <tr>\n      <th>2</th>\n      <td>0.017003</td>\n      <td>(2% Reduced Fat Milk)</td>\n    </tr>\n    <tr>\n      <th>3</th>\n      <td>0.173919</td>\n      <td>(Bag of Organic Bananas)</td>\n    </tr>\n    <tr>\n      <th>4</th>\n      <td>0.216696</td>\n      <td>(Banana)</td>\n    </tr>\n    <tr>\n      <th>...</th>\n      <td>...</td>\n      <td>...</td>\n    </tr>\n    <tr>\n      <th>64</th>\n      <td>0.016279</td>\n      <td>(Organic Baby Spinach, Organic Strawberries)</td>\n    </tr>\n    <tr>\n      <th>65</th>\n      <td>0.010900</td>\n      <td>(Organic Hass Avocado, Organic Raspberries)</td>\n    </tr>\n    <tr>\n      <th>66</th>\n      <td>0.017363</td>\n      <td>(Organic Strawberries, Organic Hass Avocado)</td>\n    </tr>\n    <tr>\n      <th>67</th>\n      <td>0.014383</td>\n      <td>(Organic Strawberries, Organic Raspberries)</td>\n    </tr>\n    <tr>\n      <th>68</th>\n      <td>0.010119</td>\n      <td>(Organic Whole Milk, Organic Strawberries)</td>\n    </tr>\n  </tbody>\n</table>\n<p>69 rows × 2 columns</p>\n</div>"
     },
     "execution_count": 53,
     "metadata": {},
     "output_type": "execute_result"
    }
   ],
   "source": [
    "frequent_itemsets"
   ],
   "metadata": {
    "collapsed": false
   }
  },
  {
   "cell_type": "code",
   "execution_count": 54,
   "outputs": [],
   "source": [
    "rules_mlxtend = association_rules(frequent_itemsets, metric=\"confidence\", min_threshold=0.03)"
   ],
   "metadata": {
    "collapsed": false
   }
  },
  {
   "cell_type": "code",
   "execution_count": 55,
   "outputs": [
    {
     "data": {
      "text/plain": "                 antecedents               consequents  antecedent support   \n0     (Organic Baby Spinach)  (Bag of Organic Bananas)            0.111050  \\\n1   (Bag of Organic Bananas)    (Organic Baby Spinach)            0.173919   \n2     (Organic Hass Avocado)  (Bag of Organic Bananas)            0.097937   \n3   (Bag of Organic Bananas)    (Organic Hass Avocado)            0.173919   \n4   (Bag of Organic Bananas)     (Organic Raspberries)            0.173919   \n5      (Organic Raspberries)  (Bag of Organic Bananas)            0.062756   \n6     (Organic Strawberries)  (Bag of Organic Bananas)            0.121534   \n7   (Bag of Organic Bananas)    (Organic Strawberries)            0.173919   \n8       (Organic Whole Milk)  (Bag of Organic Bananas)            0.063175   \n9   (Bag of Organic Bananas)      (Organic Whole Milk)            0.173919   \n10             (Large Lemon)                  (Banana)            0.070036   \n11                  (Banana)             (Large Lemon)            0.216696   \n12                   (Limes)                  (Banana)            0.064580   \n13                  (Banana)                   (Limes)            0.216696   \n14                  (Banana)         (Organic Avocado)            0.216696   \n15         (Organic Avocado)                  (Banana)            0.081035   \n16    (Organic Baby Spinach)                  (Banana)            0.111050   \n17                  (Banana)    (Organic Baby Spinach)            0.216696   \n18    (Organic Hass Avocado)                  (Banana)            0.097937   \n19                  (Banana)    (Organic Hass Avocado)            0.216696   \n20    (Organic Strawberries)                  (Banana)            0.121534   \n21                  (Banana)    (Organic Strawberries)            0.216696   \n22      (Organic Whole Milk)                  (Banana)            0.063175   \n23                  (Banana)      (Organic Whole Milk)            0.216696   \n24            (Strawberries)                  (Banana)            0.065550   \n25                  (Banana)            (Strawberries)            0.216696   \n26                   (Limes)             (Large Lemon)            0.064580   \n27             (Large Lemon)                   (Limes)            0.070036   \n28             (Large Lemon)         (Organic Avocado)            0.070036   \n29         (Organic Avocado)             (Large Lemon)            0.081035   \n30    (Organic Baby Spinach)         (Organic Avocado)            0.111050   \n31         (Organic Avocado)    (Organic Baby Spinach)            0.081035   \n32    (Organic Strawberries)         (Organic Avocado)            0.121534   \n33         (Organic Avocado)    (Organic Strawberries)            0.081035   \n34    (Organic Baby Spinach)    (Organic Hass Avocado)            0.111050   \n35    (Organic Hass Avocado)    (Organic Baby Spinach)            0.097937   \n36    (Organic Baby Spinach)    (Organic Strawberries)            0.111050   \n37    (Organic Strawberries)    (Organic Baby Spinach)            0.121534   \n38    (Organic Hass Avocado)     (Organic Raspberries)            0.097937   \n39     (Organic Raspberries)    (Organic Hass Avocado)            0.062756   \n40    (Organic Strawberries)    (Organic Hass Avocado)            0.121534   \n41    (Organic Hass Avocado)    (Organic Strawberries)            0.097937   \n42    (Organic Strawberries)     (Organic Raspberries)            0.121534   \n43     (Organic Raspberries)    (Organic Strawberries)            0.062756   \n44      (Organic Whole Milk)    (Organic Strawberries)            0.063175   \n45    (Organic Strawberries)      (Organic Whole Milk)            0.121534   \n\n    consequent support   support  confidence      lift  leverage  conviction   \n0             0.173919  0.021406    0.192764  1.108351  0.002093    1.023344  \\\n1             0.111050  0.021406    0.123082  1.108351  0.002093    1.013721   \n2             0.173919  0.026514    0.270730  1.556641  0.009481    1.132750   \n3             0.097937  0.026514    0.152452  1.556641  0.009481    1.064321   \n4             0.062756  0.017117    0.098418  1.568259  0.006202    1.039555   \n5             0.173919  0.017117    0.272750  1.568259  0.006202    1.135897   \n6             0.173919  0.026190    0.215499  1.239076  0.005053    1.053002   \n7             0.121534  0.026190    0.150590  1.239076  0.005053    1.034207   \n8             0.173919  0.011298    0.178836  1.028271  0.000311    1.005988   \n9             0.063175  0.011298    0.064961  1.028271  0.000311    1.001910   \n10            0.216696  0.017467    0.249404  1.150941  0.002291    1.043576   \n11            0.070036  0.017467    0.080607  1.150941  0.002291    1.011498   \n12            0.216696  0.013549    0.209801  0.968185 -0.000445    0.991275   \n13            0.064580  0.013549    0.062526  0.968185 -0.000445    0.997808   \n14            0.081035  0.022637    0.104465  1.289133  0.005077    1.026163   \n15            0.216696  0.022637    0.279350  1.289133  0.005077    1.086941   \n16            0.216696  0.021893    0.197150  0.909801 -0.002171    0.975655   \n17            0.111050  0.021893    0.101033  0.909801 -0.002171    0.988858   \n18            0.216696  0.013281    0.135610  0.625809 -0.007941    0.906193   \n19            0.097937  0.013281    0.061290  0.625809 -0.007941    0.960960   \n20            0.216696  0.023832    0.196091  0.904915 -0.002504    0.974370   \n21            0.121534  0.023832    0.109978  0.904915 -0.002504    0.987016   \n22            0.216696  0.013414    0.212330  0.979854 -0.000276    0.994458   \n23            0.063175  0.013414    0.061903  0.979854 -0.000276    0.998643   \n24            0.216696  0.017573    0.268092  1.237180  0.003369    1.070222   \n25            0.065550  0.017573    0.081097  1.237180  0.003369    1.016919   \n26            0.070036  0.011693    0.181068  2.585352  0.007170    1.135581   \n27            0.064580  0.011693    0.166962  2.585352  0.007170    1.122902   \n28            0.081035  0.010374    0.148123  1.827886  0.004699    1.078753   \n29            0.070036  0.010374    0.128018  1.827886  0.004699    1.066494   \n30            0.081035  0.013141    0.118338  1.460327  0.004142    1.042310   \n31            0.111050  0.013141    0.162169  1.460327  0.004142    1.061014   \n32            0.081035  0.010164    0.083633  1.032060  0.000316    1.002835   \n33            0.121534  0.010164    0.125430  1.032060  0.000316    1.004455   \n34            0.097937  0.014884    0.134029  1.368533  0.004008    1.041679   \n35            0.111050  0.014884    0.151975  1.368533  0.004008    1.048260   \n36            0.121534  0.016279    0.146588  1.206149  0.002782    1.029358   \n37            0.111050  0.016279    0.133942  1.206149  0.002782    1.026433   \n38            0.062756  0.010900    0.111297  1.773486  0.004754    1.054620   \n39            0.097937  0.010900    0.173689  1.773486  0.004754    1.091676   \n40            0.097937  0.017363    0.142867  1.458773  0.005461    1.052420   \n41            0.121534  0.017363    0.177291  1.458773  0.005461    1.067772   \n42            0.062756  0.014383    0.118349  1.885862  0.006756    1.063056   \n43            0.121534  0.014383    0.229196  1.885862  0.006756    1.139675   \n44            0.121534  0.010119    0.160181  1.317991  0.002442    1.046018   \n45            0.063175  0.010119    0.083265  1.317991  0.002442    1.021914   \n\n    zhangs_metric  \n0        0.109971  \n1        0.118340  \n2        0.396415  \n3        0.432877  \n4        0.438638  \n5        0.386612  \n6        0.219641  \n7        0.233569  \n8        0.029348  \n9        0.033283  \n10       0.141022  \n11       0.167426  \n12      -0.033937  \n13      -0.040262  \n14       0.286332  \n15       0.244062  \n16      -0.100336  \n17      -0.112348  \n18      -0.398622  \n19      -0.432896  \n20      -0.106834  \n21      -0.118278  \n22      -0.021476  \n23      -0.025577  \n24       0.205158  \n25       0.244746  \n26       0.655540  \n27       0.659386  \n28       0.487029  \n29       0.492859  \n30       0.354600  \n31       0.343018  \n32       0.035362  \n33       0.033803  \n34       0.302931  \n35       0.298527  \n36       0.192266  \n37       0.194561  \n38       0.483490  \n39       0.465342  \n40       0.358002  \n41       0.348637  \n42       0.534726  \n43       0.501191  \n44       0.257539  \n45       0.274648  ",
      "text/html": "<div>\n<style scoped>\n    .dataframe tbody tr th:only-of-type {\n        vertical-align: middle;\n    }\n\n    .dataframe tbody tr th {\n        vertical-align: top;\n    }\n\n    .dataframe thead th {\n        text-align: right;\n    }\n</style>\n<table border=\"1\" class=\"dataframe\">\n  <thead>\n    <tr style=\"text-align: right;\">\n      <th></th>\n      <th>antecedents</th>\n      <th>consequents</th>\n      <th>antecedent support</th>\n      <th>consequent support</th>\n      <th>support</th>\n      <th>confidence</th>\n      <th>lift</th>\n      <th>leverage</th>\n      <th>conviction</th>\n      <th>zhangs_metric</th>\n    </tr>\n  </thead>\n  <tbody>\n    <tr>\n      <th>0</th>\n      <td>(Organic Baby Spinach)</td>\n      <td>(Bag of Organic Bananas)</td>\n      <td>0.111050</td>\n      <td>0.173919</td>\n      <td>0.021406</td>\n      <td>0.192764</td>\n      <td>1.108351</td>\n      <td>0.002093</td>\n      <td>1.023344</td>\n      <td>0.109971</td>\n    </tr>\n    <tr>\n      <th>1</th>\n      <td>(Bag of Organic Bananas)</td>\n      <td>(Organic Baby Spinach)</td>\n      <td>0.173919</td>\n      <td>0.111050</td>\n      <td>0.021406</td>\n      <td>0.123082</td>\n      <td>1.108351</td>\n      <td>0.002093</td>\n      <td>1.013721</td>\n      <td>0.118340</td>\n    </tr>\n    <tr>\n      <th>2</th>\n      <td>(Organic Hass Avocado)</td>\n      <td>(Bag of Organic Bananas)</td>\n      <td>0.097937</td>\n      <td>0.173919</td>\n      <td>0.026514</td>\n      <td>0.270730</td>\n      <td>1.556641</td>\n      <td>0.009481</td>\n      <td>1.132750</td>\n      <td>0.396415</td>\n    </tr>\n    <tr>\n      <th>3</th>\n      <td>(Bag of Organic Bananas)</td>\n      <td>(Organic Hass Avocado)</td>\n      <td>0.173919</td>\n      <td>0.097937</td>\n      <td>0.026514</td>\n      <td>0.152452</td>\n      <td>1.556641</td>\n      <td>0.009481</td>\n      <td>1.064321</td>\n      <td>0.432877</td>\n    </tr>\n    <tr>\n      <th>4</th>\n      <td>(Bag of Organic Bananas)</td>\n      <td>(Organic Raspberries)</td>\n      <td>0.173919</td>\n      <td>0.062756</td>\n      <td>0.017117</td>\n      <td>0.098418</td>\n      <td>1.568259</td>\n      <td>0.006202</td>\n      <td>1.039555</td>\n      <td>0.438638</td>\n    </tr>\n    <tr>\n      <th>5</th>\n      <td>(Organic Raspberries)</td>\n      <td>(Bag of Organic Bananas)</td>\n      <td>0.062756</td>\n      <td>0.173919</td>\n      <td>0.017117</td>\n      <td>0.272750</td>\n      <td>1.568259</td>\n      <td>0.006202</td>\n      <td>1.135897</td>\n      <td>0.386612</td>\n    </tr>\n    <tr>\n      <th>6</th>\n      <td>(Organic Strawberries)</td>\n      <td>(Bag of Organic Bananas)</td>\n      <td>0.121534</td>\n      <td>0.173919</td>\n      <td>0.026190</td>\n      <td>0.215499</td>\n      <td>1.239076</td>\n      <td>0.005053</td>\n      <td>1.053002</td>\n      <td>0.219641</td>\n    </tr>\n    <tr>\n      <th>7</th>\n      <td>(Bag of Organic Bananas)</td>\n      <td>(Organic Strawberries)</td>\n      <td>0.173919</td>\n      <td>0.121534</td>\n      <td>0.026190</td>\n      <td>0.150590</td>\n      <td>1.239076</td>\n      <td>0.005053</td>\n      <td>1.034207</td>\n      <td>0.233569</td>\n    </tr>\n    <tr>\n      <th>8</th>\n      <td>(Organic Whole Milk)</td>\n      <td>(Bag of Organic Bananas)</td>\n      <td>0.063175</td>\n      <td>0.173919</td>\n      <td>0.011298</td>\n      <td>0.178836</td>\n      <td>1.028271</td>\n      <td>0.000311</td>\n      <td>1.005988</td>\n      <td>0.029348</td>\n    </tr>\n    <tr>\n      <th>9</th>\n      <td>(Bag of Organic Bananas)</td>\n      <td>(Organic Whole Milk)</td>\n      <td>0.173919</td>\n      <td>0.063175</td>\n      <td>0.011298</td>\n      <td>0.064961</td>\n      <td>1.028271</td>\n      <td>0.000311</td>\n      <td>1.001910</td>\n      <td>0.033283</td>\n    </tr>\n    <tr>\n      <th>10</th>\n      <td>(Large Lemon)</td>\n      <td>(Banana)</td>\n      <td>0.070036</td>\n      <td>0.216696</td>\n      <td>0.017467</td>\n      <td>0.249404</td>\n      <td>1.150941</td>\n      <td>0.002291</td>\n      <td>1.043576</td>\n      <td>0.141022</td>\n    </tr>\n    <tr>\n      <th>11</th>\n      <td>(Banana)</td>\n      <td>(Large Lemon)</td>\n      <td>0.216696</td>\n      <td>0.070036</td>\n      <td>0.017467</td>\n      <td>0.080607</td>\n      <td>1.150941</td>\n      <td>0.002291</td>\n      <td>1.011498</td>\n      <td>0.167426</td>\n    </tr>\n    <tr>\n      <th>12</th>\n      <td>(Limes)</td>\n      <td>(Banana)</td>\n      <td>0.064580</td>\n      <td>0.216696</td>\n      <td>0.013549</td>\n      <td>0.209801</td>\n      <td>0.968185</td>\n      <td>-0.000445</td>\n      <td>0.991275</td>\n      <td>-0.033937</td>\n    </tr>\n    <tr>\n      <th>13</th>\n      <td>(Banana)</td>\n      <td>(Limes)</td>\n      <td>0.216696</td>\n      <td>0.064580</td>\n      <td>0.013549</td>\n      <td>0.062526</td>\n      <td>0.968185</td>\n      <td>-0.000445</td>\n      <td>0.997808</td>\n      <td>-0.040262</td>\n    </tr>\n    <tr>\n      <th>14</th>\n      <td>(Banana)</td>\n      <td>(Organic Avocado)</td>\n      <td>0.216696</td>\n      <td>0.081035</td>\n      <td>0.022637</td>\n      <td>0.104465</td>\n      <td>1.289133</td>\n      <td>0.005077</td>\n      <td>1.026163</td>\n      <td>0.286332</td>\n    </tr>\n    <tr>\n      <th>15</th>\n      <td>(Organic Avocado)</td>\n      <td>(Banana)</td>\n      <td>0.081035</td>\n      <td>0.216696</td>\n      <td>0.022637</td>\n      <td>0.279350</td>\n      <td>1.289133</td>\n      <td>0.005077</td>\n      <td>1.086941</td>\n      <td>0.244062</td>\n    </tr>\n    <tr>\n      <th>16</th>\n      <td>(Organic Baby Spinach)</td>\n      <td>(Banana)</td>\n      <td>0.111050</td>\n      <td>0.216696</td>\n      <td>0.021893</td>\n      <td>0.197150</td>\n      <td>0.909801</td>\n      <td>-0.002171</td>\n      <td>0.975655</td>\n      <td>-0.100336</td>\n    </tr>\n    <tr>\n      <th>17</th>\n      <td>(Banana)</td>\n      <td>(Organic Baby Spinach)</td>\n      <td>0.216696</td>\n      <td>0.111050</td>\n      <td>0.021893</td>\n      <td>0.101033</td>\n      <td>0.909801</td>\n      <td>-0.002171</td>\n      <td>0.988858</td>\n      <td>-0.112348</td>\n    </tr>\n    <tr>\n      <th>18</th>\n      <td>(Organic Hass Avocado)</td>\n      <td>(Banana)</td>\n      <td>0.097937</td>\n      <td>0.216696</td>\n      <td>0.013281</td>\n      <td>0.135610</td>\n      <td>0.625809</td>\n      <td>-0.007941</td>\n      <td>0.906193</td>\n      <td>-0.398622</td>\n    </tr>\n    <tr>\n      <th>19</th>\n      <td>(Banana)</td>\n      <td>(Organic Hass Avocado)</td>\n      <td>0.216696</td>\n      <td>0.097937</td>\n      <td>0.013281</td>\n      <td>0.061290</td>\n      <td>0.625809</td>\n      <td>-0.007941</td>\n      <td>0.960960</td>\n      <td>-0.432896</td>\n    </tr>\n    <tr>\n      <th>20</th>\n      <td>(Organic Strawberries)</td>\n      <td>(Banana)</td>\n      <td>0.121534</td>\n      <td>0.216696</td>\n      <td>0.023832</td>\n      <td>0.196091</td>\n      <td>0.904915</td>\n      <td>-0.002504</td>\n      <td>0.974370</td>\n      <td>-0.106834</td>\n    </tr>\n    <tr>\n      <th>21</th>\n      <td>(Banana)</td>\n      <td>(Organic Strawberries)</td>\n      <td>0.216696</td>\n      <td>0.121534</td>\n      <td>0.023832</td>\n      <td>0.109978</td>\n      <td>0.904915</td>\n      <td>-0.002504</td>\n      <td>0.987016</td>\n      <td>-0.118278</td>\n    </tr>\n    <tr>\n      <th>22</th>\n      <td>(Organic Whole Milk)</td>\n      <td>(Banana)</td>\n      <td>0.063175</td>\n      <td>0.216696</td>\n      <td>0.013414</td>\n      <td>0.212330</td>\n      <td>0.979854</td>\n      <td>-0.000276</td>\n      <td>0.994458</td>\n      <td>-0.021476</td>\n    </tr>\n    <tr>\n      <th>23</th>\n      <td>(Banana)</td>\n      <td>(Organic Whole Milk)</td>\n      <td>0.216696</td>\n      <td>0.063175</td>\n      <td>0.013414</td>\n      <td>0.061903</td>\n      <td>0.979854</td>\n      <td>-0.000276</td>\n      <td>0.998643</td>\n      <td>-0.025577</td>\n    </tr>\n    <tr>\n      <th>24</th>\n      <td>(Strawberries)</td>\n      <td>(Banana)</td>\n      <td>0.065550</td>\n      <td>0.216696</td>\n      <td>0.017573</td>\n      <td>0.268092</td>\n      <td>1.237180</td>\n      <td>0.003369</td>\n      <td>1.070222</td>\n      <td>0.205158</td>\n    </tr>\n    <tr>\n      <th>25</th>\n      <td>(Banana)</td>\n      <td>(Strawberries)</td>\n      <td>0.216696</td>\n      <td>0.065550</td>\n      <td>0.017573</td>\n      <td>0.081097</td>\n      <td>1.237180</td>\n      <td>0.003369</td>\n      <td>1.016919</td>\n      <td>0.244746</td>\n    </tr>\n    <tr>\n      <th>26</th>\n      <td>(Limes)</td>\n      <td>(Large Lemon)</td>\n      <td>0.064580</td>\n      <td>0.070036</td>\n      <td>0.011693</td>\n      <td>0.181068</td>\n      <td>2.585352</td>\n      <td>0.007170</td>\n      <td>1.135581</td>\n      <td>0.655540</td>\n    </tr>\n    <tr>\n      <th>27</th>\n      <td>(Large Lemon)</td>\n      <td>(Limes)</td>\n      <td>0.070036</td>\n      <td>0.064580</td>\n      <td>0.011693</td>\n      <td>0.166962</td>\n      <td>2.585352</td>\n      <td>0.007170</td>\n      <td>1.122902</td>\n      <td>0.659386</td>\n    </tr>\n    <tr>\n      <th>28</th>\n      <td>(Large Lemon)</td>\n      <td>(Organic Avocado)</td>\n      <td>0.070036</td>\n      <td>0.081035</td>\n      <td>0.010374</td>\n      <td>0.148123</td>\n      <td>1.827886</td>\n      <td>0.004699</td>\n      <td>1.078753</td>\n      <td>0.487029</td>\n    </tr>\n    <tr>\n      <th>29</th>\n      <td>(Organic Avocado)</td>\n      <td>(Large Lemon)</td>\n      <td>0.081035</td>\n      <td>0.070036</td>\n      <td>0.010374</td>\n      <td>0.128018</td>\n      <td>1.827886</td>\n      <td>0.004699</td>\n      <td>1.066494</td>\n      <td>0.492859</td>\n    </tr>\n    <tr>\n      <th>30</th>\n      <td>(Organic Baby Spinach)</td>\n      <td>(Organic Avocado)</td>\n      <td>0.111050</td>\n      <td>0.081035</td>\n      <td>0.013141</td>\n      <td>0.118338</td>\n      <td>1.460327</td>\n      <td>0.004142</td>\n      <td>1.042310</td>\n      <td>0.354600</td>\n    </tr>\n    <tr>\n      <th>31</th>\n      <td>(Organic Avocado)</td>\n      <td>(Organic Baby Spinach)</td>\n      <td>0.081035</td>\n      <td>0.111050</td>\n      <td>0.013141</td>\n      <td>0.162169</td>\n      <td>1.460327</td>\n      <td>0.004142</td>\n      <td>1.061014</td>\n      <td>0.343018</td>\n    </tr>\n    <tr>\n      <th>32</th>\n      <td>(Organic Strawberries)</td>\n      <td>(Organic Avocado)</td>\n      <td>0.121534</td>\n      <td>0.081035</td>\n      <td>0.010164</td>\n      <td>0.083633</td>\n      <td>1.032060</td>\n      <td>0.000316</td>\n      <td>1.002835</td>\n      <td>0.035362</td>\n    </tr>\n    <tr>\n      <th>33</th>\n      <td>(Organic Avocado)</td>\n      <td>(Organic Strawberries)</td>\n      <td>0.081035</td>\n      <td>0.121534</td>\n      <td>0.010164</td>\n      <td>0.125430</td>\n      <td>1.032060</td>\n      <td>0.000316</td>\n      <td>1.004455</td>\n      <td>0.033803</td>\n    </tr>\n    <tr>\n      <th>34</th>\n      <td>(Organic Baby Spinach)</td>\n      <td>(Organic Hass Avocado)</td>\n      <td>0.111050</td>\n      <td>0.097937</td>\n      <td>0.014884</td>\n      <td>0.134029</td>\n      <td>1.368533</td>\n      <td>0.004008</td>\n      <td>1.041679</td>\n      <td>0.302931</td>\n    </tr>\n    <tr>\n      <th>35</th>\n      <td>(Organic Hass Avocado)</td>\n      <td>(Organic Baby Spinach)</td>\n      <td>0.097937</td>\n      <td>0.111050</td>\n      <td>0.014884</td>\n      <td>0.151975</td>\n      <td>1.368533</td>\n      <td>0.004008</td>\n      <td>1.048260</td>\n      <td>0.298527</td>\n    </tr>\n    <tr>\n      <th>36</th>\n      <td>(Organic Baby Spinach)</td>\n      <td>(Organic Strawberries)</td>\n      <td>0.111050</td>\n      <td>0.121534</td>\n      <td>0.016279</td>\n      <td>0.146588</td>\n      <td>1.206149</td>\n      <td>0.002782</td>\n      <td>1.029358</td>\n      <td>0.192266</td>\n    </tr>\n    <tr>\n      <th>37</th>\n      <td>(Organic Strawberries)</td>\n      <td>(Organic Baby Spinach)</td>\n      <td>0.121534</td>\n      <td>0.111050</td>\n      <td>0.016279</td>\n      <td>0.133942</td>\n      <td>1.206149</td>\n      <td>0.002782</td>\n      <td>1.026433</td>\n      <td>0.194561</td>\n    </tr>\n    <tr>\n      <th>38</th>\n      <td>(Organic Hass Avocado)</td>\n      <td>(Organic Raspberries)</td>\n      <td>0.097937</td>\n      <td>0.062756</td>\n      <td>0.010900</td>\n      <td>0.111297</td>\n      <td>1.773486</td>\n      <td>0.004754</td>\n      <td>1.054620</td>\n      <td>0.483490</td>\n    </tr>\n    <tr>\n      <th>39</th>\n      <td>(Organic Raspberries)</td>\n      <td>(Organic Hass Avocado)</td>\n      <td>0.062756</td>\n      <td>0.097937</td>\n      <td>0.010900</td>\n      <td>0.173689</td>\n      <td>1.773486</td>\n      <td>0.004754</td>\n      <td>1.091676</td>\n      <td>0.465342</td>\n    </tr>\n    <tr>\n      <th>40</th>\n      <td>(Organic Strawberries)</td>\n      <td>(Organic Hass Avocado)</td>\n      <td>0.121534</td>\n      <td>0.097937</td>\n      <td>0.017363</td>\n      <td>0.142867</td>\n      <td>1.458773</td>\n      <td>0.005461</td>\n      <td>1.052420</td>\n      <td>0.358002</td>\n    </tr>\n    <tr>\n      <th>41</th>\n      <td>(Organic Hass Avocado)</td>\n      <td>(Organic Strawberries)</td>\n      <td>0.097937</td>\n      <td>0.121534</td>\n      <td>0.017363</td>\n      <td>0.177291</td>\n      <td>1.458773</td>\n      <td>0.005461</td>\n      <td>1.067772</td>\n      <td>0.348637</td>\n    </tr>\n    <tr>\n      <th>42</th>\n      <td>(Organic Strawberries)</td>\n      <td>(Organic Raspberries)</td>\n      <td>0.121534</td>\n      <td>0.062756</td>\n      <td>0.014383</td>\n      <td>0.118349</td>\n      <td>1.885862</td>\n      <td>0.006756</td>\n      <td>1.063056</td>\n      <td>0.534726</td>\n    </tr>\n    <tr>\n      <th>43</th>\n      <td>(Organic Raspberries)</td>\n      <td>(Organic Strawberries)</td>\n      <td>0.062756</td>\n      <td>0.121534</td>\n      <td>0.014383</td>\n      <td>0.229196</td>\n      <td>1.885862</td>\n      <td>0.006756</td>\n      <td>1.139675</td>\n      <td>0.501191</td>\n    </tr>\n    <tr>\n      <th>44</th>\n      <td>(Organic Whole Milk)</td>\n      <td>(Organic Strawberries)</td>\n      <td>0.063175</td>\n      <td>0.121534</td>\n      <td>0.010119</td>\n      <td>0.160181</td>\n      <td>1.317991</td>\n      <td>0.002442</td>\n      <td>1.046018</td>\n      <td>0.257539</td>\n    </tr>\n    <tr>\n      <th>45</th>\n      <td>(Organic Strawberries)</td>\n      <td>(Organic Whole Milk)</td>\n      <td>0.121534</td>\n      <td>0.063175</td>\n      <td>0.010119</td>\n      <td>0.083265</td>\n      <td>1.317991</td>\n      <td>0.002442</td>\n      <td>1.021914</td>\n      <td>0.274648</td>\n    </tr>\n  </tbody>\n</table>\n</div>"
     },
     "execution_count": 55,
     "metadata": {},
     "output_type": "execute_result"
    }
   ],
   "source": [
    "rules_mlxtend"
   ],
   "metadata": {
    "collapsed": false
   }
  },
  {
   "cell_type": "code",
   "execution_count": null,
   "outputs": [],
   "source": [],
   "metadata": {
    "collapsed": false
   }
  }
 ],
 "metadata": {
  "kernelspec": {
   "display_name": "Python 3",
   "language": "python",
   "name": "python3"
  },
  "language_info": {
   "codemirror_mode": {
    "name": "ipython",
    "version": 2
   },
   "file_extension": ".py",
   "mimetype": "text/x-python",
   "name": "python",
   "nbconvert_exporter": "python",
   "pygments_lexer": "ipython2",
   "version": "2.7.6"
  }
 },
 "nbformat": 4,
 "nbformat_minor": 0
}
