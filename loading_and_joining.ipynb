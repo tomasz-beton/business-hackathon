{
 "cells": [
  {
   "cell_type": "code",
   "execution_count": 2,
   "outputs": [],
   "source": [
    "import pandas as pd"
   ],
   "metadata": {
    "collapsed": false,
    "ExecuteTime": {
     "end_time": "2023-05-20T10:36:24.633875004Z",
     "start_time": "2023-05-20T10:36:24.194072592Z"
    }
   }
  },
  {
   "cell_type": "markdown",
   "source": [
    "Wczytywanie i joinowanie"
   ],
   "metadata": {
    "collapsed": false
   }
  },
  {
   "cell_type": "markdown",
   "source": [],
   "metadata": {
    "collapsed": false
   }
  },
  {
   "cell_type": "code",
   "execution_count": 93,
   "outputs": [
    {
     "data": {
      "text/plain": "               customer_id eval_set transaction_number day_of_week   \ntransaction_id                                                       \n2539329                1.0    prior                1.0         2.0  \\\n2398795                1.0    prior                2.0         3.0   \n473747                 1.0    prior                3.0         3.0   \n2254736                1.0    prior                4.0         4.0   \n431534                 1.0    prior                5.0         4.0   \n...                    ...      ...                ...         ...   \n2266710           206209.0    prior               10.0         5.0   \n1854736           206209.0    prior               11.0         4.0   \n626363            206209.0    prior               12.0         1.0   \n2977660           206209.0    prior               13.0         1.0   \n272231            206209.0    train               14.0         6.0   \n\n               time_of_day days_since_prior_order  \ntransaction_id                                     \n2539329                8.0                    NaN  \n2398795                7.0                   15.0  \n473747                12.0                   21.0  \n2254736                7.0                   29.0  \n431534                15.0                   28.0  \n...                    ...                    ...  \n2266710               18.0                   29.0  \n1854736               10.0                   30.0  \n626363                12.0                   18.0  \n2977660               12.0                    7.0  \n272231                14.0                   30.0  \n\n[3204781 rows x 6 columns]",
      "text/html": "<div>\n<style scoped>\n    .dataframe tbody tr th:only-of-type {\n        vertical-align: middle;\n    }\n\n    .dataframe tbody tr th {\n        vertical-align: top;\n    }\n\n    .dataframe thead th {\n        text-align: right;\n    }\n</style>\n<table border=\"1\" class=\"dataframe\">\n  <thead>\n    <tr style=\"text-align: right;\">\n      <th></th>\n      <th>customer_id</th>\n      <th>eval_set</th>\n      <th>transaction_number</th>\n      <th>day_of_week</th>\n      <th>time_of_day</th>\n      <th>days_since_prior_order</th>\n    </tr>\n    <tr>\n      <th>transaction_id</th>\n      <th></th>\n      <th></th>\n      <th></th>\n      <th></th>\n      <th></th>\n      <th></th>\n    </tr>\n  </thead>\n  <tbody>\n    <tr>\n      <th>2539329</th>\n      <td>1.0</td>\n      <td>prior</td>\n      <td>1.0</td>\n      <td>2.0</td>\n      <td>8.0</td>\n      <td>NaN</td>\n    </tr>\n    <tr>\n      <th>2398795</th>\n      <td>1.0</td>\n      <td>prior</td>\n      <td>2.0</td>\n      <td>3.0</td>\n      <td>7.0</td>\n      <td>15.0</td>\n    </tr>\n    <tr>\n      <th>473747</th>\n      <td>1.0</td>\n      <td>prior</td>\n      <td>3.0</td>\n      <td>3.0</td>\n      <td>12.0</td>\n      <td>21.0</td>\n    </tr>\n    <tr>\n      <th>2254736</th>\n      <td>1.0</td>\n      <td>prior</td>\n      <td>4.0</td>\n      <td>4.0</td>\n      <td>7.0</td>\n      <td>29.0</td>\n    </tr>\n    <tr>\n      <th>431534</th>\n      <td>1.0</td>\n      <td>prior</td>\n      <td>5.0</td>\n      <td>4.0</td>\n      <td>15.0</td>\n      <td>28.0</td>\n    </tr>\n    <tr>\n      <th>...</th>\n      <td>...</td>\n      <td>...</td>\n      <td>...</td>\n      <td>...</td>\n      <td>...</td>\n      <td>...</td>\n    </tr>\n    <tr>\n      <th>2266710</th>\n      <td>206209.0</td>\n      <td>prior</td>\n      <td>10.0</td>\n      <td>5.0</td>\n      <td>18.0</td>\n      <td>29.0</td>\n    </tr>\n    <tr>\n      <th>1854736</th>\n      <td>206209.0</td>\n      <td>prior</td>\n      <td>11.0</td>\n      <td>4.0</td>\n      <td>10.0</td>\n      <td>30.0</td>\n    </tr>\n    <tr>\n      <th>626363</th>\n      <td>206209.0</td>\n      <td>prior</td>\n      <td>12.0</td>\n      <td>1.0</td>\n      <td>12.0</td>\n      <td>18.0</td>\n    </tr>\n    <tr>\n      <th>2977660</th>\n      <td>206209.0</td>\n      <td>prior</td>\n      <td>13.0</td>\n      <td>1.0</td>\n      <td>12.0</td>\n      <td>7.0</td>\n    </tr>\n    <tr>\n      <th>272231</th>\n      <td>206209.0</td>\n      <td>train</td>\n      <td>14.0</td>\n      <td>6.0</td>\n      <td>14.0</td>\n      <td>30.0</td>\n    </tr>\n  </tbody>\n</table>\n<p>3204781 rows × 6 columns</p>\n</div>"
     },
     "execution_count": 93,
     "metadata": {},
     "output_type": "execute_result"
    }
   ],
   "source": [
    "transactions = pd.read_csv(\"data/transactions.csv\")\n",
    "transactions = transactions.drop(columns=['Unnamed: 0'])\n",
    "transactions = transactions.loc[~ (transactions.transaction_id == \"unknown\")]\n",
    "transactions = transactions.dropna(subset=\"transaction_id\")\n",
    "transactions[\"transaction_id\"] = transactions[\"transaction_id\"].astype(float).astype(int)\n",
    "transactions = transactions.set_index(\"transaction_id\")\n",
    "transactions"
   ],
   "metadata": {
    "collapsed": false,
    "ExecuteTime": {
     "end_time": "2023-05-20T11:54:23.789903187Z",
     "start_time": "2023-05-20T11:54:16.574840054Z"
    }
   }
  },
  {
   "cell_type": "code",
   "execution_count": 95,
   "outputs": [
    {
     "data": {
      "text/plain": "                item_id add_to_cart_order previous_bought\ntransaction_id                                           \n2               33120.0               1.0             1.0\n2               28985.0               2.0             1.0\n2               45918.0               4.0             1.0\n2               30035.0               5.0             0.0\n2               17794.0               6.0             1.0\n...                 ...               ...             ...\n3421083         39678.0               6.0             1.0\n3421083         11352.0               7.0             0.0\n3421083          4600.0               8.0             0.0\n3421083         24852.0               9.0             1.0\n3421083          5020.0              10.0             1.0\n\n[31059342 rows x 3 columns]",
      "text/html": "<div>\n<style scoped>\n    .dataframe tbody tr th:only-of-type {\n        vertical-align: middle;\n    }\n\n    .dataframe tbody tr th {\n        vertical-align: top;\n    }\n\n    .dataframe thead th {\n        text-align: right;\n    }\n</style>\n<table border=\"1\" class=\"dataframe\">\n  <thead>\n    <tr style=\"text-align: right;\">\n      <th></th>\n      <th>item_id</th>\n      <th>add_to_cart_order</th>\n      <th>previous_bought</th>\n    </tr>\n    <tr>\n      <th>transaction_id</th>\n      <th></th>\n      <th></th>\n      <th></th>\n    </tr>\n  </thead>\n  <tbody>\n    <tr>\n      <th>2</th>\n      <td>33120.0</td>\n      <td>1.0</td>\n      <td>1.0</td>\n    </tr>\n    <tr>\n      <th>2</th>\n      <td>28985.0</td>\n      <td>2.0</td>\n      <td>1.0</td>\n    </tr>\n    <tr>\n      <th>2</th>\n      <td>45918.0</td>\n      <td>4.0</td>\n      <td>1.0</td>\n    </tr>\n    <tr>\n      <th>2</th>\n      <td>30035.0</td>\n      <td>5.0</td>\n      <td>0.0</td>\n    </tr>\n    <tr>\n      <th>2</th>\n      <td>17794.0</td>\n      <td>6.0</td>\n      <td>1.0</td>\n    </tr>\n    <tr>\n      <th>...</th>\n      <td>...</td>\n      <td>...</td>\n      <td>...</td>\n    </tr>\n    <tr>\n      <th>3421083</th>\n      <td>39678.0</td>\n      <td>6.0</td>\n      <td>1.0</td>\n    </tr>\n    <tr>\n      <th>3421083</th>\n      <td>11352.0</td>\n      <td>7.0</td>\n      <td>0.0</td>\n    </tr>\n    <tr>\n      <th>3421083</th>\n      <td>4600.0</td>\n      <td>8.0</td>\n      <td>0.0</td>\n    </tr>\n    <tr>\n      <th>3421083</th>\n      <td>24852.0</td>\n      <td>9.0</td>\n      <td>1.0</td>\n    </tr>\n    <tr>\n      <th>3421083</th>\n      <td>5020.0</td>\n      <td>10.0</td>\n      <td>1.0</td>\n    </tr>\n  </tbody>\n</table>\n<p>31059342 rows × 3 columns</p>\n</div>"
     },
     "execution_count": 95,
     "metadata": {},
     "output_type": "execute_result"
    }
   ],
   "source": [
    "transaction_items_prior = pd.read_csv(\"data/transaction_items__prior.csv\")\n",
    "transaction_items_prior = transaction_items_prior.drop(columns=['Unnamed: 0'])\n",
    "transaction_items_prior = transaction_items_prior.loc[~ (transaction_items_prior.transaction_id == \"unknown\")]\n",
    "transaction_items_prior = transaction_items_prior.dropna(subset=\"transaction_id\")\n",
    "transaction_items_prior[\"transaction_id\"] = transaction_items_prior[\"transaction_id\"].astype(float).astype(int)\n",
    "transaction_items_prior = transaction_items_prior.set_index(\"transaction_id\")\n",
    "transaction_items_prior"
   ],
   "metadata": {
    "collapsed": false,
    "ExecuteTime": {
     "end_time": "2023-05-20T11:57:57.201278959Z",
     "start_time": "2023-05-20T11:57:09.857617379Z"
    }
   }
  },
  {
   "cell_type": "code",
   "execution_count": 96,
   "outputs": [
    {
     "data": {
      "text/plain": "                item_id add_to_cart_order previous_bought\ntransaction_id                                           \n1               49302.0               1.0             1.0\n1               11109.0               2.0             1.0\n1               10246.0               3.0             0.0\n1               49683.0               4.0             0.0\n1               43633.0               5.0             1.0\n...                 ...               ...             ...\n3421063         14233.0               3.0             1.0\n3421063         35548.0               4.0             1.0\n3421070         35951.0               1.0             1.0\n3421070         16953.0               2.0             1.0\n3421070          4724.0               3.0             1.0\n\n[1325747 rows x 3 columns]",
      "text/html": "<div>\n<style scoped>\n    .dataframe tbody tr th:only-of-type {\n        vertical-align: middle;\n    }\n\n    .dataframe tbody tr th {\n        vertical-align: top;\n    }\n\n    .dataframe thead th {\n        text-align: right;\n    }\n</style>\n<table border=\"1\" class=\"dataframe\">\n  <thead>\n    <tr style=\"text-align: right;\">\n      <th></th>\n      <th>item_id</th>\n      <th>add_to_cart_order</th>\n      <th>previous_bought</th>\n    </tr>\n    <tr>\n      <th>transaction_id</th>\n      <th></th>\n      <th></th>\n      <th></th>\n    </tr>\n  </thead>\n  <tbody>\n    <tr>\n      <th>1</th>\n      <td>49302.0</td>\n      <td>1.0</td>\n      <td>1.0</td>\n    </tr>\n    <tr>\n      <th>1</th>\n      <td>11109.0</td>\n      <td>2.0</td>\n      <td>1.0</td>\n    </tr>\n    <tr>\n      <th>1</th>\n      <td>10246.0</td>\n      <td>3.0</td>\n      <td>0.0</td>\n    </tr>\n    <tr>\n      <th>1</th>\n      <td>49683.0</td>\n      <td>4.0</td>\n      <td>0.0</td>\n    </tr>\n    <tr>\n      <th>1</th>\n      <td>43633.0</td>\n      <td>5.0</td>\n      <td>1.0</td>\n    </tr>\n    <tr>\n      <th>...</th>\n      <td>...</td>\n      <td>...</td>\n      <td>...</td>\n    </tr>\n    <tr>\n      <th>3421063</th>\n      <td>14233.0</td>\n      <td>3.0</td>\n      <td>1.0</td>\n    </tr>\n    <tr>\n      <th>3421063</th>\n      <td>35548.0</td>\n      <td>4.0</td>\n      <td>1.0</td>\n    </tr>\n    <tr>\n      <th>3421070</th>\n      <td>35951.0</td>\n      <td>1.0</td>\n      <td>1.0</td>\n    </tr>\n    <tr>\n      <th>3421070</th>\n      <td>16953.0</td>\n      <td>2.0</td>\n      <td>1.0</td>\n    </tr>\n    <tr>\n      <th>3421070</th>\n      <td>4724.0</td>\n      <td>3.0</td>\n      <td>1.0</td>\n    </tr>\n  </tbody>\n</table>\n<p>1325747 rows × 3 columns</p>\n</div>"
     },
     "execution_count": 96,
     "metadata": {},
     "output_type": "execute_result"
    }
   ],
   "source": [
    "transaction_items_train = pd.read_csv(\"data/transaction_items__train.csv\")\n",
    "transaction_items_train = transaction_items_train.drop(columns=['Unnamed: 0'])\n",
    "transaction_items_train = transaction_items_train.loc[~ (transaction_items_train.transaction_id == \"unknown\")]\n",
    "transaction_items_train = transaction_items_train.dropna(subset=\"transaction_id\")\n",
    "transaction_items_train[\"transaction_id\"] = transaction_items_train[\"transaction_id\"].astype(float).astype(int)\n",
    "transaction_items_train = transaction_items_train.set_index(\"transaction_id\")\n",
    "transaction_items_train"
   ],
   "metadata": {
    "collapsed": false,
    "ExecuteTime": {
     "end_time": "2023-05-20T11:57:59.165839337Z",
     "start_time": "2023-05-20T11:57:57.145785088Z"
    }
   }
  },
  {
   "cell_type": "code",
   "execution_count": 104,
   "outputs": [
    {
     "data": {
      "text/plain": "                item_id add_to_cart_order previous_bought customer_id   \ntransaction_id                                                          \n2               33120.0               1.0             1.0    202279.0  \\\n2               28985.0               2.0             1.0    202279.0   \n2               45918.0               4.0             1.0    202279.0   \n2               30035.0               5.0             0.0    202279.0   \n2               17794.0               6.0             1.0    202279.0   \n...                 ...               ...             ...         ...   \n3421083         39678.0               6.0             1.0     25247.0   \n3421083         11352.0               7.0             0.0     25247.0   \n3421083          4600.0               8.0             0.0     25247.0   \n3421083         24852.0               9.0             1.0     25247.0   \n3421083          5020.0              10.0             1.0     25247.0   \n\n               eval_set transaction_number day_of_week time_of_day   \ntransaction_id                                                       \n2                 prior                3.0         5.0         9.0  \\\n2                 prior                3.0         5.0         9.0   \n2                 prior                3.0         5.0         9.0   \n2                 prior                3.0         5.0         9.0   \n2                 prior                3.0         5.0         9.0   \n...                 ...                ...         ...         ...   \n3421083           prior               24.0         2.0         6.0   \n3421083           prior               24.0         2.0         6.0   \n3421083           prior               24.0         2.0         6.0   \n3421083           prior               24.0         2.0         6.0   \n3421083           prior               24.0         2.0         6.0   \n\n               days_since_prior_order  \ntransaction_id                         \n2                                 8.0  \n2                                 8.0  \n2                                 8.0  \n2                                 8.0  \n2                                 8.0  \n...                               ...  \n3421083                          21.0  \n3421083                          21.0  \n3421083                          21.0  \n3421083                          21.0  \n3421083                          21.0  \n\n[31059342 rows x 9 columns]",
      "text/html": "<div>\n<style scoped>\n    .dataframe tbody tr th:only-of-type {\n        vertical-align: middle;\n    }\n\n    .dataframe tbody tr th {\n        vertical-align: top;\n    }\n\n    .dataframe thead th {\n        text-align: right;\n    }\n</style>\n<table border=\"1\" class=\"dataframe\">\n  <thead>\n    <tr style=\"text-align: right;\">\n      <th></th>\n      <th>item_id</th>\n      <th>add_to_cart_order</th>\n      <th>previous_bought</th>\n      <th>customer_id</th>\n      <th>eval_set</th>\n      <th>transaction_number</th>\n      <th>day_of_week</th>\n      <th>time_of_day</th>\n      <th>days_since_prior_order</th>\n    </tr>\n    <tr>\n      <th>transaction_id</th>\n      <th></th>\n      <th></th>\n      <th></th>\n      <th></th>\n      <th></th>\n      <th></th>\n      <th></th>\n      <th></th>\n      <th></th>\n    </tr>\n  </thead>\n  <tbody>\n    <tr>\n      <th>2</th>\n      <td>33120.0</td>\n      <td>1.0</td>\n      <td>1.0</td>\n      <td>202279.0</td>\n      <td>prior</td>\n      <td>3.0</td>\n      <td>5.0</td>\n      <td>9.0</td>\n      <td>8.0</td>\n    </tr>\n    <tr>\n      <th>2</th>\n      <td>28985.0</td>\n      <td>2.0</td>\n      <td>1.0</td>\n      <td>202279.0</td>\n      <td>prior</td>\n      <td>3.0</td>\n      <td>5.0</td>\n      <td>9.0</td>\n      <td>8.0</td>\n    </tr>\n    <tr>\n      <th>2</th>\n      <td>45918.0</td>\n      <td>4.0</td>\n      <td>1.0</td>\n      <td>202279.0</td>\n      <td>prior</td>\n      <td>3.0</td>\n      <td>5.0</td>\n      <td>9.0</td>\n      <td>8.0</td>\n    </tr>\n    <tr>\n      <th>2</th>\n      <td>30035.0</td>\n      <td>5.0</td>\n      <td>0.0</td>\n      <td>202279.0</td>\n      <td>prior</td>\n      <td>3.0</td>\n      <td>5.0</td>\n      <td>9.0</td>\n      <td>8.0</td>\n    </tr>\n    <tr>\n      <th>2</th>\n      <td>17794.0</td>\n      <td>6.0</td>\n      <td>1.0</td>\n      <td>202279.0</td>\n      <td>prior</td>\n      <td>3.0</td>\n      <td>5.0</td>\n      <td>9.0</td>\n      <td>8.0</td>\n    </tr>\n    <tr>\n      <th>...</th>\n      <td>...</td>\n      <td>...</td>\n      <td>...</td>\n      <td>...</td>\n      <td>...</td>\n      <td>...</td>\n      <td>...</td>\n      <td>...</td>\n      <td>...</td>\n    </tr>\n    <tr>\n      <th>3421083</th>\n      <td>39678.0</td>\n      <td>6.0</td>\n      <td>1.0</td>\n      <td>25247.0</td>\n      <td>prior</td>\n      <td>24.0</td>\n      <td>2.0</td>\n      <td>6.0</td>\n      <td>21.0</td>\n    </tr>\n    <tr>\n      <th>3421083</th>\n      <td>11352.0</td>\n      <td>7.0</td>\n      <td>0.0</td>\n      <td>25247.0</td>\n      <td>prior</td>\n      <td>24.0</td>\n      <td>2.0</td>\n      <td>6.0</td>\n      <td>21.0</td>\n    </tr>\n    <tr>\n      <th>3421083</th>\n      <td>4600.0</td>\n      <td>8.0</td>\n      <td>0.0</td>\n      <td>25247.0</td>\n      <td>prior</td>\n      <td>24.0</td>\n      <td>2.0</td>\n      <td>6.0</td>\n      <td>21.0</td>\n    </tr>\n    <tr>\n      <th>3421083</th>\n      <td>24852.0</td>\n      <td>9.0</td>\n      <td>1.0</td>\n      <td>25247.0</td>\n      <td>prior</td>\n      <td>24.0</td>\n      <td>2.0</td>\n      <td>6.0</td>\n      <td>21.0</td>\n    </tr>\n    <tr>\n      <th>3421083</th>\n      <td>5020.0</td>\n      <td>10.0</td>\n      <td>1.0</td>\n      <td>25247.0</td>\n      <td>prior</td>\n      <td>24.0</td>\n      <td>2.0</td>\n      <td>6.0</td>\n      <td>21.0</td>\n    </tr>\n  </tbody>\n</table>\n<p>31059342 rows × 9 columns</p>\n</div>"
     },
     "execution_count": 104,
     "metadata": {},
     "output_type": "execute_result"
    }
   ],
   "source": [
    "df_prior = transaction_items_prior.join(transactions)\n",
    "df_prior"
   ],
   "metadata": {
    "collapsed": false,
    "ExecuteTime": {
     "end_time": "2023-05-20T12:02:18.492988161Z",
     "start_time": "2023-05-20T12:01:57.354885192Z"
    }
   }
  },
  {
   "cell_type": "code",
   "execution_count": 105,
   "outputs": [
    {
     "name": "stdout",
     "output_type": "stream",
     "text": [
      "<class 'pandas.core.frame.DataFrame'>\n",
      "Index: 31059342 entries, 2 to 3421083\n",
      "Data columns (total 9 columns):\n",
      " #   Column                  Dtype \n",
      "---  ------                  ----- \n",
      " 0   item_id                 object\n",
      " 1   add_to_cart_order       object\n",
      " 2   previous_bought         object\n",
      " 3   customer_id             object\n",
      " 4   eval_set                object\n",
      " 5   transaction_number      object\n",
      " 6   day_of_week             object\n",
      " 7   time_of_day             object\n",
      " 8   days_since_prior_order  object\n",
      "dtypes: object(9)\n",
      "memory usage: 2.3+ GB\n"
     ]
    }
   ],
   "source": [
    "df_prior.info()"
   ],
   "metadata": {
    "collapsed": false,
    "ExecuteTime": {
     "end_time": "2023-05-20T12:02:18.493485528Z",
     "start_time": "2023-05-20T12:02:18.466078340Z"
    }
   }
  },
  {
   "cell_type": "code",
   "execution_count": 102,
   "outputs": [
    {
     "data": {
      "text/plain": "                item_id add_to_cart_order previous_bought customer_id   \ntransaction_id                                                          \n1               49302.0               1.0             1.0    112108.0  \\\n1               11109.0               2.0             1.0    112108.0   \n1               10246.0               3.0             0.0    112108.0   \n1               49683.0               4.0             0.0    112108.0   \n1               43633.0               5.0             1.0    112108.0   \n...                 ...               ...             ...         ...   \n3421063         14233.0               3.0             1.0         NaN   \n3421063         35548.0               4.0             1.0         NaN   \n3421070         35951.0               1.0             1.0    139822.0   \n3421070         16953.0               2.0             1.0    139822.0   \n3421070          4724.0               3.0             1.0    139822.0   \n\n               eval_set transaction_number day_of_week time_of_day   \ntransaction_id                                                       \n1                 train                4.0         4.0        10.0  \\\n1                 train                4.0         4.0        10.0   \n1                 train                4.0         4.0        10.0   \n1                 train                4.0         4.0        10.0   \n1                 train                4.0         4.0        10.0   \n...                 ...                ...         ...         ...   \n3421063             NaN                NaN         NaN         NaN   \n3421063             NaN                NaN         NaN         NaN   \n3421070           train               15.0         6.0        10.0   \n3421070           train               15.0         6.0        10.0   \n3421070           train               15.0         6.0        10.0   \n\n               days_since_prior_order  \ntransaction_id                         \n1                                 9.0  \n1                                 9.0  \n1                                 9.0  \n1                                 9.0  \n1                                 9.0  \n...                               ...  \n3421063                           NaN  \n3421063                           NaN  \n3421070                           8.0  \n3421070                           8.0  \n3421070                           8.0  \n\n[1325747 rows x 9 columns]",
      "text/html": "<div>\n<style scoped>\n    .dataframe tbody tr th:only-of-type {\n        vertical-align: middle;\n    }\n\n    .dataframe tbody tr th {\n        vertical-align: top;\n    }\n\n    .dataframe thead th {\n        text-align: right;\n    }\n</style>\n<table border=\"1\" class=\"dataframe\">\n  <thead>\n    <tr style=\"text-align: right;\">\n      <th></th>\n      <th>item_id</th>\n      <th>add_to_cart_order</th>\n      <th>previous_bought</th>\n      <th>customer_id</th>\n      <th>eval_set</th>\n      <th>transaction_number</th>\n      <th>day_of_week</th>\n      <th>time_of_day</th>\n      <th>days_since_prior_order</th>\n    </tr>\n    <tr>\n      <th>transaction_id</th>\n      <th></th>\n      <th></th>\n      <th></th>\n      <th></th>\n      <th></th>\n      <th></th>\n      <th></th>\n      <th></th>\n      <th></th>\n    </tr>\n  </thead>\n  <tbody>\n    <tr>\n      <th>1</th>\n      <td>49302.0</td>\n      <td>1.0</td>\n      <td>1.0</td>\n      <td>112108.0</td>\n      <td>train</td>\n      <td>4.0</td>\n      <td>4.0</td>\n      <td>10.0</td>\n      <td>9.0</td>\n    </tr>\n    <tr>\n      <th>1</th>\n      <td>11109.0</td>\n      <td>2.0</td>\n      <td>1.0</td>\n      <td>112108.0</td>\n      <td>train</td>\n      <td>4.0</td>\n      <td>4.0</td>\n      <td>10.0</td>\n      <td>9.0</td>\n    </tr>\n    <tr>\n      <th>1</th>\n      <td>10246.0</td>\n      <td>3.0</td>\n      <td>0.0</td>\n      <td>112108.0</td>\n      <td>train</td>\n      <td>4.0</td>\n      <td>4.0</td>\n      <td>10.0</td>\n      <td>9.0</td>\n    </tr>\n    <tr>\n      <th>1</th>\n      <td>49683.0</td>\n      <td>4.0</td>\n      <td>0.0</td>\n      <td>112108.0</td>\n      <td>train</td>\n      <td>4.0</td>\n      <td>4.0</td>\n      <td>10.0</td>\n      <td>9.0</td>\n    </tr>\n    <tr>\n      <th>1</th>\n      <td>43633.0</td>\n      <td>5.0</td>\n      <td>1.0</td>\n      <td>112108.0</td>\n      <td>train</td>\n      <td>4.0</td>\n      <td>4.0</td>\n      <td>10.0</td>\n      <td>9.0</td>\n    </tr>\n    <tr>\n      <th>...</th>\n      <td>...</td>\n      <td>...</td>\n      <td>...</td>\n      <td>...</td>\n      <td>...</td>\n      <td>...</td>\n      <td>...</td>\n      <td>...</td>\n      <td>...</td>\n    </tr>\n    <tr>\n      <th>3421063</th>\n      <td>14233.0</td>\n      <td>3.0</td>\n      <td>1.0</td>\n      <td>NaN</td>\n      <td>NaN</td>\n      <td>NaN</td>\n      <td>NaN</td>\n      <td>NaN</td>\n      <td>NaN</td>\n    </tr>\n    <tr>\n      <th>3421063</th>\n      <td>35548.0</td>\n      <td>4.0</td>\n      <td>1.0</td>\n      <td>NaN</td>\n      <td>NaN</td>\n      <td>NaN</td>\n      <td>NaN</td>\n      <td>NaN</td>\n      <td>NaN</td>\n    </tr>\n    <tr>\n      <th>3421070</th>\n      <td>35951.0</td>\n      <td>1.0</td>\n      <td>1.0</td>\n      <td>139822.0</td>\n      <td>train</td>\n      <td>15.0</td>\n      <td>6.0</td>\n      <td>10.0</td>\n      <td>8.0</td>\n    </tr>\n    <tr>\n      <th>3421070</th>\n      <td>16953.0</td>\n      <td>2.0</td>\n      <td>1.0</td>\n      <td>139822.0</td>\n      <td>train</td>\n      <td>15.0</td>\n      <td>6.0</td>\n      <td>10.0</td>\n      <td>8.0</td>\n    </tr>\n    <tr>\n      <th>3421070</th>\n      <td>4724.0</td>\n      <td>3.0</td>\n      <td>1.0</td>\n      <td>139822.0</td>\n      <td>train</td>\n      <td>15.0</td>\n      <td>6.0</td>\n      <td>10.0</td>\n      <td>8.0</td>\n    </tr>\n  </tbody>\n</table>\n<p>1325747 rows × 9 columns</p>\n</div>"
     },
     "execution_count": 102,
     "metadata": {},
     "output_type": "execute_result"
    }
   ],
   "source": [
    "df_train = transaction_items_train.join(transactions)\n",
    "df_train"
   ],
   "metadata": {
    "collapsed": false,
    "ExecuteTime": {
     "end_time": "2023-05-20T12:01:55.461626874Z",
     "start_time": "2023-05-20T12:01:50.512853134Z"
    }
   }
  },
  {
   "cell_type": "code",
   "execution_count": 103,
   "outputs": [
    {
     "name": "stdout",
     "output_type": "stream",
     "text": [
      "<class 'pandas.core.frame.DataFrame'>\n",
      "Index: 1325747 entries, 1 to 3421070\n",
      "Data columns (total 9 columns):\n",
      " #   Column                  Non-Null Count    Dtype \n",
      "---  ------                  --------------    ----- \n",
      " 0   item_id                 1304733 non-null  object\n",
      " 1   add_to_cart_order       1305298 non-null  object\n",
      " 2   previous_bought         1304858 non-null  object\n",
      " 3   customer_id             1248424 non-null  object\n",
      " 4   eval_set                1247345 non-null  object\n",
      " 5   transaction_number      1249106 non-null  object\n",
      " 6   day_of_week             1249152 non-null  object\n",
      " 7   time_of_day             1248781 non-null  object\n",
      " 8   days_since_prior_order  1248037 non-null  object\n",
      "dtypes: object(9)\n",
      "memory usage: 101.1+ MB\n"
     ]
    }
   ],
   "source": [
    "df_train.info()"
   ],
   "metadata": {
    "collapsed": false,
    "ExecuteTime": {
     "end_time": "2023-05-20T12:01:56.351212983Z",
     "start_time": "2023-05-20T12:01:56.319865659Z"
    }
   }
  },
  {
   "cell_type": "code",
   "execution_count": null,
   "outputs": [],
   "source": [],
   "metadata": {
    "collapsed": false
   }
  }
 ],
 "metadata": {
  "kernelspec": {
   "name": "python3",
   "language": "python",
   "display_name": "Python 3 (ipykernel)"
  }
 },
 "nbformat": 4,
 "nbformat_minor": 5
}
