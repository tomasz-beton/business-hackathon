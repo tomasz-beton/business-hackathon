{
 "cells": [
  {
   "cell_type": "code",
   "execution_count": 3,
   "outputs": [],
   "source": [
    "import pandas as pd"
   ],
   "metadata": {
    "collapsed": false,
    "ExecuteTime": {
     "end_time": "2023-05-20T19:31:50.227417658Z",
     "start_time": "2023-05-20T19:31:49.175903916Z"
    }
   }
  },
  {
   "cell_type": "code",
   "execution_count": 4,
   "outputs": [],
   "source": [
    "item_features = pd.read_parquet(\"features/item_features.parquet\")\n",
    "\n",
    "client_features = pd.read_parquet(\"features/client_features.parquet\")\n",
    "\n",
    "client_item_features = pd.read_parquet(\"features/client_item_features.parquet\")\n",
    "\n",
    "transaction_features = pd.read_parquet(\"features/transaction_features.parquet\")"
   ],
   "metadata": {
    "collapsed": false,
    "ExecuteTime": {
     "end_time": "2023-05-20T19:31:52.034507412Z",
     "start_time": "2023-05-20T19:31:50.214947590Z"
    }
   }
  },
  {
   "cell_type": "code",
   "execution_count": 5,
   "outputs": [],
   "source": [
    "transaction_items__train = pd.read_csv(\n",
    "    \"data/transaction_items__train.csv\",\n",
    "    na_values=\"unknown\",\n",
    "    dtype={\"transaction_id\": \"Int64\", \"item_id\": \"Int64\", \"add_to_cart_order\": \"Int64\", \"previous_bought\": \"Int64\"},\n",
    ")\n",
    "transaction_items__train.drop(columns=\"Unnamed: 0\", inplace=True)\n",
    "transaction_items__train.dropna(subset=[\"transaction_id\"], inplace=True)\n",
    "transaction_items__train.set_index(\"transaction_id\", inplace=True)"
   ],
   "metadata": {
    "collapsed": false,
    "ExecuteTime": {
     "end_time": "2023-05-20T19:31:57.489422258Z",
     "start_time": "2023-05-20T19:31:52.039704372Z"
    }
   }
  },
  {
   "cell_type": "code",
   "execution_count": 6,
   "outputs": [],
   "source": [
    "transaction_items__prior = pd.read_csv(\n",
    "    \"data/transaction_items__prior.csv\",\n",
    "    na_values=\"unknown\",\n",
    "    dtype={\"transaction_id\": \"Int64\", \"item_id\": \"Int64\", \"add_to_cart_order\": \"Int64\", \"previous_bought\": \"Int64\"},\n",
    ")\n",
    "\n",
    "transaction_items__prior.drop(columns=\"Unnamed: 0\", inplace=True)\n",
    "transaction_items__prior.dropna(subset=[\"transaction_id\"], inplace=True)\n",
    "transaction_items__prior.set_index(\"transaction_id\", inplace=True)"
   ],
   "metadata": {
    "collapsed": false,
    "ExecuteTime": {
     "end_time": "2023-05-20T19:34:01.745986230Z",
     "start_time": "2023-05-20T19:31:57.498567036Z"
    }
   }
  },
  {
   "cell_type": "code",
   "execution_count": 7,
   "outputs": [],
   "source": [
    "transactions = pd.read_csv(\n",
    "    \"data/transactions.csv\",\n",
    "    na_values=\"unknown\",\n",
    "    dtype={\n",
    "        \"transaction_id\": \"Int64\",\n",
    "        \"customer_id\": \"Int64\",\n",
    "        \"transaction_number\": \"Int64\",\n",
    "        \"day_of_week\": \"Int64\",\n",
    "        \"time_of_day\": \"Int64\",\n",
    "        \"days_since_prior_order\": \"Int64\",\n",
    "    },\n",
    ")\n",
    "\n",
    "transactions.drop(columns=\"Unnamed: 0\", inplace=True)\n",
    "transactions.dropna(subset=[\"transaction_id\"], inplace=True)\n",
    "transactions.set_index(\"transaction_id\", inplace=True)"
   ],
   "metadata": {
    "collapsed": false,
    "ExecuteTime": {
     "end_time": "2023-05-20T19:34:20.629830035Z",
     "start_time": "2023-05-20T19:34:01.791361722Z"
    }
   }
  },
  {
   "cell_type": "code",
   "execution_count": 8,
   "outputs": [],
   "source": [
    "df_prior = pd.merge(transaction_items__prior, transactions, on=\"transaction_id\")\n",
    "df_train = pd.merge(transaction_items__train, transactions, on=\"transaction_id\")"
   ],
   "metadata": {
    "collapsed": false,
    "ExecuteTime": {
     "end_time": "2023-05-20T19:34:32.203320537Z",
     "start_time": "2023-05-20T19:34:20.633355441Z"
    }
   }
  },
  {
   "cell_type": "code",
   "execution_count": 35,
   "outputs": [],
   "source": [
    "train_data = pd.DataFrame(index=df_prior.groupby([\"customer_id\", \"item_id\"]).size().index)\n",
    "train_data[\"y\"] = df_train.groupby([\"customer_id\", \"item_id\"]).agg({\"item_id\": \"count\"})\n",
    "train_data[\"y\"] = train_data[\"y\"].fillna(0)"
   ],
   "metadata": {
    "collapsed": false,
    "ExecuteTime": {
     "end_time": "2023-05-20T19:42:38.039666439Z",
     "start_time": "2023-05-20T19:42:20.364642307Z"
    }
   }
  },
  {
   "cell_type": "code",
   "execution_count": 36,
   "outputs": [
    {
     "data": {
      "text/plain": "                       y\ncustomer_id item_id     \n1           196      1.0\n            10258    1.0\n            10326    0.0\n            12427    0.0\n            13032    1.0\n...                  ...\n206209      43961    0.0\n            44325    0.0\n            48370    0.0\n            48697    0.0\n            48742    0.0\n\n[12140563 rows x 1 columns]",
      "text/html": "<div>\n<style scoped>\n    .dataframe tbody tr th:only-of-type {\n        vertical-align: middle;\n    }\n\n    .dataframe tbody tr th {\n        vertical-align: top;\n    }\n\n    .dataframe thead th {\n        text-align: right;\n    }\n</style>\n<table border=\"1\" class=\"dataframe\">\n  <thead>\n    <tr style=\"text-align: right;\">\n      <th></th>\n      <th></th>\n      <th>y</th>\n    </tr>\n    <tr>\n      <th>customer_id</th>\n      <th>item_id</th>\n      <th></th>\n    </tr>\n  </thead>\n  <tbody>\n    <tr>\n      <th rowspan=\"5\" valign=\"top\">1</th>\n      <th>196</th>\n      <td>1.0</td>\n    </tr>\n    <tr>\n      <th>10258</th>\n      <td>1.0</td>\n    </tr>\n    <tr>\n      <th>10326</th>\n      <td>0.0</td>\n    </tr>\n    <tr>\n      <th>12427</th>\n      <td>0.0</td>\n    </tr>\n    <tr>\n      <th>13032</th>\n      <td>1.0</td>\n    </tr>\n    <tr>\n      <th>...</th>\n      <th>...</th>\n      <td>...</td>\n    </tr>\n    <tr>\n      <th rowspan=\"5\" valign=\"top\">206209</th>\n      <th>43961</th>\n      <td>0.0</td>\n    </tr>\n    <tr>\n      <th>44325</th>\n      <td>0.0</td>\n    </tr>\n    <tr>\n      <th>48370</th>\n      <td>0.0</td>\n    </tr>\n    <tr>\n      <th>48697</th>\n      <td>0.0</td>\n    </tr>\n    <tr>\n      <th>48742</th>\n      <td>0.0</td>\n    </tr>\n  </tbody>\n</table>\n<p>12140563 rows × 1 columns</p>\n</div>"
     },
     "execution_count": 36,
     "metadata": {},
     "output_type": "execute_result"
    }
   ],
   "source": [
    "train_data"
   ],
   "metadata": {
    "collapsed": false,
    "ExecuteTime": {
     "end_time": "2023-05-20T19:42:38.117529688Z",
     "start_time": "2023-05-20T19:42:38.083699315Z"
    }
   }
  },
  {
   "cell_type": "code",
   "execution_count": 37,
   "metadata": {
    "collapsed": true,
    "ExecuteTime": {
     "end_time": "2023-05-20T19:42:41.453592591Z",
     "start_time": "2023-05-20T19:42:38.084034541Z"
    }
   },
   "outputs": [],
   "source": [
    "train_data = train_data.join(item_features, on=\"item_id\", rsuffix=\"__item\")"
   ]
  },
  {
   "cell_type": "code",
   "execution_count": 38,
   "outputs": [],
   "source": [
    "train_data = train_data.join(client_features, on=\"customer_id\", rsuffix=\"__client\")"
   ],
   "metadata": {
    "collapsed": false,
    "ExecuteTime": {
     "end_time": "2023-05-20T19:42:43.668265736Z",
     "start_time": "2023-05-20T19:42:41.459041318Z"
    }
   }
  },
  {
   "cell_type": "code",
   "execution_count": 39,
   "outputs": [],
   "source": [
    "train_data = train_data.join(client_item_features, on=[\"customer_id\", \"item_id\"], rsuffix=\"__client_item\")"
   ],
   "metadata": {
    "collapsed": false,
    "ExecuteTime": {
     "end_time": "2023-05-20T19:42:54.506878158Z",
     "start_time": "2023-05-20T19:42:43.672140432Z"
    }
   }
  },
  {
   "cell_type": "code",
   "execution_count": 40,
   "outputs": [],
   "source": [
    "customer_transaction = (\n",
    "    df_train[[\"customer_id\"]].reset_index().groupby([\"customer_id\", \"transaction_id\"]).count().reset_index(1)\n",
    ")\n",
    "train_data = train_data.join(customer_transaction)"
   ],
   "metadata": {
    "collapsed": false,
    "ExecuteTime": {
     "end_time": "2023-05-20T19:42:56.165157395Z",
     "start_time": "2023-05-20T19:42:54.511910477Z"
    }
   }
  },
  {
   "cell_type": "code",
   "execution_count": 41,
   "outputs": [],
   "source": [
    "train_data = train_data.join(transaction_features, on=\"transaction_id\", rsuffix=\"__transaction\")"
   ],
   "metadata": {
    "collapsed": false,
    "ExecuteTime": {
     "end_time": "2023-05-20T19:42:59.553570993Z",
     "start_time": "2023-05-20T19:42:56.172747529Z"
    }
   }
  },
  {
   "cell_type": "code",
   "execution_count": 43,
   "outputs": [],
   "source": [
    "train_data.dropna().to_parquet(\"sets/train_data.parquet\")"
   ],
   "metadata": {
    "collapsed": false,
    "ExecuteTime": {
     "end_time": "2023-05-20T19:43:33.779508336Z",
     "start_time": "2023-05-20T19:43:28.083048787Z"
    }
   }
  }
 ],
 "metadata": {
  "kernelspec": {
   "display_name": "Python 3",
   "language": "python",
   "name": "python3"
  },
  "language_info": {
   "codemirror_mode": {
    "name": "ipython",
    "version": 2
   },
   "file_extension": ".py",
   "mimetype": "text/x-python",
   "name": "python",
   "nbconvert_exporter": "python",
   "pygments_lexer": "ipython2",
   "version": "2.7.6"
  }
 },
 "nbformat": 4,
 "nbformat_minor": 0
}
