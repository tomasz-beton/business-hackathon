{
 "cells": [
  {
   "cell_type": "code",
   "execution_count": 22,
   "metadata": {
    "collapsed": true,
    "ExecuteTime": {
     "end_time": "2023-05-20T19:59:54.311623614Z",
     "start_time": "2023-05-20T19:59:54.256512684Z"
    }
   },
   "outputs": [],
   "source": [
    "import pandas as pd\n",
    "from xgboost import XGBClassifier\n",
    "import pickle\n",
    "\n",
    "from sklearn.preprocessing import MinMaxScaler, OneHotEncoder\n",
    "from sklearn.impute import SimpleImputer\n",
    "from sklearn.pipeline import Pipeline\n",
    "from sklearn.compose import ColumnTransformer"
   ]
  },
  {
   "cell_type": "code",
   "execution_count": 3,
   "outputs": [],
   "source": [
    "train_data = pd.read_parquet('sets/train_data.parquet')"
   ],
   "metadata": {
    "collapsed": false,
    "ExecuteTime": {
     "end_time": "2023-05-20T19:46:34.341896871Z",
     "start_time": "2023-05-20T19:46:30.515714055Z"
    }
   }
  },
  {
   "cell_type": "code",
   "execution_count": 8,
   "outputs": [],
   "source": [
    "X_train = train_data.drop(columns=['y', \"transaction_id\"])\n",
    "y_train = train_data['y']"
   ],
   "metadata": {
    "collapsed": false,
    "ExecuteTime": {
     "end_time": "2023-05-20T19:49:43.732394384Z",
     "start_time": "2023-05-20T19:49:42.505239158Z"
    }
   }
  },
  {
   "cell_type": "code",
   "execution_count": 18,
   "outputs": [
    {
     "data": {
      "text/plain": "        category   alley_id    order_rate  reorder_rate  n_transactions   \ncount  5632630.0  5632630.0  5.632630e+06     5632630.0       5632630.0  \\\nmean   10.206122  70.932405  6.904775e-03      0.539777       25.607568   \nstd     6.235037  38.076018  1.715602e-02       0.16176       22.350113   \nmin          1.0        1.0  3.354166e-07           0.0             1.0   \n25%          4.0       32.0  3.156270e-04      0.447738             9.0   \n50%         11.0       81.0  1.300075e-03      0.564538            18.0   \n75%         16.0      106.0  5.029572e-03       0.65514            35.0   \nmax         21.0      134.0  1.361879e-01           1.0            99.0   \n\n       avg_items_in_transaction  last_transaction  n_transactions_since_last   \ncount                 5632630.0         5632630.0                  5632630.0  \\\nmean                   11.10331         15.994724                   9.612844   \nstd                    5.606028         17.329369                  13.514316   \nmin                        0.25               1.0                        0.0   \n25%                        7.15               4.0                        1.0   \n50%                   10.035714              10.0                        4.0   \n75%                   13.923077              21.0                       12.0   \nmax                        74.0              99.0                       98.0   \n\n       n_transactions__client_item  reorder_rate__client_item  day_of_week   \ncount                 5.632630e+06                  5632630.0    5632630.0  \\\nmean                  2.353513e+00                   0.299311     2.769439   \nstd                   3.246146e+00                   0.371861     2.163596   \nmin                   1.000000e+00                        0.0          0.0   \n25%                   1.000000e+00                        0.0          1.0   \n50%                   1.000000e+00                        0.0          3.0   \n75%                   2.000000e+00                   0.666667          5.0   \nmax                   8.900000e+01                        1.0          6.0   \n\n       time_of_day  \ncount    5632630.0  \nmean     13.580566  \nstd       4.233456  \nmin            0.0  \n25%           10.0  \n50%           14.0  \n75%           17.0  \nmax           23.0  ",
      "text/html": "<div>\n<style scoped>\n    .dataframe tbody tr th:only-of-type {\n        vertical-align: middle;\n    }\n\n    .dataframe tbody tr th {\n        vertical-align: top;\n    }\n\n    .dataframe thead th {\n        text-align: right;\n    }\n</style>\n<table border=\"1\" class=\"dataframe\">\n  <thead>\n    <tr style=\"text-align: right;\">\n      <th></th>\n      <th>category</th>\n      <th>alley_id</th>\n      <th>order_rate</th>\n      <th>reorder_rate</th>\n      <th>n_transactions</th>\n      <th>avg_items_in_transaction</th>\n      <th>last_transaction</th>\n      <th>n_transactions_since_last</th>\n      <th>n_transactions__client_item</th>\n      <th>reorder_rate__client_item</th>\n      <th>day_of_week</th>\n      <th>time_of_day</th>\n    </tr>\n  </thead>\n  <tbody>\n    <tr>\n      <th>count</th>\n      <td>5632630.0</td>\n      <td>5632630.0</td>\n      <td>5.632630e+06</td>\n      <td>5632630.0</td>\n      <td>5632630.0</td>\n      <td>5632630.0</td>\n      <td>5632630.0</td>\n      <td>5632630.0</td>\n      <td>5.632630e+06</td>\n      <td>5632630.0</td>\n      <td>5632630.0</td>\n      <td>5632630.0</td>\n    </tr>\n    <tr>\n      <th>mean</th>\n      <td>10.206122</td>\n      <td>70.932405</td>\n      <td>6.904775e-03</td>\n      <td>0.539777</td>\n      <td>25.607568</td>\n      <td>11.10331</td>\n      <td>15.994724</td>\n      <td>9.612844</td>\n      <td>2.353513e+00</td>\n      <td>0.299311</td>\n      <td>2.769439</td>\n      <td>13.580566</td>\n    </tr>\n    <tr>\n      <th>std</th>\n      <td>6.235037</td>\n      <td>38.076018</td>\n      <td>1.715602e-02</td>\n      <td>0.16176</td>\n      <td>22.350113</td>\n      <td>5.606028</td>\n      <td>17.329369</td>\n      <td>13.514316</td>\n      <td>3.246146e+00</td>\n      <td>0.371861</td>\n      <td>2.163596</td>\n      <td>4.233456</td>\n    </tr>\n    <tr>\n      <th>min</th>\n      <td>1.0</td>\n      <td>1.0</td>\n      <td>3.354166e-07</td>\n      <td>0.0</td>\n      <td>1.0</td>\n      <td>0.25</td>\n      <td>1.0</td>\n      <td>0.0</td>\n      <td>1.000000e+00</td>\n      <td>0.0</td>\n      <td>0.0</td>\n      <td>0.0</td>\n    </tr>\n    <tr>\n      <th>25%</th>\n      <td>4.0</td>\n      <td>32.0</td>\n      <td>3.156270e-04</td>\n      <td>0.447738</td>\n      <td>9.0</td>\n      <td>7.15</td>\n      <td>4.0</td>\n      <td>1.0</td>\n      <td>1.000000e+00</td>\n      <td>0.0</td>\n      <td>1.0</td>\n      <td>10.0</td>\n    </tr>\n    <tr>\n      <th>50%</th>\n      <td>11.0</td>\n      <td>81.0</td>\n      <td>1.300075e-03</td>\n      <td>0.564538</td>\n      <td>18.0</td>\n      <td>10.035714</td>\n      <td>10.0</td>\n      <td>4.0</td>\n      <td>1.000000e+00</td>\n      <td>0.0</td>\n      <td>3.0</td>\n      <td>14.0</td>\n    </tr>\n    <tr>\n      <th>75%</th>\n      <td>16.0</td>\n      <td>106.0</td>\n      <td>5.029572e-03</td>\n      <td>0.65514</td>\n      <td>35.0</td>\n      <td>13.923077</td>\n      <td>21.0</td>\n      <td>12.0</td>\n      <td>2.000000e+00</td>\n      <td>0.666667</td>\n      <td>5.0</td>\n      <td>17.0</td>\n    </tr>\n    <tr>\n      <th>max</th>\n      <td>21.0</td>\n      <td>134.0</td>\n      <td>1.361879e-01</td>\n      <td>1.0</td>\n      <td>99.0</td>\n      <td>74.0</td>\n      <td>99.0</td>\n      <td>98.0</td>\n      <td>8.900000e+01</td>\n      <td>1.0</td>\n      <td>6.0</td>\n      <td>23.0</td>\n    </tr>\n  </tbody>\n</table>\n</div>"
     },
     "execution_count": 18,
     "metadata": {},
     "output_type": "execute_result"
    }
   ],
   "source": [
    "X_train.describe()"
   ],
   "metadata": {
    "collapsed": false,
    "ExecuteTime": {
     "end_time": "2023-05-20T19:55:21.593300457Z",
     "start_time": "2023-05-20T19:55:18.579581610Z"
    }
   }
  },
  {
   "cell_type": "code",
   "execution_count": 12,
   "outputs": [],
   "source": [
    "cat_features = [\"category\", \"alley_id\", \"day_of_week\", \"time_of_day\"]\n",
    "num_features = [c for c in X_train.columns if c not in cat_features]"
   ],
   "metadata": {
    "collapsed": false,
    "ExecuteTime": {
     "end_time": "2023-05-20T19:53:59.303448068Z",
     "start_time": "2023-05-20T19:53:59.261482142Z"
    }
   }
  },
  {
   "cell_type": "code",
   "execution_count": 19,
   "outputs": [],
   "source": [
    "preprocessor = ColumnTransformer(\n",
    "    transformers=[\n",
    "        ('num', Pipeline([\n",
    "           # (\"imputer\", SimpleImputer(strategy='median')),\n",
    "            (\"min_max_scaler\", MinMaxScaler())\n",
    "        ]), num_features),\n",
    "        ('cat', Pipeline([\n",
    "           # ('imputer', SimpleImputer(strategy='constant', fill_value='missing')),\n",
    "            ('onehot', OneHotEncoder(handle_unknown='ignore', sparse=True))\n",
    "        ]), cat_features),\n",
    "    ],\n",
    "    remainder='passthrough'\n",
    ")"
   ],
   "metadata": {
    "collapsed": false,
    "ExecuteTime": {
     "end_time": "2023-05-20T19:56:14.438820011Z",
     "start_time": "2023-05-20T19:56:14.387550212Z"
    }
   }
  },
  {
   "cell_type": "code",
   "execution_count": 20,
   "outputs": [
    {
     "name": "stderr",
     "output_type": "stream",
     "text": [
      "/home/woj/business-hackathon/venv/lib/python3.10/site-packages/sklearn/preprocessing/_encoders.py:868: FutureWarning: `sparse` was renamed to `sparse_output` in version 1.2 and will be removed in 1.4. `sparse_output` is ignored unless you leave `sparse` to its default value.\n",
      "  warnings.warn(\n"
     ]
    }
   ],
   "source": [
    "X_train_processed = preprocessor.fit_transform(X_train)"
   ],
   "metadata": {
    "collapsed": false,
    "ExecuteTime": {
     "end_time": "2023-05-20T19:56:29.779733376Z",
     "start_time": "2023-05-20T19:56:14.956310280Z"
    }
   }
  },
  {
   "cell_type": "code",
   "execution_count": 23,
   "outputs": [],
   "source": [
    "xgb = XGBClassifier(\n",
    "    objective='binary:logistic',\n",
    "    eval_metric='logloss',\n",
    "    scale_pos_weight=y_train.value_counts()[0]/y_train.value_counts()[1]\n",
    ")\n",
    "\n",
    "xgb.fit(X_train_processed, y_train)\n",
    "\n",
    "classifier = Pipeline([\n",
    "    ('preprocessor', preprocessor),\n",
    "    ('classifier', xgb),\n",
    "])\n",
    "\n",
    "\n",
    "\n",
    "\n",
    "with open('xgboost.pkl', 'wb') as f:\n",
    "    pickle.dump(classifier, f)"
   ],
   "metadata": {
    "collapsed": false,
    "ExecuteTime": {
     "end_time": "2023-05-20T20:04:16.187495829Z",
     "start_time": "2023-05-20T20:00:30.644427435Z"
    }
   }
  },
  {
   "cell_type": "code",
   "execution_count": null,
   "outputs": [],
   "source": [
    "with open('xgboost.pkl', 'r') as f:\n",
    "    clf ="
   ],
   "metadata": {
    "collapsed": false
   }
  }
 ],
 "metadata": {
  "kernelspec": {
   "display_name": "Python 3",
   "language": "python",
   "name": "python3"
  },
  "language_info": {
   "codemirror_mode": {
    "name": "ipython",
    "version": 2
   },
   "file_extension": ".py",
   "mimetype": "text/x-python",
   "name": "python",
   "nbconvert_exporter": "python",
   "pygments_lexer": "ipython2",
   "version": "2.7.6"
  }
 },
 "nbformat": 4,
 "nbformat_minor": 0
}
