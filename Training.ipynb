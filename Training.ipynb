{
 "cells": [
  {
   "cell_type": "code",
   "execution_count": 14,
   "metadata": {
    "collapsed": true,
    "ExecuteTime": {
     "end_time": "2023-05-21T12:58:01.276241814Z",
     "start_time": "2023-05-21T12:58:01.258948111Z"
    }
   },
   "outputs": [],
   "source": [
    "import pandas as pd\n",
    "import xgboost\n",
    "from xgboost import XGBClassifier\n",
    "import xgboost\n",
    "import pickle\n",
    "import numpy as np\n",
    "from time import time"
   ]
  },
  {
   "cell_type": "code",
   "execution_count": 2,
   "outputs": [],
   "source": [
    "train_data = pd.read_parquet(\"sets/train_data.parquet\")"
   ],
   "metadata": {
    "collapsed": false,
    "ExecuteTime": {
     "end_time": "2023-05-21T12:40:53.300516020Z",
     "start_time": "2023-05-21T12:40:52.425814032Z"
    }
   }
  },
  {
   "cell_type": "code",
   "execution_count": 3,
   "outputs": [],
   "source": [
    "from sklearn.model_selection import train_test_split\n",
    "\n",
    "X_train, X_val, y_train, y_val = train_test_split(\n",
    "    train_data.drop(columns=[\"y\", \"transaction_id\"]), train_data[\"y\"], test_size=0.2, random_state=0\n",
    ")"
   ],
   "metadata": {
    "collapsed": false,
    "ExecuteTime": {
     "end_time": "2023-05-21T12:40:53.801077522Z",
     "start_time": "2023-05-21T12:40:53.300732665Z"
    }
   }
  },
  {
   "cell_type": "code",
   "execution_count": 4,
   "outputs": [],
   "source": [
    "cat_features = [\"category\", \"alley_id\", \"day_of_week\", \"time_of_day\"]\n",
    "num_features = [c for c in X_train.columns if c not in cat_features]"
   ],
   "metadata": {
    "collapsed": false,
    "ExecuteTime": {
     "end_time": "2023-05-21T12:40:53.801541228Z",
     "start_time": "2023-05-21T12:40:53.801284409Z"
    }
   }
  },
  {
   "cell_type": "code",
   "execution_count": 5,
   "outputs": [],
   "source": [
    "from sklearn.preprocessing import MinMaxScaler, OneHotEncoder\n",
    "from sklearn.pipeline import Pipeline\n",
    "from sklearn.compose import ColumnTransformer\n",
    "from sklearn.impute import SimpleImputer\n",
    "\n",
    "preprocessor = ColumnTransformer(\n",
    "    transformers=[\n",
    "        (\n",
    "            \"num\",\n",
    "            Pipeline(\n",
    "                [\n",
    "                    # (\"imputer\", SimpleImputer(strategy='median')),\n",
    "                    (\"min_max_scaler\", MinMaxScaler())\n",
    "                ]\n",
    "            ),\n",
    "            num_features,\n",
    "        ),\n",
    "        (\n",
    "            \"cat\",\n",
    "            Pipeline(\n",
    "                [\n",
    "                    # ('imputer', SimpleImputer(strategy='constant', fill_value='missing')),\n",
    "                    (\"onehot\", OneHotEncoder(handle_unknown=\"ignore\", sparse_output=True))\n",
    "                ]\n",
    "            ),\n",
    "            cat_features,\n",
    "        ),\n",
    "    ],\n",
    "    remainder=\"passthrough\",\n",
    ")"
   ],
   "metadata": {
    "collapsed": false,
    "ExecuteTime": {
     "end_time": "2023-05-21T12:40:53.872921507Z",
     "start_time": "2023-05-21T12:40:53.801692233Z"
    }
   }
  },
  {
   "cell_type": "code",
   "execution_count": 6,
   "outputs": [],
   "source": [
    "X_train_processed = preprocessor.fit_transform(X_train)\n",
    "X_val_processed = preprocessor.transform(X_val)\n",
    "\n",
    "feature_names = preprocessor.get_feature_names_out()"
   ],
   "metadata": {
    "collapsed": false,
    "ExecuteTime": {
     "end_time": "2023-05-21T12:40:54.474486390Z",
     "start_time": "2023-05-21T12:40:53.918764257Z"
    }
   }
  },
  {
   "cell_type": "code",
   "execution_count": 7,
   "outputs": [
    {
     "name": "stdout",
     "output_type": "stream",
     "text": [
      "Fitting 1 folds for each of 12 candidates, totalling 12 fits\n",
      "[CV 1/1] END learning_rate=0.05, max_depth=4, n_estimators=300;, score=0.362 total time= 2.1min\n",
      "[CV 1/1] END learning_rate=0.05, max_depth=4, n_estimators=500;, score=0.362 total time= 2.9min\n",
      "[CV 1/1] END learning_rate=0.05, max_depth=4, n_estimators=700;, score=0.364 total time= 5.0min\n",
      "[CV 1/1] END learning_rate=0.05, max_depth=6, n_estimators=300;, score=0.364 total time= 2.8min\n",
      "[CV 1/1] END learning_rate=0.05, max_depth=6, n_estimators=500;, score=0.366 total time= 4.1min\n",
      "[CV 1/1] END learning_rate=0.05, max_depth=6, n_estimators=700;, score=0.371 total time= 5.8min\n",
      "[CV 1/1] END learning_rate=0.1, max_depth=4, n_estimators=300;, score=0.362 total time=  1.6min\n",
      "[CV 1/1] END learning_rate=0.1, max_depth=4, n_estimators=500;, score=0.364 total time=  2.8min\n",
      "[CV 1/1] END learning_rate=0.1, max_depth=4, n_estimators=700;, score=0.366 total time=  3.7min\n",
      "[CV 1/1] END learning_rate=0.1, max_depth=6, n_estimators=300;, score=0.367 total time=  4.1min\n",
      "[CV 1/1] END learning_rate=0.1, max_depth=6, n_estimators=500;, score=0.369 total time=  6.0min\n",
      "[CV 1/1] END learning_rate=0.1, max_depth=6, n_estimators=700;, score=0.375 total time=  1.2min\n",
      "Total time:  3010.555717945099\n",
      "Best hyperparameters: {'learning_rate': 0.1, 'max_depth': 6, 'n_estimators': 700}\n",
      "Best score:  0.374957534442245\n"
     ]
    }
   ],
   "source": [
    "from sklearn.model_selection import GridSearchCV, ShuffleSplit\n",
    "\n",
    "param_grid = {\n",
    "    \"max_depth\": [4, 6],\n",
    "    \"learning_rate\": [0.05, 0.1],\n",
    "    \"n_estimators\": [300, 500, 700],\n",
    "}\n",
    "\n",
    "xgb = XGBClassifier(\n",
    "    objective=\"binary:logistic\",\n",
    "    eval_metric=\"logloss\",\n",
    "    scale_pos_weight=y_train.value_counts()[0] / y_train.value_counts()[1],\n",
    ")\n",
    "\n",
    "search = GridSearchCV(\n",
    "    xgb, param_grid, cv=ShuffleSplit(n_splits=1, test_size=0.20, random_state=0), scoring=\"f1\", verbose=3\n",
    ")\n",
    "\n",
    "start = time()\n",
    "search.fit(X_train_processed, y_train)\n",
    "end = time()\n",
    "\n",
    "print(\"Total time: \", end - start)\n",
    "\n",
    "print(\"Best hyperparameters:\", search.best_params_)\n",
    "\n",
    "print(\"Best score: \", search.best_score_)\n",
    "\n",
    "classifier = Pipeline(\n",
    "    [\n",
    "        (\"preprocessor\", preprocessor),\n",
    "        (\"classifier\", search.best_estimator_),\n",
    "    ]\n",
    ")\n",
    "\n",
    "with open(\"xgboost.pkl\", \"wb\") as f:\n",
    "    pickle.dump(classifier, f)"
   ],
   "metadata": {
    "collapsed": false,
    "ExecuteTime": {
     "end_time": "2023-05-21T12:50:56.654915107Z",
     "start_time": "2023-05-21T12:40:54.478839617Z"
    }
   }
  },
  {
   "cell_type": "code",
   "execution_count": 10,
   "outputs": [
    {
     "name": "stdout",
     "output_type": "stream",
     "text": [
      "AUROC 0.8144532118896244\n",
      "              precision    recall  f1-score   support\n",
      "\n",
      "         0.0       0.96      0.76      0.85    1015530\n",
      "         1.0       0.25      0.74      0.37     111000\n",
      "\n",
      "    accuracy                           0.77    1126530\n",
      "   macro avg       0.60      0.74      0.61    1126530\n",
      "weighted avg       0.89      0.76      0.80    1126530\n",
      "\n"
     ]
    }
   ],
   "source": [
    "from sklearn.metrics import roc_auc_score\n",
    "from sklearn.metrics import classification_report\n",
    "\n",
    "xgb = search.best_estimator_\n",
    "y_pred = xgb.predict_proba(X_val_processed)[:, 1]\n",
    "auroc = roc_auc_score(y_val, y_pred)\n",
    "\n",
    "print(\"AUROC\", auroc)\n",
    "print(classification_report(y_val, y_pred > 0.5))"
   ],
   "metadata": {
    "collapsed": false,
    "ExecuteTime": {
     "end_time": "2023-05-21T12:57:14.807496799Z",
     "start_time": "2023-05-21T12:57:13.583094127Z"
    }
   }
  },
  {
   "cell_type": "code",
   "execution_count": 26,
   "outputs": [
    {
     "data": {
      "text/plain": "<BarContainer object of 10 artists>"
     },
     "execution_count": 26,
     "metadata": {},
     "output_type": "execute_result"
    },
    {
     "data": {
      "text/plain": "<Figure size 1000x1200 with 1 Axes>",
      "image/png": "[encoded data removed]"
     },
     "metadata": {},
     "output_type": "display_data"
    }
   ],
   "source": [
    "from matplotlib import pyplot as plt\n",
    "\n",
    "fig, ax = plt.subplots(1, figsize=(10, 12))\n",
    "ax.set_title(\"XGBoost feature importances\")\n",
    "\n",
    "sorted_coefficients = sorted(\n",
    "    zip(feature_names, xgb.feature_importances_),\n",
    "    key=lambda x: x[1],\n",
    ")\n",
    "\n",
    "ax.barh(*zip(*sorted_coefficients[-10:]))"
   ],
   "metadata": {
    "collapsed": false,
    "ExecuteTime": {
     "end_time": "2023-05-21T13:00:11.068926013Z",
     "start_time": "2023-05-21T13:00:10.744831198Z"
    }
   }
  },
  {
   "cell_type": "code",
   "execution_count": 27,
   "outputs": [],
   "source": [
    "classifier = Pipeline(\n",
    "    [\n",
    "        (\"preprocessor\", preprocessor),\n",
    "        (\"classifier\", xgb),\n",
    "    ]\n",
    ")\n",
    "\n",
    "with open(\"xgboost.pkl\", \"wb\") as f:\n",
    "    pickle.dump(classifier, f)"
   ],
   "metadata": {
    "collapsed": false,
    "ExecuteTime": {
     "end_time": "2023-05-21T13:01:32.838986380Z",
     "start_time": "2023-05-21T13:01:32.782760938Z"
    }
   }
  },
  {
   "cell_type": "code",
   "execution_count": null,
   "outputs": [],
   "source": [],
   "metadata": {
    "collapsed": false
   }
  }
 ],
 "metadata": {
  "kernelspec": {
   "display_name": "Python 3",
   "language": "python",
   "name": "python3"
  },
  "language_info": {
   "codemirror_mode": {
    "name": "ipython",
    "version": 2
   },
   "file_extension": ".py",
   "mimetype": "text/x-python",
   "name": "python",
   "nbconvert_exporter": "python",
   "pygments_lexer": "ipython2",
   "version": "2.7.6"
  }
 },
 "nbformat": 4,
 "nbformat_minor": 0
}
